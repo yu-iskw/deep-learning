{
 "cells": [
  {
   "cell_type": "markdown",
   "metadata": {
    "collapsed": true
   },
   "source": [
    "# Language Translation\n",
    "In this project, you’re going to take a peek into the realm of neural network machine translation.  You’ll be training a sequence to sequence model on a dataset of English and French sentences that can translate new sentences from English to French.\n",
    "## Get the Data\n",
    "Since translating the whole language of English to French will take lots of time to train, we have provided you with a small portion of the English corpus."
   ]
  },
  {
   "cell_type": "code",
   "execution_count": 1,
   "metadata": {
    "ExecuteTime": {
     "end_time": "2017-07-03T01:00:44.183442Z",
     "start_time": "2017-07-02T18:00:44.138919-07:00"
    },
    "collapsed": true
   },
   "outputs": [],
   "source": [
    "\"\"\"\n",
    "DON'T MODIFY ANYTHING IN THIS CELL\n",
    "\"\"\"\n",
    "import helper\n",
    "import problem_unittests as tests\n",
    "\n",
    "source_path = 'data/small_vocab_en'\n",
    "target_path = 'data/small_vocab_fr'\n",
    "source_text = helper.load_data(source_path)\n",
    "target_text = helper.load_data(target_path)"
   ]
  },
  {
   "cell_type": "markdown",
   "metadata": {},
   "source": [
    "## Explore the Data\n",
    "Play around with view_sentence_range to view different parts of the data."
   ]
  },
  {
   "cell_type": "code",
   "execution_count": 2,
   "metadata": {
    "ExecuteTime": {
     "end_time": "2017-07-03T01:00:45.858063Z",
     "start_time": "2017-07-02T18:00:45.216373-07:00"
    }
   },
   "outputs": [
    {
     "name": "stdout",
     "output_type": "stream",
     "text": [
      "Dataset Stats\n",
      "Roughly the number of unique words: 227\n",
      "Number of sentences: 137861\n",
      "Average number of words in a sentence: 13.225277634719028\n",
      "\n",
      "English sentences 0 to 10:\n",
      "new jersey is sometimes quiet during autumn , and it is snowy in april .\n",
      "the united states is usually chilly during july , and it is usually freezing in november .\n",
      "california is usually quiet during march , and it is usually hot in june .\n",
      "the united states is sometimes mild during june , and it is cold in september .\n",
      "your least liked fruit is the grape , but my least liked is the apple .\n",
      "his favorite fruit is the orange , but my favorite is the grape .\n",
      "paris is relaxing during december , but it is usually chilly in july .\n",
      "new jersey is busy during spring , and it is never hot in march .\n",
      "our least liked fruit is the lemon , but my least liked is the grape .\n",
      "the united states is sometimes busy during january , and it is sometimes warm in november .\n",
      "\n",
      "French sentences 0 to 10:\n",
      "new jersey est parfois calme pendant l' automne , et il est neigeux en avril .\n",
      "les états-unis est généralement froid en juillet , et il gèle habituellement en novembre .\n",
      "california est généralement calme en mars , et il est généralement chaud en juin .\n",
      "les états-unis est parfois légère en juin , et il fait froid en septembre .\n",
      "votre moins aimé fruit est le raisin , mais mon moins aimé est la pomme .\n",
      "son fruit préféré est l'orange , mais mon préféré est le raisin .\n",
      "paris est relaxant en décembre , mais il est généralement froid en juillet .\n",
      "new jersey est occupé au printemps , et il est jamais chaude en mars .\n",
      "notre fruit est moins aimé le citron , mais mon moins aimé est le raisin .\n",
      "les états-unis est parfois occupé en janvier , et il est parfois chaud en novembre .\n"
     ]
    }
   ],
   "source": [
    "view_sentence_range = (0, 10)\n",
    "\n",
    "\"\"\"\n",
    "DON'T MODIFY ANYTHING IN THIS CELL\n",
    "\"\"\"\n",
    "import numpy as np\n",
    "\n",
    "print('Dataset Stats')\n",
    "print('Roughly the number of unique words: {}'.format(len({word: None for word in source_text.split()})))\n",
    "\n",
    "sentences = source_text.split('\\n')\n",
    "word_counts = [len(sentence.split()) for sentence in sentences]\n",
    "print('Number of sentences: {}'.format(len(sentences)))\n",
    "print('Average number of words in a sentence: {}'.format(np.average(word_counts)))\n",
    "\n",
    "print()\n",
    "print('English sentences {} to {}:'.format(*view_sentence_range))\n",
    "print('\\n'.join(source_text.split('\\n')[view_sentence_range[0]:view_sentence_range[1]]))\n",
    "print()\n",
    "print('French sentences {} to {}:'.format(*view_sentence_range))\n",
    "print('\\n'.join(target_text.split('\\n')[view_sentence_range[0]:view_sentence_range[1]]))"
   ]
  },
  {
   "cell_type": "markdown",
   "metadata": {},
   "source": [
    "## Implement Preprocessing Function\n",
    "### Text to Word Ids\n",
    "As you did with other RNNs, you must turn the text into a number so the computer can understand it. In the function `text_to_ids()`, you'll turn `source_text` and `target_text` from words to ids.  However, you need to add the `<EOS>` word id at the end of `target_text`.  This will help the neural network predict when the sentence should end.\n",
    "\n",
    "You can get the `<EOS>` word id by doing:\n",
    "```python\n",
    "target_vocab_to_int['<EOS>']\n",
    "```\n",
    "You can get other word ids using `source_vocab_to_int` and `target_vocab_to_int`."
   ]
  },
  {
   "cell_type": "code",
   "execution_count": 3,
   "metadata": {
    "ExecuteTime": {
     "end_time": "2017-07-03T01:02:15.143792Z",
     "start_time": "2017-07-02T18:02:15.130678-07:00"
    }
   },
   "outputs": [
    {
     "name": "stdout",
     "output_type": "stream",
     "text": [
      "Tests Passed\n"
     ]
    }
   ],
   "source": [
    "def text_to_ids(source_text, target_text, source_vocab_to_int, target_vocab_to_int):\n",
    "    \"\"\"\n",
    "    Convert source and target text to proper word ids\n",
    "    :param source_text: String that contains all the source text.\n",
    "    :param target_text: String that contains all the target text.\n",
    "    :param source_vocab_to_int: Dictionary to go from the source words to an id\n",
    "    :param target_vocab_to_int: Dictionary to go from the target words to an id\n",
    "    :return: A tuple of lists (source_id_text, target_id_text)\n",
    "    \"\"\"\n",
    "    # TODO: Implement Function\n",
    "    source_id_text = [[source_vocab_to_int[word] for word in sentence.split()] for sentence in source_text.split('\\n')]\n",
    "    target_id_text = [[target_vocab_to_int[word] for word in sentence.split() + ['<EOS>']] for sentence in target_text.split('\\n')]\n",
    "    return source_id_text, target_id_text\n",
    "\n",
    "\"\"\"\n",
    "DON'T MODIFY ANYTHING IN THIS CELL THAT IS BELOW THIS LINE\n",
    "\"\"\"\n",
    "tests.test_text_to_ids(text_to_ids)"
   ]
  },
  {
   "cell_type": "markdown",
   "metadata": {},
   "source": [
    "### Preprocess all the data and save it\n",
    "Running the code cell below will preprocess all the data and save it to file."
   ]
  },
  {
   "cell_type": "code",
   "execution_count": 4,
   "metadata": {
    "ExecuteTime": {
     "end_time": "2017-07-03T01:02:26.136932Z",
     "start_time": "2017-07-02T18:02:23.546650-07:00"
    },
    "collapsed": true
   },
   "outputs": [],
   "source": [
    "\"\"\"\n",
    "DON'T MODIFY ANYTHING IN THIS CELL\n",
    "\"\"\"\n",
    "helper.preprocess_and_save_data(source_path, target_path, text_to_ids)"
   ]
  },
  {
   "cell_type": "markdown",
   "metadata": {},
   "source": [
    "# Check Point\n",
    "This is your first checkpoint. If you ever decide to come back to this notebook or have to restart the notebook, you can start from here. The preprocessed data has been saved to disk."
   ]
  },
  {
   "cell_type": "code",
   "execution_count": 5,
   "metadata": {
    "ExecuteTime": {
     "end_time": "2017-07-03T01:02:29.440180Z",
     "start_time": "2017-07-02T18:02:28.931978-07:00"
    },
    "collapsed": true
   },
   "outputs": [],
   "source": [
    "\"\"\"\n",
    "DON'T MODIFY ANYTHING IN THIS CELL\n",
    "\"\"\"\n",
    "import numpy as np\n",
    "import helper\n",
    "\n",
    "(source_int_text, target_int_text), (source_vocab_to_int, target_vocab_to_int), _ = helper.load_preprocess()"
   ]
  },
  {
   "cell_type": "markdown",
   "metadata": {},
   "source": [
    "### Check the Version of TensorFlow and Access to GPU\n",
    "This will check to make sure you have the correct version of TensorFlow and access to a GPU"
   ]
  },
  {
   "cell_type": "code",
   "execution_count": 6,
   "metadata": {
    "ExecuteTime": {
     "end_time": "2017-07-03T01:02:31.981345Z",
     "start_time": "2017-07-02T18:02:31.963185-07:00"
    }
   },
   "outputs": [
    {
     "name": "stdout",
     "output_type": "stream",
     "text": [
      "TensorFlow Version: 1.1.0\n",
      "Default GPU Device: /gpu:0\n"
     ]
    }
   ],
   "source": [
    "\"\"\"\n",
    "DON'T MODIFY ANYTHING IN THIS CELL\n",
    "\"\"\"\n",
    "from distutils.version import LooseVersion\n",
    "import warnings\n",
    "import tensorflow as tf\n",
    "from tensorflow.python.layers.core import Dense\n",
    "\n",
    "# Check TensorFlow Version\n",
    "assert LooseVersion(tf.__version__) >= LooseVersion('1.1'), 'Please use TensorFlow version 1.1 or newer'\n",
    "print('TensorFlow Version: {}'.format(tf.__version__))\n",
    "\n",
    "# Check for a GPU\n",
    "if not tf.test.gpu_device_name():\n",
    "    warnings.warn('No GPU found. Please use a GPU to train your neural network.')\n",
    "else:\n",
    "    print('Default GPU Device: {}'.format(tf.test.gpu_device_name()))"
   ]
  },
  {
   "cell_type": "markdown",
   "metadata": {},
   "source": [
    "## Build the Neural Network\n",
    "You'll build the components necessary to build a Sequence-to-Sequence model by implementing the following functions below:\n",
    "- `model_inputs`\n",
    "- `process_decoder_input`\n",
    "- `encoding_layer`\n",
    "- `decoding_layer_train`\n",
    "- `decoding_layer_infer`\n",
    "- `decoding_layer`\n",
    "- `seq2seq_model`\n",
    "\n",
    "### Input\n",
    "Implement the `model_inputs()` function to create TF Placeholders for the Neural Network. It should create the following placeholders:\n",
    "\n",
    "- Input text placeholder named \"input\" using the TF Placeholder name parameter with rank 2.\n",
    "- Targets placeholder with rank 2.\n",
    "- Learning rate placeholder with rank 0.\n",
    "- Keep probability placeholder named \"keep_prob\" using the TF Placeholder name parameter with rank 0.\n",
    "- Target sequence length placeholder named \"target_sequence_length\" with rank 1\n",
    "- Max target sequence length tensor named \"max_target_len\" getting its value from applying tf.reduce_max on the target_sequence_length placeholder. Rank 0.\n",
    "- Source sequence length placeholder named \"source_sequence_length\" with rank 1\n",
    "\n",
    "Return the placeholders in the following the tuple (input, targets, learning rate, keep probability, target sequence length, max target sequence length, source sequence length)"
   ]
  },
  {
   "cell_type": "code",
   "execution_count": 7,
   "metadata": {
    "ExecuteTime": {
     "end_time": "2017-07-03T02:38:48.799053Z",
     "start_time": "2017-07-02T19:38:48.749906-07:00"
    }
   },
   "outputs": [
    {
     "name": "stdout",
     "output_type": "stream",
     "text": [
      "Tests Passed\n"
     ]
    }
   ],
   "source": [
    "def model_inputs():\n",
    "    \"\"\"\n",
    "    Create TF Placeholders for input, targets, learning rate, and lengths of source and target sequences.\n",
    "    :return: Tuple (input, targets, learning rate, keep probability, target sequence length,\n",
    "    max target sequence length, source sequence length)\n",
    "    \"\"\"\n",
    "    # TODO: Implement Function\n",
    "    input_ = tf.placeholder(dtype=tf.int32, shape=[None, None], name=\"input\")\n",
    "    targets = tf.placeholder(dtype=tf.int32, shape=[None, None], name=\"targets\")\n",
    "    lr = tf.placeholder(dtype=tf.float32, name=\"learning_rate\")\n",
    "    keep_prob = tf.placeholder(dtype=tf.float32, name=\"keep_prob\")\n",
    "    target_sequence_length = tf.placeholder(dtype=tf.int32, shape=[None], name=\"target_sequence_length\")\n",
    "    max_target_len = tf.reduce_max(target_sequence_length, name=\"max_target_len\")\n",
    "    source_sequence_length = tf.placeholder(dtype=tf.int32, shape=[None], name=\"source_sequence_length\")\n",
    "    return input_, targets, lr, keep_prob, target_sequence_length, max_target_len, source_sequence_length\n",
    "\n",
    "\n",
    "\"\"\"\n",
    "DON'T MODIFY ANYTHING IN THIS CELL THAT IS BELOW THIS LINE\n",
    "\"\"\"\n",
    "tests.test_model_inputs(model_inputs)"
   ]
  },
  {
   "cell_type": "markdown",
   "metadata": {},
   "source": [
    "### Process Decoder Input\n",
    "Implement `process_decoder_input` by removing the last word id from each batch in `target_data` and concat the GO ID to the begining of each batch."
   ]
  },
  {
   "cell_type": "code",
   "execution_count": 8,
   "metadata": {
    "ExecuteTime": {
     "end_time": "2017-07-03T02:39:44.947941Z",
     "start_time": "2017-07-02T19:39:44.883517-07:00"
    }
   },
   "outputs": [
    {
     "name": "stdout",
     "output_type": "stream",
     "text": [
      "Tests Passed\n"
     ]
    }
   ],
   "source": [
    "def process_decoder_input(target_data, target_vocab_to_int, batch_size):\n",
    "    \"\"\"\n",
    "    Preprocess target data for encoding\n",
    "    :param target_data: Target Placehoder\n",
    "    :param target_vocab_to_int: Dictionary to go from the target words to an id\n",
    "    :param batch_size: Batch Size\n",
    "    :return: Preprocessed target data\n",
    "    \"\"\"\n",
    "    # TODO: Implement Function\n",
    "    sliced = tf.strided_slice(target_data, [0, 0], [batch_size, -1], [1, 1])\n",
    "    go = tf.fill([batch_size, 1], target_vocab_to_int['<GO>'])\n",
    "    return tf.concat([go, sliced], 1)\n",
    "\n",
    "\"\"\"\n",
    "DON'T MODIFY ANYTHING IN THIS CELL THAT IS BELOW THIS LINE\n",
    "\"\"\"\n",
    "tests.test_process_encoding_input(process_decoder_input)"
   ]
  },
  {
   "cell_type": "markdown",
   "metadata": {},
   "source": [
    "### Encoding\n",
    "Implement `encoding_layer()` to create a Encoder RNN layer:\n",
    " * Embed the encoder input using [`tf.contrib.layers.embed_sequence`](https://www.tensorflow.org/api_docs/python/tf/contrib/layers/embed_sequence)\n",
    " * Construct a [stacked](https://github.com/tensorflow/tensorflow/blob/6947f65a374ebf29e74bb71e36fd82760056d82c/tensorflow/docs_src/tutorials/recurrent.md#stacking-multiple-lstms) [`tf.contrib.rnn.LSTMCell`](https://www.tensorflow.org/api_docs/python/tf/contrib/rnn/LSTMCell) wrapped in a [`tf.contrib.rnn.DropoutWrapper`](https://www.tensorflow.org/api_docs/python/tf/contrib/rnn/DropoutWrapper)\n",
    " * Pass cell and embedded input to [`tf.nn.dynamic_rnn()`](https://www.tensorflow.org/api_docs/python/tf/nn/dynamic_rnn)"
   ]
  },
  {
   "cell_type": "code",
   "execution_count": 9,
   "metadata": {
    "ExecuteTime": {
     "end_time": "2017-07-03T02:42:30.567904Z",
     "start_time": "2017-07-02T19:42:30.199718-07:00"
    },
    "scrolled": false
   },
   "outputs": [
    {
     "name": "stdout",
     "output_type": "stream",
     "text": [
      "Tests Passed\n"
     ]
    }
   ],
   "source": [
    "from imp import reload\n",
    "reload(tests)\n",
    "\n",
    "def encoding_layer(rnn_inputs, rnn_size, num_layers, keep_prob, \n",
    "                   source_sequence_length, source_vocab_size, \n",
    "                   encoding_embedding_size):\n",
    "    \"\"\"\n",
    "    Create encoding layer\n",
    "    :param rnn_inputs: Inputs for the RNN\n",
    "    :param rnn_size: RNN Size\n",
    "    :param num_layers: Number of layers\n",
    "    :param keep_prob: Dropout keep probability\n",
    "    :param source_sequence_length: a list of the lengths of each sequence in the batch\n",
    "    :param source_vocab_size: vocabulary size of source data\n",
    "    :param encoding_embedding_size: embedding size of source data\n",
    "    :return: tuple (RNN output, RNN state)\n",
    "    \"\"\"\n",
    "    # TODO: Implement Function\n",
    "    embedded_input = tf.contrib.layers.embed_sequence(ids=rnn_inputs,\n",
    "                                                      vocab_size=source_vocab_size,\n",
    "                                                      embed_dim=encoding_embedding_size)\n",
    "    \n",
    "    def lstm_cell(num_units):\n",
    "        cell = tf.contrib.rnn.LSTMCell(num_units=num_units,\n",
    "                                       initializer=tf.random_uniform_initializer(-0.1, 0.1, seed=42))\n",
    "        return tf.contrib.rnn.DropoutWrapper(cell=cell, input_keep_prob=keep_prob)\n",
    "    \n",
    "    lstm_cells = [lstm_cell(rnn_size) for _ in range(num_layers)]\n",
    "    rnn_cells = tf.contrib.rnn.MultiRNNCell(cells=lstm_cells)\n",
    "    output, state = tf.nn.dynamic_rnn(cell=rnn_cells,\n",
    "                                      inputs=embedded_input,\n",
    "                                      sequence_length=source_sequence_length,\n",
    "                                      dtype=tf.float32)\n",
    "    return output, state\n",
    "\n",
    "\"\"\"\n",
    "DON'T MODIFY ANYTHING IN THIS CELL THAT IS BELOW THIS LINE\n",
    "\"\"\"\n",
    "tests.test_encoding_layer(encoding_layer)"
   ]
  },
  {
   "cell_type": "markdown",
   "metadata": {},
   "source": [
    "### Decoding - Training\n",
    "Create a training decoding layer:\n",
    "* Create a [`tf.contrib.seq2seq.TrainingHelper`](https://www.tensorflow.org/api_docs/python/tf/contrib/seq2seq/TrainingHelper) \n",
    "* Create a [`tf.contrib.seq2seq.BasicDecoder`](https://www.tensorflow.org/api_docs/python/tf/contrib/seq2seq/BasicDecoder)\n",
    "* Obtain the decoder outputs from [`tf.contrib.seq2seq.dynamic_decode`](https://www.tensorflow.org/api_docs/python/tf/contrib/seq2seq/dynamic_decode)"
   ]
  },
  {
   "cell_type": "code",
   "execution_count": 10,
   "metadata": {
    "ExecuteTime": {
     "end_time": "2017-07-03T02:44:50.511149Z",
     "start_time": "2017-07-02T19:44:49.920592-07:00"
    }
   },
   "outputs": [
    {
     "name": "stdout",
     "output_type": "stream",
     "text": [
      "Tests Passed\n"
     ]
    }
   ],
   "source": [
    "\n",
    "def decoding_layer_train(encoder_state, dec_cell, dec_embed_input, \n",
    "                         target_sequence_length, max_summary_length, \n",
    "                         output_layer, keep_prob):\n",
    "    \"\"\"\n",
    "    Create a decoding layer for training\n",
    "    :param encoder_state: Encoder State\n",
    "    :param dec_cell: Decoder RNN Cell\n",
    "    :param dec_embed_input: Decoder embedded input\n",
    "    :param target_sequence_length: The lengths of each sequence in the target batch\n",
    "    :param max_summary_length: The length of the longest sequence in the batch\n",
    "    :param output_layer: Function to apply the output layer\n",
    "    :param keep_prob: Dropout keep probability\n",
    "    :return: BasicDecoderOutput containing training logits and sample_id\n",
    "    \"\"\"\n",
    "    # TODO: Implement Function\n",
    "    training_helper = tf.contrib.seq2seq.TrainingHelper(inputs=dec_embed_input, \n",
    "                                                        sequence_length=target_sequence_length)\n",
    "    training_decoder = tf.contrib.seq2seq.BasicDecoder(cell=dec_cell,\n",
    "                                                       helper=training_helper,\n",
    "                                                       initial_state=encoder_state,\n",
    "                                                       output_layer=output_layer)\n",
    "    training_logits, _ = tf.contrib.seq2seq.dynamic_decode(decoder=training_decoder,\n",
    "                                                           impute_finished=True,\n",
    "                                                           maximum_iterations=max_summary_length)\n",
    "    return training_logits\n",
    "\n",
    "\n",
    "\n",
    "\"\"\"\n",
    "DON'T MODIFY ANYTHING IN THIS CELL THAT IS BELOW THIS LINE\n",
    "\"\"\"\n",
    "tests.test_decoding_layer_train(decoding_layer_train)"
   ]
  },
  {
   "cell_type": "markdown",
   "metadata": {},
   "source": [
    "### Decoding - Inference\n",
    "Create inference decoder:\n",
    "* Create a [`tf.contrib.seq2seq.GreedyEmbeddingHelper`](https://www.tensorflow.org/api_docs/python/tf/contrib/seq2seq/GreedyEmbeddingHelper)\n",
    "* Create a [`tf.contrib.seq2seq.BasicDecoder`](https://www.tensorflow.org/api_docs/python/tf/contrib/seq2seq/BasicDecoder)\n",
    "* Obtain the decoder outputs from [`tf.contrib.seq2seq.dynamic_decode`](https://www.tensorflow.org/api_docs/python/tf/contrib/seq2seq/dynamic_decode)"
   ]
  },
  {
   "cell_type": "code",
   "execution_count": 11,
   "metadata": {
    "ExecuteTime": {
     "end_time": "2017-07-03T02:45:23.706498Z",
     "start_time": "2017-07-02T19:45:23.390440-07:00"
    },
    "scrolled": true
   },
   "outputs": [
    {
     "name": "stdout",
     "output_type": "stream",
     "text": [
      "Tests Passed\n"
     ]
    }
   ],
   "source": [
    "def decoding_layer_infer(encoder_state, dec_cell, dec_embeddings, start_of_sequence_id,\n",
    "                         end_of_sequence_id, max_target_sequence_length,\n",
    "                         vocab_size, output_layer, batch_size, keep_prob):\n",
    "    \"\"\"\n",
    "    Create a decoding layer for inference\n",
    "    :param encoder_state: Encoder state\n",
    "    :param dec_cell: Decoder RNN Cell\n",
    "    :param dec_embeddings: Decoder embeddings\n",
    "    :param start_of_sequence_id: GO ID\n",
    "    :param end_of_sequence_id: EOS Id\n",
    "    :param max_target_sequence_length: Maximum length of target sequences\n",
    "    :param vocab_size: Size of decoder/target vocabulary\n",
    "    :param decoding_scope: TenorFlow Variable Scope for decoding\n",
    "    :param output_layer: Function to apply the output layer\n",
    "    :param batch_size: Batch size\n",
    "    :param keep_prob: Dropout keep probability\n",
    "    :return: BasicDecoderOutput containing inference logits and sample_id\n",
    "    \"\"\"\n",
    "    # TODO: Implement Function\n",
    "    start_token=tf.constant([start_of_sequence_id], dtype=tf.int32)\n",
    "    start_tokens=tf.tile(start_token, [batch_size], name=\"start_tokens\")\n",
    "    inference_helper = tf.contrib.seq2seq.GreedyEmbeddingHelper(embedding=dec_embeddings,\n",
    "                                                                start_tokens=start_tokens,\n",
    "                                                                end_token=end_of_sequence_id)\n",
    "    inference_decoder = tf.contrib.seq2seq.BasicDecoder(cell=dec_cell,\n",
    "                                                        helper=inference_helper,\n",
    "                                                        initial_state=encoder_state,\n",
    "                                                        output_layer=output_layer)\n",
    "    inference_logits, _ = tf.contrib.seq2seq.dynamic_decode(decoder=inference_decoder,\n",
    "                                                            impute_finished=True,\n",
    "                                                            maximum_iterations=max_target_sequence_length)\n",
    "    return inference_logits\n",
    "\n",
    "\n",
    "\n",
    "\"\"\"\n",
    "DON'T MODIFY ANYTHING IN THIS CELL THAT IS BELOW THIS LINE\n",
    "\"\"\"\n",
    "tests.test_decoding_layer_infer(decoding_layer_infer)"
   ]
  },
  {
   "cell_type": "markdown",
   "metadata": {},
   "source": [
    "### Build the Decoding Layer\n",
    "Implement `decoding_layer()` to create a Decoder RNN layer.\n",
    "\n",
    "* Embed the target sequences\n",
    "* Construct the decoder LSTM cell (just like you constructed the encoder cell above)\n",
    "* Create an output layer to map the outputs of the decoder to the elements of our vocabulary\n",
    "* Use the your `decoding_layer_train(encoder_state, dec_cell, dec_embed_input, target_sequence_length, max_target_sequence_length, output_layer, keep_prob)` function to get the training logits.\n",
    "* Use your `decoding_layer_infer(encoder_state, dec_cell, dec_embeddings, start_of_sequence_id, end_of_sequence_id, max_target_sequence_length, vocab_size, output_layer, batch_size, keep_prob)` function to get the inference logits.\n",
    "\n",
    "Note: You'll need to use [tf.variable_scope](https://www.tensorflow.org/api_docs/python/tf/variable_scope) to share variables between training and inference."
   ]
  },
  {
   "cell_type": "code",
   "execution_count": 12,
   "metadata": {
    "ExecuteTime": {
     "end_time": "2017-07-03T02:50:09.081364Z",
     "start_time": "2017-07-02T19:50:07.957530-07:00"
    }
   },
   "outputs": [
    {
     "name": "stdout",
     "output_type": "stream",
     "text": [
      "Tests Passed\n"
     ]
    }
   ],
   "source": [
    "def decoding_layer(dec_input, encoder_state,\n",
    "                   target_sequence_length, max_target_sequence_length,\n",
    "                   rnn_size,\n",
    "                   num_layers, target_vocab_to_int, target_vocab_size,\n",
    "                   batch_size, keep_prob, decoding_embedding_size):\n",
    "    \"\"\"\n",
    "    Create decoding layer\n",
    "    :param dec_input: Decoder input\n",
    "    :param encoder_state: Encoder state\n",
    "    :param target_sequence_length: The lengths of each sequence in the target batch\n",
    "    :param max_target_sequence_length: Maximum length of target sequences\n",
    "    :param rnn_size: RNN Size\n",
    "    :param num_layers: Number of layers\n",
    "    :param target_vocab_to_int: Dictionary to go from the target words to an id\n",
    "    :param target_vocab_size: Size of target vocabulary\n",
    "    :param batch_size: The size of the batch\n",
    "    :param keep_prob: Dropout keep probability\n",
    "    :param decoding_embedding_size: Decoding embedding size\n",
    "    :return: Tuple of (Training BasicDecoderOutput, Inference BasicDecoderOutput)\n",
    "    \"\"\"\n",
    "    # TODO: Implement Function\n",
    "    embeddings = tf.Variable(tf.random_uniform([target_vocab_size, decoding_embedding_size]))\n",
    "    embedding_lookup = tf.nn.embedding_lookup(params=embeddings, ids=dec_input)\n",
    "        \n",
    "    #  Make the decoder LSTM cells.\n",
    "    def lstm_cell(num_units):\n",
    "        cell = tf.contrib.rnn.LSTMCell(num_units=num_units,\n",
    "                                       initializer=tf.random_uniform_initializer(-0.1, 0.1, seed=2))\n",
    "        return tf.contrib.rnn.DropoutWrapper(cell=cell, input_keep_prob=keep_prob)\n",
    "    lstm_cells = [lstm_cell(rnn_size) for _ in range(num_layers)]\n",
    "    rnn_cells = tf.contrib.rnn.MultiRNNCell(cells=lstm_cells)\n",
    "    \n",
    "    # Make an output layer.\n",
    "    output_layer = Dense(units=target_vocab_size,\n",
    "                         kernel_initializer=tf.truncated_normal_initializer(mean=0.0, stddev=0.1))\n",
    "    \n",
    "    # Get the training logits.\n",
    "    with tf.variable_scope(\"decode\"):\n",
    "        trainig_logits = decoding_layer_train(encoder_state=encoder_state,\n",
    "                                              dec_cell=rnn_cells,\n",
    "                                              dec_embed_input=embedding_lookup,\n",
    "                                              target_sequence_length=target_sequence_length,\n",
    "                                              max_summary_length=max_target_sequence_length,\n",
    "                                              output_layer=output_layer,\n",
    "                                              keep_prob=keep_prob)\n",
    "    \n",
    "    # Get the inference logits.\n",
    "    with tf.variable_scope(\"decode\", reuse=True):\n",
    "        inference_logits = decoding_layer_infer(encoder_state=encoder_state,\n",
    "                                                dec_cell=rnn_cells,\n",
    "                                                dec_embeddings=embeddings,\n",
    "                                                start_of_sequence_id=target_vocab_to_int[\"<GO>\"],\n",
    "                                                end_of_sequence_id=target_vocab_to_int[\"<EOS>\"],\n",
    "                                                max_target_sequence_length=max_target_sequence_length,\n",
    "                                                vocab_size=target_vocab_size,\n",
    "                                                output_layer=output_layer,\n",
    "                                                batch_size=batch_size,\n",
    "                                                keep_prob=keep_prob)\n",
    "\n",
    "    \n",
    "    return trainig_logits, inference_logits\n",
    "\n",
    "\n",
    "\"\"\"\n",
    "DON'T MODIFY ANYTHING IN THIS CELL THAT IS BELOW THIS LINE\n",
    "\"\"\"\n",
    "tests.test_decoding_layer(decoding_layer)"
   ]
  },
  {
   "cell_type": "markdown",
   "metadata": {},
   "source": [
    "### Build the Neural Network\n",
    "Apply the functions you implemented above to:\n",
    "\n",
    "- Encode the input using your `encoding_layer(rnn_inputs, rnn_size, num_layers, keep_prob,  source_sequence_length, source_vocab_size, encoding_embedding_size)`.\n",
    "- Process target data using your `process_decoder_input(target_data, target_vocab_to_int, batch_size)` function.\n",
    "- Decode the encoded input using your `decoding_layer(dec_input, enc_state, target_sequence_length, max_target_sentence_length, rnn_size, num_layers, target_vocab_to_int, target_vocab_size, batch_size, keep_prob, dec_embedding_size)` function."
   ]
  },
  {
   "cell_type": "code",
   "execution_count": 13,
   "metadata": {
    "ExecuteTime": {
     "end_time": "2017-07-03T02:50:44.038789Z",
     "start_time": "2017-07-02T19:50:42.635743-07:00"
    }
   },
   "outputs": [
    {
     "name": "stdout",
     "output_type": "stream",
     "text": [
      "input_data: Tensor(\"Placeholder_6:0\", shape=(64, 22), dtype=int32)\n",
      "target_data: Tensor(\"Placeholder_6:0\", shape=(64, 22), dtype=int32)\n",
      "keep_prob: Tensor(\"Placeholder_8:0\", dtype=float32)\n",
      "batch_size: 64\n",
      "source_sequence_length: Tensor(\"source_sequence_length:0\", shape=(?,), dtype=int32)\n",
      "target_sequence_length: Tensor(\"target_sequence_length:0\", shape=(?,), dtype=int32)\n",
      "source_vocab_size: 300\n",
      "target_vocab_size: 300\n",
      "enc_embedding_size: 100\n",
      "dec_embedding_size: 100\n",
      "rnn_size: 512\n",
      "num_layers: 3\n",
      "Tests Passed\n"
     ]
    }
   ],
   "source": [
    "def seq2seq_model(input_data, target_data, keep_prob, batch_size,\n",
    "                  source_sequence_length, target_sequence_length,\n",
    "                  max_target_sentence_length,\n",
    "                  source_vocab_size, target_vocab_size,\n",
    "                  enc_embedding_size, dec_embedding_size,\n",
    "                  rnn_size, num_layers, target_vocab_to_int):\n",
    "    \"\"\"\n",
    "    Build the Sequence-to-Sequence part of the neural network\n",
    "    :param input_data: Input placeholder\n",
    "    :param target_data: Target placeholder\n",
    "    :param keep_prob: Dropout keep probability placeholder\n",
    "    :param batch_size: Batch Size\n",
    "    :param source_sequence_length: Sequence Lengths of source sequences in the batch\n",
    "    :param target_sequence_length: Sequence Lengths of target sequences in the batch\n",
    "    :param source_vocab_size: Source vocabulary size\n",
    "    :param target_vocab_size: Target vocabulary size\n",
    "    :param enc_embedding_size: Decoder embedding size\n",
    "    :param dec_embedding_size: Encoder embedding size\n",
    "    :param rnn_size: RNN Size\n",
    "    :param num_layers: Number of layers\n",
    "    :param target_vocab_to_int: Dictionary to go from the target words to an id\n",
    "    :return: Tuple of (Training BasicDecoderOutput, Inference BasicDecoderOutput)\n",
    "    \"\"\"\n",
    "    # TODO: Implement Function\n",
    "    print(\"input_data: {}\".format(input_data))\n",
    "    print(\"target_data: {}\".format(input_data))\n",
    "    print(\"keep_prob: {}\".format(keep_prob))\n",
    "    print(\"batch_size: {}\".format(batch_size))    \n",
    "    print(\"source_sequence_length: {}\".format(source_sequence_length))\n",
    "    print(\"target_sequence_length: {}\".format(target_sequence_length))\n",
    "    print(\"source_vocab_size: {}\".format(source_vocab_size))\n",
    "    print(\"target_vocab_size: {}\".format(target_vocab_size))\n",
    "    print(\"enc_embedding_size: {}\".format(enc_embedding_size)) \n",
    "    print(\"dec_embedding_size: {}\".format(dec_embedding_size)) \n",
    "    print(\"rnn_size: {}\".format(rnn_size))\n",
    "    print(\"num_layers: {}\".format(num_layers))\n",
    "    \n",
    "    # Encode the input.\n",
    "    encoder_output, encoder_state = encoding_layer(rnn_inputs=input_data,\n",
    "                                                   rnn_size=rnn_size,\n",
    "                                                   num_layers=num_layers,\n",
    "                                                   keep_prob=keep_prob,\n",
    "                                                   source_sequence_length=source_sequence_length,\n",
    "                                                   source_vocab_size=source_vocab_size,\n",
    "                                                   encoding_embedding_size=enc_embedding_size)\n",
    "    \n",
    "    # Get the target data.    \n",
    "    decoder_input = process_decoder_input(target_data=target_data,\n",
    "                                          target_vocab_to_int=target_vocab_to_int,\n",
    "                                          batch_size=batch_size)\n",
    "        \n",
    "    # Decode the encoded input.                    \n",
    "    training_logits, inference_logits = decoding_layer(dec_input=decoder_input,\n",
    "                                                       encoder_state=encoder_state,\n",
    "                                                       target_sequence_length=target_sequence_length,\n",
    "                                                       max_target_sequence_length=max_target_sentence_length,\n",
    "                                                       rnn_size=rnn_size,\n",
    "                                                       num_layers=num_layers,\n",
    "                                                       target_vocab_to_int=target_vocab_to_int,\n",
    "                                                       target_vocab_size=target_vocab_size,\n",
    "                                                       batch_size=batch_size,\n",
    "                                                       keep_prob=keep_prob,\n",
    "                                                       decoding_embedding_size=dec_embedding_size)    \n",
    "    \n",
    "    return training_logits, inference_logits\n",
    "\n",
    "\n",
    "\"\"\"\n",
    "DON'T MODIFY ANYTHING IN THIS CELL THAT IS BELOW THIS LINE\n",
    "\"\"\"\n",
    "tests.test_seq2seq_model(seq2seq_model)"
   ]
  },
  {
   "cell_type": "markdown",
   "metadata": {},
   "source": [
    "## Neural Network Training\n",
    "### Hyperparameters\n",
    "Tune the following parameters:\n",
    "\n",
    "- Set `epochs` to the number of epochs.\n",
    "- Set `batch_size` to the batch size.\n",
    "- Set `rnn_size` to the size of the RNNs.\n",
    "- Set `num_layers` to the number of layers.\n",
    "- Set `encoding_embedding_size` to the size of the embedding for the encoder.\n",
    "- Set `decoding_embedding_size` to the size of the embedding for the decoder.\n",
    "- Set `learning_rate` to the learning rate.\n",
    "- Set `keep_probability` to the Dropout keep probability\n",
    "- Set `display_step` to state how many steps between each debug output statement"
   ]
  },
  {
   "cell_type": "code",
   "execution_count": 26,
   "metadata": {
    "ExecuteTime": {
     "end_time": "2017-07-03T02:51:32.656558Z",
     "start_time": "2017-07-02T19:51:32.648519-07:00"
    },
    "collapsed": true
   },
   "outputs": [],
   "source": [
    "# Number of Epochs\n",
    "epochs = 25\n",
    "# Batch Size\n",
    "batch_size = 256\n",
    "# RNN Size\n",
    "rnn_size = 64\n",
    "# Number of Layers\n",
    "num_layers = 2\n",
    "# Embedding Size\n",
    "encoding_embedding_size = 256\n",
    "decoding_embedding_size = 256\n",
    "# Learning Rate\n",
    "learning_rate = 1e-3\n",
    "# Dropout Keep Probability\n",
    "keep_probability = 0.75\n",
    "display_step = 100"
   ]
  },
  {
   "cell_type": "markdown",
   "metadata": {},
   "source": [
    "### Build the Graph\n",
    "Build the graph using the neural network you implemented."
   ]
  },
  {
   "cell_type": "code",
   "execution_count": 27,
   "metadata": {},
   "outputs": [
    {
     "name": "stdout",
     "output_type": "stream",
     "text": [
      "input_data: Tensor(\"ReverseV2:0\", shape=(?, ?), dtype=int32)\n",
      "target_data: Tensor(\"ReverseV2:0\", shape=(?, ?), dtype=int32)\n",
      "keep_prob: Tensor(\"keep_prob:0\", dtype=float32)\n",
      "batch_size: 256\n",
      "source_sequence_length: Tensor(\"source_sequence_length:0\", shape=(?,), dtype=int32)\n",
      "target_sequence_length: Tensor(\"target_sequence_length:0\", shape=(?,), dtype=int32)\n",
      "source_vocab_size: 231\n",
      "target_vocab_size: 358\n",
      "enc_embedding_size: 256\n",
      "dec_embedding_size: 256\n",
      "rnn_size: 64\n",
      "num_layers: 2\n"
     ]
    }
   ],
   "source": [
    "\"\"\"\n",
    "DON'T MODIFY ANYTHING IN THIS CELL\n",
    "\"\"\"\n",
    "save_path = 'checkpoints/dev'\n",
    "(source_int_text, target_int_text), (source_vocab_to_int, target_vocab_to_int), _ = helper.load_preprocess()\n",
    "max_target_sentence_length = max([len(sentence) for sentence in source_int_text])\n",
    "\n",
    "train_graph = tf.Graph()\n",
    "with train_graph.as_default():\n",
    "    input_data, targets, lr, keep_prob, target_sequence_length, max_target_sequence_length, source_sequence_length = model_inputs()\n",
    "\n",
    "    #sequence_length = tf.placeholder_with_default(max_target_sentence_length, None, name='sequence_length')\n",
    "    input_shape = tf.shape(input_data)\n",
    "\n",
    "    train_logits, inference_logits = seq2seq_model(tf.reverse(input_data, [-1]),\n",
    "                                                   targets,\n",
    "                                                   keep_prob,\n",
    "                                                   batch_size,\n",
    "                                                   source_sequence_length,\n",
    "                                                   target_sequence_length,\n",
    "                                                   max_target_sequence_length,\n",
    "                                                   len(source_vocab_to_int),\n",
    "                                                   len(target_vocab_to_int),\n",
    "                                                   encoding_embedding_size,\n",
    "                                                   decoding_embedding_size,\n",
    "                                                   rnn_size,\n",
    "                                                   num_layers,\n",
    "                                                   target_vocab_to_int)\n",
    "\n",
    "\n",
    "    training_logits = tf.identity(train_logits.rnn_output, name='logits')\n",
    "    inference_logits = tf.identity(inference_logits.sample_id, name='predictions')\n",
    "\n",
    "    masks = tf.sequence_mask(target_sequence_length, max_target_sequence_length, dtype=tf.float32, name='masks')\n",
    "\n",
    "    with tf.name_scope(\"optimization\"):\n",
    "        # Loss function\n",
    "        cost = tf.contrib.seq2seq.sequence_loss(\n",
    "            training_logits,\n",
    "            targets,\n",
    "            masks)\n",
    "\n",
    "        # Optimizer\n",
    "        optimizer = tf.train.AdamOptimizer(lr)\n",
    "\n",
    "        # Gradient Clipping\n",
    "        gradients = optimizer.compute_gradients(cost)\n",
    "        capped_gradients = [(tf.clip_by_value(grad, -1., 1.), var) for grad, var in gradients if grad is not None]\n",
    "        train_op = optimizer.apply_gradients(capped_gradients)\n"
   ]
  },
  {
   "cell_type": "markdown",
   "metadata": {},
   "source": [
    "Batch and pad the source and target sequences"
   ]
  },
  {
   "cell_type": "code",
   "execution_count": 28,
   "metadata": {
    "collapsed": true
   },
   "outputs": [],
   "source": [
    "\"\"\"\n",
    "DON'T MODIFY ANYTHING IN THIS CELL\n",
    "\"\"\"\n",
    "def pad_sentence_batch(sentence_batch, pad_int):\n",
    "    \"\"\"Pad sentences with <PAD> so that each sentence of a batch has the same length\"\"\"\n",
    "    max_sentence = max([len(sentence) for sentence in sentence_batch])\n",
    "    return [sentence + [pad_int] * (max_sentence - len(sentence)) for sentence in sentence_batch]\n",
    "\n",
    "\n",
    "def get_batches(sources, targets, batch_size, source_pad_int, target_pad_int):\n",
    "    \"\"\"Batch targets, sources, and the lengths of their sentences together\"\"\"\n",
    "    for batch_i in range(0, len(sources)//batch_size):\n",
    "        start_i = batch_i * batch_size\n",
    "\n",
    "        # Slice the right amount for the batch\n",
    "        sources_batch = sources[start_i:start_i + batch_size]\n",
    "        targets_batch = targets[start_i:start_i + batch_size]\n",
    "\n",
    "        # Pad\n",
    "        pad_sources_batch = np.array(pad_sentence_batch(sources_batch, source_pad_int))\n",
    "        pad_targets_batch = np.array(pad_sentence_batch(targets_batch, target_pad_int))\n",
    "\n",
    "        # Need the lengths for the _lengths parameters\n",
    "        pad_targets_lengths = []\n",
    "        for target in pad_targets_batch:\n",
    "            pad_targets_lengths.append(len(target))\n",
    "\n",
    "        pad_source_lengths = []\n",
    "        for source in pad_sources_batch:\n",
    "            pad_source_lengths.append(len(source))\n",
    "\n",
    "        yield pad_sources_batch, pad_targets_batch, pad_source_lengths, pad_targets_lengths\n"
   ]
  },
  {
   "cell_type": "markdown",
   "metadata": {},
   "source": [
    "### Train\n",
    "Train the neural network on the preprocessed data. If you have a hard time getting a good loss, check the forms to see if anyone is having the same problem."
   ]
  },
  {
   "cell_type": "code",
   "execution_count": 29,
   "metadata": {
    "scrolled": true
   },
   "outputs": [
    {
     "name": "stdout",
     "output_type": "stream",
     "text": [
      "Epoch   0 Batch  100/538 - Train Accuracy: 0.3801, Validation Accuracy: 0.4419, Loss: 2.7285\n",
      "Epoch   0 Batch  200/538 - Train Accuracy: 0.4389, Validation Accuracy: 0.4902, Loss: 2.2694\n",
      "Epoch   0 Batch  300/538 - Train Accuracy: 0.4976, Validation Accuracy: 0.5172, Loss: 1.8992\n",
      "Epoch   0 Batch  400/538 - Train Accuracy: 0.5028, Validation Accuracy: 0.5249, Loss: 1.7212\n",
      "Epoch   0 Batch  500/538 - Train Accuracy: 0.5229, Validation Accuracy: 0.5426, Loss: 1.3293\n",
      "Epoch   1 Batch  100/538 - Train Accuracy: 0.4918, Validation Accuracy: 0.5320, Loss: 1.0965\n",
      "Epoch   1 Batch  200/538 - Train Accuracy: 0.5316, Validation Accuracy: 0.5625, Loss: 0.9853\n",
      "Epoch   1 Batch  300/538 - Train Accuracy: 0.5698, Validation Accuracy: 0.5664, Loss: 0.8505\n",
      "Epoch   1 Batch  400/538 - Train Accuracy: 0.5696, Validation Accuracy: 0.5870, Loss: 0.8085\n",
      "Epoch   1 Batch  500/538 - Train Accuracy: 0.6289, Validation Accuracy: 0.6072, Loss: 0.7030\n",
      "Epoch   2 Batch  100/538 - Train Accuracy: 0.6092, Validation Accuracy: 0.6266, Loss: 0.6728\n",
      "Epoch   2 Batch  200/538 - Train Accuracy: 0.6311, Validation Accuracy: 0.6369, Loss: 0.6315\n",
      "Epoch   2 Batch  300/538 - Train Accuracy: 0.6384, Validation Accuracy: 0.6436, Loss: 0.5980\n",
      "Epoch   2 Batch  400/538 - Train Accuracy: 0.6395, Validation Accuracy: 0.6504, Loss: 0.5753\n",
      "Epoch   2 Batch  500/538 - Train Accuracy: 0.6626, Validation Accuracy: 0.6539, Loss: 0.5119\n",
      "Epoch   3 Batch  100/538 - Train Accuracy: 0.6398, Validation Accuracy: 0.6776, Loss: 0.5062\n",
      "Epoch   3 Batch  200/538 - Train Accuracy: 0.6705, Validation Accuracy: 0.6767, Loss: 0.4771\n",
      "Epoch   3 Batch  300/538 - Train Accuracy: 0.6801, Validation Accuracy: 0.6738, Loss: 0.4554\n",
      "Epoch   3 Batch  400/538 - Train Accuracy: 0.6856, Validation Accuracy: 0.6681, Loss: 0.4371\n",
      "Epoch   3 Batch  500/538 - Train Accuracy: 0.7189, Validation Accuracy: 0.6898, Loss: 0.3901\n",
      "Epoch   4 Batch  100/538 - Train Accuracy: 0.7305, Validation Accuracy: 0.7044, Loss: 0.3839\n",
      "Epoch   4 Batch  200/538 - Train Accuracy: 0.7221, Validation Accuracy: 0.7205, Loss: 0.3607\n",
      "Epoch   4 Batch  300/538 - Train Accuracy: 0.7387, Validation Accuracy: 0.7379, Loss: 0.3442\n",
      "Epoch   4 Batch  400/538 - Train Accuracy: 0.7628, Validation Accuracy: 0.7505, Loss: 0.3224\n",
      "Epoch   4 Batch  500/538 - Train Accuracy: 0.7725, Validation Accuracy: 0.7567, Loss: 0.2872\n",
      "Epoch   5 Batch  100/538 - Train Accuracy: 0.7932, Validation Accuracy: 0.7812, Loss: 0.2775\n",
      "Epoch   5 Batch  200/538 - Train Accuracy: 0.8023, Validation Accuracy: 0.7924, Loss: 0.2655\n",
      "Epoch   5 Batch  300/538 - Train Accuracy: 0.7831, Validation Accuracy: 0.8024, Loss: 0.2475\n",
      "Epoch   5 Batch  400/538 - Train Accuracy: 0.8352, Validation Accuracy: 0.8109, Loss: 0.2384\n",
      "Epoch   5 Batch  500/538 - Train Accuracy: 0.8624, Validation Accuracy: 0.8240, Loss: 0.2041\n",
      "Epoch   6 Batch  100/538 - Train Accuracy: 0.8594, Validation Accuracy: 0.8441, Loss: 0.1910\n",
      "Epoch   6 Batch  200/538 - Train Accuracy: 0.8781, Validation Accuracy: 0.8553, Loss: 0.1797\n",
      "Epoch   6 Batch  300/538 - Train Accuracy: 0.8642, Validation Accuracy: 0.8537, Loss: 0.1683\n",
      "Epoch   6 Batch  400/538 - Train Accuracy: 0.8836, Validation Accuracy: 0.8725, Loss: 0.1627\n",
      "Epoch   6 Batch  500/538 - Train Accuracy: 0.8938, Validation Accuracy: 0.8700, Loss: 0.1344\n",
      "Epoch   7 Batch  100/538 - Train Accuracy: 0.9008, Validation Accuracy: 0.8912, Loss: 0.1291\n",
      "Epoch   7 Batch  200/538 - Train Accuracy: 0.9123, Validation Accuracy: 0.8945, Loss: 0.1205\n",
      "Epoch   7 Batch  300/538 - Train Accuracy: 0.8949, Validation Accuracy: 0.9023, Loss: 0.1158\n",
      "Epoch   7 Batch  400/538 - Train Accuracy: 0.9048, Validation Accuracy: 0.8970, Loss: 0.1159\n",
      "Epoch   7 Batch  500/538 - Train Accuracy: 0.9219, Validation Accuracy: 0.8951, Loss: 0.0890\n",
      "Epoch   8 Batch  100/538 - Train Accuracy: 0.9203, Validation Accuracy: 0.9068, Loss: 0.0869\n",
      "Epoch   8 Batch  200/538 - Train Accuracy: 0.9170, Validation Accuracy: 0.9041, Loss: 0.0855\n",
      "Epoch   8 Batch  300/538 - Train Accuracy: 0.9014, Validation Accuracy: 0.9055, Loss: 0.0875\n",
      "Epoch   8 Batch  400/538 - Train Accuracy: 0.9226, Validation Accuracy: 0.9123, Loss: 0.0866\n",
      "Epoch   8 Batch  500/538 - Train Accuracy: 0.9352, Validation Accuracy: 0.9098, Loss: 0.0630\n",
      "Epoch   9 Batch  100/538 - Train Accuracy: 0.9297, Validation Accuracy: 0.9126, Loss: 0.0717\n",
      "Epoch   9 Batch  200/538 - Train Accuracy: 0.9297, Validation Accuracy: 0.9070, Loss: 0.0616\n",
      "Epoch   9 Batch  300/538 - Train Accuracy: 0.9275, Validation Accuracy: 0.9139, Loss: 0.0715\n",
      "Epoch   9 Batch  400/538 - Train Accuracy: 0.9340, Validation Accuracy: 0.9325, Loss: 0.0664\n",
      "Epoch   9 Batch  500/538 - Train Accuracy: 0.9426, Validation Accuracy: 0.9233, Loss: 0.0549\n",
      "Epoch  10 Batch  100/538 - Train Accuracy: 0.9416, Validation Accuracy: 0.9338, Loss: 0.0564\n",
      "Epoch  10 Batch  200/538 - Train Accuracy: 0.9437, Validation Accuracy: 0.9233, Loss: 0.0507\n",
      "Epoch  10 Batch  300/538 - Train Accuracy: 0.9319, Validation Accuracy: 0.9213, Loss: 0.0615\n",
      "Epoch  10 Batch  400/538 - Train Accuracy: 0.9395, Validation Accuracy: 0.9373, Loss: 0.0586\n",
      "Epoch  10 Batch  500/538 - Train Accuracy: 0.9579, Validation Accuracy: 0.9338, Loss: 0.0439\n",
      "Epoch  11 Batch  100/538 - Train Accuracy: 0.9437, Validation Accuracy: 0.9402, Loss: 0.0494\n",
      "Epoch  11 Batch  200/538 - Train Accuracy: 0.9510, Validation Accuracy: 0.9400, Loss: 0.0450\n",
      "Epoch  11 Batch  300/538 - Train Accuracy: 0.9440, Validation Accuracy: 0.9341, Loss: 0.0524\n",
      "Epoch  11 Batch  400/538 - Train Accuracy: 0.9503, Validation Accuracy: 0.9455, Loss: 0.0507\n",
      "Epoch  11 Batch  500/538 - Train Accuracy: 0.9535, Validation Accuracy: 0.9366, Loss: 0.0378\n",
      "Epoch  12 Batch  100/538 - Train Accuracy: 0.9479, Validation Accuracy: 0.9471, Loss: 0.0414\n",
      "Epoch  12 Batch  200/538 - Train Accuracy: 0.9555, Validation Accuracy: 0.9416, Loss: 0.0397\n",
      "Epoch  12 Batch  300/538 - Train Accuracy: 0.9420, Validation Accuracy: 0.9375, Loss: 0.0427\n",
      "Epoch  12 Batch  400/538 - Train Accuracy: 0.9481, Validation Accuracy: 0.9409, Loss: 0.0458\n",
      "Epoch  12 Batch  500/538 - Train Accuracy: 0.9645, Validation Accuracy: 0.9411, Loss: 0.0315\n",
      "Epoch  13 Batch  100/538 - Train Accuracy: 0.9547, Validation Accuracy: 0.9441, Loss: 0.0363\n",
      "Epoch  13 Batch  200/538 - Train Accuracy: 0.9568, Validation Accuracy: 0.9583, Loss: 0.0370\n",
      "Epoch  13 Batch  300/538 - Train Accuracy: 0.9628, Validation Accuracy: 0.9441, Loss: 0.0409\n",
      "Epoch  13 Batch  400/538 - Train Accuracy: 0.9609, Validation Accuracy: 0.9517, Loss: 0.0388\n",
      "Epoch  13 Batch  500/538 - Train Accuracy: 0.9664, Validation Accuracy: 0.9439, Loss: 0.0295\n",
      "Epoch  14 Batch  100/538 - Train Accuracy: 0.9525, Validation Accuracy: 0.9531, Loss: 0.0312\n",
      "Epoch  14 Batch  200/538 - Train Accuracy: 0.9598, Validation Accuracy: 0.9528, Loss: 0.0321\n",
      "Epoch  14 Batch  300/538 - Train Accuracy: 0.9621, Validation Accuracy: 0.9588, Loss: 0.0353\n",
      "Epoch  14 Batch  400/538 - Train Accuracy: 0.9598, Validation Accuracy: 0.9524, Loss: 0.0352\n",
      "Epoch  14 Batch  500/538 - Train Accuracy: 0.9718, Validation Accuracy: 0.9554, Loss: 0.0303\n",
      "Epoch  15 Batch  100/538 - Train Accuracy: 0.9570, Validation Accuracy: 0.9558, Loss: 0.0292\n",
      "Epoch  15 Batch  200/538 - Train Accuracy: 0.9682, Validation Accuracy: 0.9583, Loss: 0.0268\n",
      "Epoch  15 Batch  300/538 - Train Accuracy: 0.9710, Validation Accuracy: 0.9558, Loss: 0.0343\n",
      "Epoch  15 Batch  400/538 - Train Accuracy: 0.9624, Validation Accuracy: 0.9586, Loss: 0.0336\n",
      "Epoch  15 Batch  500/538 - Train Accuracy: 0.9657, Validation Accuracy: 0.9549, Loss: 0.0237\n",
      "Epoch  16 Batch  100/538 - Train Accuracy: 0.9600, Validation Accuracy: 0.9615, Loss: 0.0265\n",
      "Epoch  16 Batch  200/538 - Train Accuracy: 0.9766, Validation Accuracy: 0.9553, Loss: 0.0244\n",
      "Epoch  16 Batch  300/538 - Train Accuracy: 0.9641, Validation Accuracy: 0.9648, Loss: 0.0318\n",
      "Epoch  16 Batch  400/538 - Train Accuracy: 0.9719, Validation Accuracy: 0.9643, Loss: 0.0323\n",
      "Epoch  16 Batch  500/538 - Train Accuracy: 0.9757, Validation Accuracy: 0.9529, Loss: 0.0195\n",
      "Epoch  17 Batch  100/538 - Train Accuracy: 0.9732, Validation Accuracy: 0.9625, Loss: 0.0278\n",
      "Epoch  17 Batch  200/538 - Train Accuracy: 0.9756, Validation Accuracy: 0.9625, Loss: 0.0236\n",
      "Epoch  17 Batch  300/538 - Train Accuracy: 0.9702, Validation Accuracy: 0.9686, Loss: 0.0281\n",
      "Epoch  17 Batch  400/538 - Train Accuracy: 0.9678, Validation Accuracy: 0.9664, Loss: 0.0276\n"
     ]
    },
    {
     "name": "stdout",
     "output_type": "stream",
     "text": [
      "Epoch  17 Batch  500/538 - Train Accuracy: 0.9753, Validation Accuracy: 0.9695, Loss: 0.0199\n",
      "Epoch  18 Batch  100/538 - Train Accuracy: 0.9682, Validation Accuracy: 0.9634, Loss: 0.0262\n",
      "Epoch  18 Batch  200/538 - Train Accuracy: 0.9756, Validation Accuracy: 0.9673, Loss: 0.0235\n",
      "Epoch  18 Batch  300/538 - Train Accuracy: 0.9652, Validation Accuracy: 0.9688, Loss: 0.0277\n",
      "Epoch  18 Batch  400/538 - Train Accuracy: 0.9727, Validation Accuracy: 0.9647, Loss: 0.0266\n",
      "Epoch  18 Batch  500/538 - Train Accuracy: 0.9790, Validation Accuracy: 0.9625, Loss: 0.0197\n",
      "Epoch  19 Batch  100/538 - Train Accuracy: 0.9688, Validation Accuracy: 0.9636, Loss: 0.0243\n",
      "Epoch  19 Batch  200/538 - Train Accuracy: 0.9787, Validation Accuracy: 0.9695, Loss: 0.0213\n",
      "Epoch  19 Batch  300/538 - Train Accuracy: 0.9689, Validation Accuracy: 0.9631, Loss: 0.0270\n",
      "Epoch  19 Batch  400/538 - Train Accuracy: 0.9656, Validation Accuracy: 0.9602, Loss: 0.0256\n",
      "Epoch  19 Batch  500/538 - Train Accuracy: 0.9705, Validation Accuracy: 0.9620, Loss: 0.0164\n",
      "Epoch  20 Batch  100/538 - Train Accuracy: 0.9762, Validation Accuracy: 0.9675, Loss: 0.0219\n",
      "Epoch  20 Batch  200/538 - Train Accuracy: 0.9822, Validation Accuracy: 0.9609, Loss: 0.0203\n",
      "Epoch  20 Batch  300/538 - Train Accuracy: 0.9751, Validation Accuracy: 0.9620, Loss: 0.0255\n",
      "Epoch  20 Batch  400/538 - Train Accuracy: 0.9747, Validation Accuracy: 0.9629, Loss: 0.0246\n",
      "Epoch  20 Batch  500/538 - Train Accuracy: 0.9753, Validation Accuracy: 0.9597, Loss: 0.0196\n",
      "Epoch  21 Batch  100/538 - Train Accuracy: 0.9805, Validation Accuracy: 0.9613, Loss: 0.0222\n",
      "Epoch  21 Batch  200/538 - Train Accuracy: 0.9750, Validation Accuracy: 0.9643, Loss: 0.0213\n",
      "Epoch  21 Batch  300/538 - Train Accuracy: 0.9818, Validation Accuracy: 0.9709, Loss: 0.0217\n",
      "Epoch  21 Batch  400/538 - Train Accuracy: 0.9779, Validation Accuracy: 0.9688, Loss: 0.0243\n",
      "Epoch  21 Batch  500/538 - Train Accuracy: 0.9787, Validation Accuracy: 0.9616, Loss: 0.0167\n",
      "Epoch  22 Batch  100/538 - Train Accuracy: 0.9758, Validation Accuracy: 0.9627, Loss: 0.0195\n",
      "Epoch  22 Batch  200/538 - Train Accuracy: 0.9789, Validation Accuracy: 0.9675, Loss: 0.0166\n",
      "Epoch  22 Batch  300/538 - Train Accuracy: 0.9699, Validation Accuracy: 0.9618, Loss: 0.0223\n",
      "Epoch  22 Batch  400/538 - Train Accuracy: 0.9779, Validation Accuracy: 0.9631, Loss: 0.0198\n",
      "Epoch  22 Batch  500/538 - Train Accuracy: 0.9815, Validation Accuracy: 0.9657, Loss: 0.0151\n",
      "Epoch  23 Batch  100/538 - Train Accuracy: 0.9787, Validation Accuracy: 0.9666, Loss: 0.0182\n",
      "Epoch  23 Batch  200/538 - Train Accuracy: 0.9779, Validation Accuracy: 0.9695, Loss: 0.0165\n",
      "Epoch  23 Batch  300/538 - Train Accuracy: 0.9808, Validation Accuracy: 0.9595, Loss: 0.0207\n",
      "Epoch  23 Batch  400/538 - Train Accuracy: 0.9808, Validation Accuracy: 0.9677, Loss: 0.0189\n",
      "Epoch  23 Batch  500/538 - Train Accuracy: 0.9794, Validation Accuracy: 0.9641, Loss: 0.0155\n",
      "Epoch  24 Batch  100/538 - Train Accuracy: 0.9844, Validation Accuracy: 0.9632, Loss: 0.0164\n",
      "Epoch  24 Batch  200/538 - Train Accuracy: 0.9828, Validation Accuracy: 0.9631, Loss: 0.0161\n",
      "Epoch  24 Batch  300/538 - Train Accuracy: 0.9818, Validation Accuracy: 0.9656, Loss: 0.0201\n",
      "Epoch  24 Batch  400/538 - Train Accuracy: 0.9821, Validation Accuracy: 0.9695, Loss: 0.0189\n",
      "Epoch  24 Batch  500/538 - Train Accuracy: 0.9810, Validation Accuracy: 0.9632, Loss: 0.0139\n",
      "Model Trained and Saved\n"
     ]
    }
   ],
   "source": [
    "\"\"\"\n",
    "DON'T MODIFY ANYTHING IN THIS CELL\n",
    "\"\"\"\n",
    "def get_accuracy(target, logits):\n",
    "    \"\"\"\n",
    "    Calculate accuracy\n",
    "    \"\"\"\n",
    "    max_seq = max(target.shape[1], logits.shape[1])\n",
    "    if max_seq - target.shape[1]:\n",
    "        target = np.pad(\n",
    "            target,\n",
    "            [(0,0),(0,max_seq - target.shape[1])],\n",
    "            'constant')\n",
    "    if max_seq - logits.shape[1]:\n",
    "        logits = np.pad(\n",
    "            logits,\n",
    "            [(0,0),(0,max_seq - logits.shape[1])],\n",
    "            'constant')\n",
    "\n",
    "    return np.mean(np.equal(target, logits))\n",
    "\n",
    "# Split data to training and validation sets\n",
    "train_source = source_int_text[batch_size:]\n",
    "train_target = target_int_text[batch_size:]\n",
    "valid_source = source_int_text[:batch_size]\n",
    "valid_target = target_int_text[:batch_size]\n",
    "(valid_sources_batch, valid_targets_batch, valid_sources_lengths, valid_targets_lengths ) = next(get_batches(valid_source,\n",
    "                                                                                                             valid_target,\n",
    "                                                                                                             batch_size,\n",
    "                                                                                                             source_vocab_to_int['<PAD>'],\n",
    "                                                                                                             target_vocab_to_int['<PAD>']))                                                                                                  \n",
    "with tf.Session(graph=train_graph) as sess:\n",
    "    sess.run(tf.global_variables_initializer())\n",
    "\n",
    "    for epoch_i in range(epochs):\n",
    "        for batch_i, (source_batch, target_batch, sources_lengths, targets_lengths) in enumerate(\n",
    "                get_batches(train_source, train_target, batch_size,\n",
    "                            source_vocab_to_int['<PAD>'],\n",
    "                            target_vocab_to_int['<PAD>'])):\n",
    "\n",
    "            _, loss = sess.run(\n",
    "                [train_op, cost],\n",
    "                {input_data: source_batch,\n",
    "                 targets: target_batch,\n",
    "                 lr: learning_rate,\n",
    "                 target_sequence_length: targets_lengths,\n",
    "                 source_sequence_length: sources_lengths,\n",
    "                 keep_prob: keep_probability})\n",
    "\n",
    "\n",
    "            if batch_i % display_step == 0 and batch_i > 0:\n",
    "\n",
    "\n",
    "                batch_train_logits = sess.run(\n",
    "                    inference_logits,\n",
    "                    {input_data: source_batch,\n",
    "                     source_sequence_length: sources_lengths,\n",
    "                     target_sequence_length: targets_lengths,\n",
    "                     keep_prob: 1.0})\n",
    "\n",
    "\n",
    "                batch_valid_logits = sess.run(\n",
    "                    inference_logits,\n",
    "                    {input_data: valid_sources_batch,\n",
    "                     source_sequence_length: valid_sources_lengths,\n",
    "                     target_sequence_length: valid_targets_lengths,\n",
    "                     keep_prob: 1.0})\n",
    "\n",
    "                train_acc = get_accuracy(target_batch, batch_train_logits)\n",
    "\n",
    "                valid_acc = get_accuracy(valid_targets_batch, batch_valid_logits)\n",
    "\n",
    "                print('Epoch {:>3} Batch {:>4}/{} - Train Accuracy: {:>6.4f}, Validation Accuracy: {:>6.4f}, Loss: {:>6.4f}'\n",
    "                      .format(epoch_i, batch_i, len(source_int_text) // batch_size, train_acc, valid_acc, loss))\n",
    "\n",
    "    # Save Model\n",
    "    saver = tf.train.Saver()\n",
    "    saver.save(sess, save_path)\n",
    "    print('Model Trained and Saved')"
   ]
  },
  {
   "cell_type": "markdown",
   "metadata": {},
   "source": [
    "### Save Parameters\n",
    "Save the `batch_size` and `save_path` parameters for inference."
   ]
  },
  {
   "cell_type": "code",
   "execution_count": 30,
   "metadata": {
    "collapsed": true
   },
   "outputs": [],
   "source": [
    "\"\"\"\n",
    "DON'T MODIFY ANYTHING IN THIS CELL\n",
    "\"\"\"\n",
    "# Save parameters for checkpoint\n",
    "helper.save_params(save_path)"
   ]
  },
  {
   "cell_type": "markdown",
   "metadata": {},
   "source": [
    "# Checkpoint"
   ]
  },
  {
   "cell_type": "code",
   "execution_count": 35,
   "metadata": {
    "collapsed": true
   },
   "outputs": [],
   "source": [
    "\"\"\"\n",
    "DON'T MODIFY ANYTHING IN THIS CELL\n",
    "\"\"\"\n",
    "import tensorflow as tf\n",
    "import numpy as np\n",
    "import helper\n",
    "import problem_unittests as tests\n",
    "\n",
    "_, (source_vocab_to_int, target_vocab_to_int), (source_int_to_vocab, target_int_to_vocab) = helper.load_preprocess()\n",
    "load_path = helper.load_params()"
   ]
  },
  {
   "cell_type": "markdown",
   "metadata": {},
   "source": [
    "## Sentence to Sequence\n",
    "To feed a sentence into the model for translation, you first need to preprocess it.  Implement the function `sentence_to_seq()` to preprocess new sentences.\n",
    "\n",
    "- Convert the sentence to lowercase\n",
    "- Convert words into ids using `vocab_to_int`\n",
    " - Convert words not in the vocabulary, to the `<UNK>` word id."
   ]
  },
  {
   "cell_type": "code",
   "execution_count": 38,
   "metadata": {},
   "outputs": [
    {
     "name": "stdout",
     "output_type": "stream",
     "text": [
      "Tests Passed\n"
     ]
    }
   ],
   "source": [
    "def sentence_to_seq(sentence, vocab_to_int):\n",
    "    \"\"\"\n",
    "    Convert a sentence to a sequence of ids\n",
    "    :param sentence: String\n",
    "    :param vocab_to_int: Dictionary to go from the words to an id\n",
    "    :return: List of word ids\n",
    "    \"\"\"\n",
    "    # TODO: Implement Function\n",
    "    unk_id = vocab_to_int['<UNK>']\n",
    "    return [vocab_to_int.get(w, unk_id) for w in sentence.lower().split()]\n",
    "\n",
    "\"\"\"\n",
    "DON'T MODIFY ANYTHING IN THIS CELL THAT IS BELOW THIS LINE\n",
    "\"\"\"\n",
    "tests.test_sentence_to_seq(sentence_to_seq)"
   ]
  },
  {
   "cell_type": "markdown",
   "metadata": {},
   "source": [
    "## Translate\n",
    "This will translate `translate_sentence` from English to French."
   ]
  },
  {
   "cell_type": "code",
   "execution_count": 39,
   "metadata": {},
   "outputs": [
    {
     "name": "stdout",
     "output_type": "stream",
     "text": [
      "INFO:tensorflow:Restoring parameters from checkpoints/dev\n",
      "Input\n",
      "  Word Ids:      [37, 112, 167, 81, 63, 78, 165]\n",
      "  English Words: ['he', 'saw', 'a', 'old', 'yellow', 'truck', '.']\n",
      "\n",
      "Prediction\n",
      "  Word Ids:      [293, 157, 269, 157, 259, 187, 234, 1]\n",
      "  French Words: le vu est vu un mangue . <EOS>\n"
     ]
    }
   ],
   "source": [
    "translate_sentence = 'he saw a old yellow truck .'\n",
    "\n",
    "\n",
    "\"\"\"\n",
    "DON'T MODIFY ANYTHING IN THIS CELL\n",
    "\"\"\"\n",
    "translate_sentence = sentence_to_seq(translate_sentence, source_vocab_to_int)\n",
    "\n",
    "loaded_graph = tf.Graph()\n",
    "with tf.Session(graph=loaded_graph) as sess:\n",
    "    # Load saved model\n",
    "    loader = tf.train.import_meta_graph(load_path + '.meta')\n",
    "    loader.restore(sess, load_path)\n",
    "\n",
    "    input_data = loaded_graph.get_tensor_by_name('input:0')\n",
    "    logits = loaded_graph.get_tensor_by_name('predictions:0')\n",
    "    target_sequence_length = loaded_graph.get_tensor_by_name('target_sequence_length:0')\n",
    "    source_sequence_length = loaded_graph.get_tensor_by_name('source_sequence_length:0')\n",
    "    keep_prob = loaded_graph.get_tensor_by_name('keep_prob:0')\n",
    "\n",
    "    translate_logits = sess.run(logits, {input_data: [translate_sentence]*batch_size,\n",
    "                                         target_sequence_length: [len(translate_sentence)*2]*batch_size,\n",
    "                                         source_sequence_length: [len(translate_sentence)]*batch_size,\n",
    "                                         keep_prob: 1.0})[0]\n",
    "\n",
    "print('Input')\n",
    "print('  Word Ids:      {}'.format([i for i in translate_sentence]))\n",
    "print('  English Words: {}'.format([source_int_to_vocab[i] for i in translate_sentence]))\n",
    "\n",
    "print('\\nPrediction')\n",
    "print('  Word Ids:      {}'.format([i for i in translate_logits]))\n",
    "print('  French Words: {}'.format(\" \".join([target_int_to_vocab[i] for i in translate_logits])))\n"
   ]
  },
  {
   "cell_type": "markdown",
   "metadata": {},
   "source": [
    "## Imperfect Translation\n",
    "You might notice that some sentences translate better than others.  Since the dataset you're using only has a vocabulary of 227 English words of the thousands that you use, you're only going to see good results using these words.  For this project, you don't need a perfect translation. However, if you want to create a better translation model, you'll need better data.\n",
    "\n",
    "You can train on the [WMT10 French-English corpus](http://www.statmt.org/wmt10/training-giga-fren.tar).  This dataset has more vocabulary and richer in topics discussed.  However, this will take you days to train, so make sure you've a GPU and the neural network is performing well on dataset we provided.  Just make sure you play with the WMT10 corpus after you've submitted this project.\n",
    "## Submitting This Project\n",
    "When submitting this project, make sure to run all the cells before saving the notebook. Save the notebook file as \"dlnd_language_translation.ipynb\" and save it as a HTML file under \"File\" -> \"Download as\". Include the \"helper.py\" and \"problem_unittests.py\" files in your submission."
   ]
  }
 ],
 "metadata": {
  "anaconda-cloud": {},
  "kernelspec": {
   "display_name": "Python 3",
   "language": "python",
   "name": "python3"
  },
  "language_info": {
   "codemirror_mode": {
    "name": "ipython",
    "version": 3
   },
   "file_extension": ".py",
   "mimetype": "text/x-python",
   "name": "python",
   "nbconvert_exporter": "python",
   "pygments_lexer": "ipython3",
   "version": "3.5.3"
  },
  "latex_envs": {
   "LaTeX_envs_menu_present": true,
   "autocomplete": true,
   "bibliofile": "biblio.bib",
   "cite_by": "apalike",
   "current_citInitial": 1,
   "eqLabelWithNumbers": true,
   "eqNumInitial": 1,
   "hotkeys": {
    "equation": "Ctrl-E",
    "itemize": "Ctrl-I"
   },
   "labels_anchors": false,
   "latex_user_defs": false,
   "report_style_numbering": false,
   "user_envs_cfg": false
  },
  "toc": {
   "colors": {
    "hover_highlight": "#DAA520",
    "navigate_num": "#000000",
    "navigate_text": "#333333",
    "running_highlight": "#FF0000",
    "selected_highlight": "#FFD700",
    "sidebar_border": "#EEEEEE",
    "wrapper_background": "#FFFFFF"
   },
   "moveMenuLeft": true,
   "nav_menu": {
    "height": "495px",
    "width": "252px"
   },
   "navigate_menu": true,
   "number_sections": true,
   "sideBar": true,
   "threshold": 4,
   "toc_cell": false,
   "toc_section_display": "block",
   "toc_window_display": false,
   "widenNotebook": false
  }
 },
 "nbformat": 4,
 "nbformat_minor": 1
}
