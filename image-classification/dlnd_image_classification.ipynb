{
 "cells": [
  {
   "cell_type": "markdown",
   "metadata": {
    "collapsed": true,
    "deletable": true,
    "editable": true
   },
   "source": [
    "# Image Classification\n",
    "In this project, you'll classify images from the [CIFAR-10 dataset](https://www.cs.toronto.edu/~kriz/cifar.html).  The dataset consists of airplanes, dogs, cats, and other objects. You'll preprocess the images, then train a convolutional neural network on all the samples. The images need to be normalized and the labels need to be one-hot encoded.  You'll get to apply what you learned and build a convolutional, max pooling, dropout, and fully connected layers.  At the end, you'll get to see your neural network's predictions on the sample images.\n",
    "## Get the Data\n",
    "Run the following cell to download the [CIFAR-10 dataset for python](https://www.cs.toronto.edu/~kriz/cifar-10-python.tar.gz)."
   ]
  },
  {
   "cell_type": "code",
   "execution_count": 1,
   "metadata": {
    "ExecuteTime": {
     "end_time": "2017-05-15T01:52:55.356244Z",
     "start_time": "2017-05-14T18:52:53.866580-07:00"
    },
    "collapsed": false,
    "deletable": true,
    "editable": true
   },
   "outputs": [
    {
     "name": "stderr",
     "output_type": "stream",
     "text": [
      "CIFAR-10 Dataset: 171MB [00:29, 5.77MB/s]                              \n"
     ]
    },
    {
     "name": "stdout",
     "output_type": "stream",
     "text": [
      "All files found!\n"
     ]
    }
   ],
   "source": [
    "\"\"\"\n",
    "DON'T MODIFY ANYTHING IN THIS CELL THAT IS BELOW THIS LINE\n",
    "\"\"\"\n",
    "from urllib.request import urlretrieve\n",
    "from os.path import isfile, isdir\n",
    "from tqdm import tqdm\n",
    "import problem_unittests as tests\n",
    "import tarfile\n",
    "\n",
    "cifar10_dataset_folder_path = 'cifar-10-batches-py'\n",
    "\n",
    "# Use Floyd's cifar-10 dataset if present\n",
    "floyd_cifar10_location = '/input/cifar-10/python.tar.gz'\n",
    "if isfile(floyd_cifar10_location):\n",
    "    tar_gz_path = floyd_cifar10_location\n",
    "else:\n",
    "    tar_gz_path = 'cifar-10-python.tar.gz'\n",
    "\n",
    "class DLProgress(tqdm):\n",
    "    last_block = 0\n",
    "\n",
    "    def hook(self, block_num=1, block_size=1, total_size=None):\n",
    "        self.total = total_size\n",
    "        self.update((block_num - self.last_block) * block_size)\n",
    "        self.last_block = block_num\n",
    "\n",
    "if not isfile(tar_gz_path):\n",
    "    with DLProgress(unit='B', unit_scale=True, miniters=1, desc='CIFAR-10 Dataset') as pbar:\n",
    "        urlretrieve(\n",
    "            'https://www.cs.toronto.edu/~kriz/cifar-10-python.tar.gz',\n",
    "            tar_gz_path,\n",
    "            pbar.hook)\n",
    "\n",
    "if not isdir(cifar10_dataset_folder_path):\n",
    "    with tarfile.open(tar_gz_path) as tar:\n",
    "        tar.extractall()\n",
    "        tar.close()\n",
    "\n",
    "\n",
    "tests.test_folder_path(cifar10_dataset_folder_path)"
   ]
  },
  {
   "cell_type": "markdown",
   "metadata": {
    "deletable": true,
    "editable": true
   },
   "source": [
    "## Explore the Data\n",
    "The dataset is broken into batches to prevent your machine from running out of memory.  The CIFAR-10 dataset consists of 5 batches, named `data_batch_1`, `data_batch_2`, etc.. Each batch contains the labels and images that are one of the following:\n",
    "* airplane\n",
    "* automobile\n",
    "* bird\n",
    "* cat\n",
    "* deer\n",
    "* dog\n",
    "* frog\n",
    "* horse\n",
    "* ship\n",
    "* truck\n",
    "\n",
    "Understanding a dataset is part of making predictions on the data.  Play around with the code cell below by changing the `batch_id` and `sample_id`. The `batch_id` is the id for a batch (1-5). The `sample_id` is the id for a image and label pair in the batch.\n",
    "\n",
    "Ask yourself \"What are all possible labels?\", \"What is the range of values for the image data?\", \"Are the labels in order or random?\".  Answers to questions like these will help you preprocess the data and end up with better predictions."
   ]
  },
  {
   "cell_type": "code",
   "execution_count": 2,
   "metadata": {
    "ExecuteTime": {
     "end_time": "2017-05-15T01:52:56.382411Z",
     "start_time": "2017-05-14T18:52:55.358094-07:00"
    },
    "collapsed": false,
    "deletable": true,
    "editable": true
   },
   "outputs": [
    {
     "name": "stdout",
     "output_type": "stream",
     "text": [
      "\n",
      "Stats of batch 2:\n",
      "Samples: 10000\n",
      "Label Counts: {0: 984, 1: 1007, 2: 1010, 3: 995, 4: 1010, 5: 988, 6: 1008, 7: 1026, 8: 987, 9: 985}\n",
      "First 20 Labels: [1, 6, 6, 8, 8, 3, 4, 6, 0, 6, 0, 3, 6, 6, 5, 4, 8, 3, 2, 6]\n",
      "\n",
      "Example of Image 5:\n",
      "Image - Min Value: 3 Max Value: 219\n",
      "Image - Shape: (32, 32, 3)\n",
      "Label - Label Id: 3 Name: cat\n"
     ]
    },
    {
     "data": {
      "image/png": "[encoded data removed]",
      "text/plain": [
       "<matplotlib.figure.Figure at 0x7fc12c2a1160>"
      ]
     },
     "metadata": {
      "image/png": {
       "height": 250,
       "width": 253
      }
     },
     "output_type": "display_data"
    }
   ],
   "source": [
    "%matplotlib inline\n",
    "%config InlineBackend.figure_format = 'retina'\n",
    "\n",
    "import helper\n",
    "import numpy as np\n",
    "\n",
    "# Explore the dataset\n",
    "batch_id = 2\n",
    "sample_id = 5\n",
    "helper.display_stats(cifar10_dataset_folder_path, batch_id, sample_id)"
   ]
  },
  {
   "cell_type": "markdown",
   "metadata": {
    "deletable": true,
    "editable": true
   },
   "source": [
    "## Implement Preprocess Functions\n",
    "### Normalize\n",
    "In the cell below, implement the `normalize` function to take in image data, `x`, and return it as a normalized Numpy array. The values should be in the range of 0 to 1, inclusive.  The return object should be the same shape as `x`."
   ]
  },
  {
   "cell_type": "code",
   "execution_count": 3,
   "metadata": {
    "ExecuteTime": {
     "end_time": "2017-05-15T01:52:56.430049Z",
     "start_time": "2017-05-14T18:52:56.384371-07:00"
    },
    "collapsed": false,
    "deletable": true,
    "editable": true
   },
   "outputs": [
    {
     "name": "stdout",
     "output_type": "stream",
     "text": [
      "Tests Passed\n"
     ]
    }
   ],
   "source": [
    "def normalize(x):\n",
    "    \"\"\"\n",
    "    Normalize a list of sample image data in the range of 0 to 1\n",
    "    : x: List of image data.  The image shape is (32, 32, 3)\n",
    "    : return: Numpy array of normalize data\n",
    "    \"\"\"\n",
    "    # TODO: Implement Function\n",
    "    x_min = x.min(axis=(0, 1), keepdims=True)\n",
    "    x_max = x.max(axis=(0, 1), keepdims=True)\n",
    "    return (x - x_min)/(x_max - x_min)\n",
    "\n",
    "\n",
    "\"\"\"\n",
    "DON'T MODIFY ANYTHING IN THIS CELL THAT IS BELOW THIS LINE\n",
    "\"\"\"\n",
    "tests.test_normalize(normalize)"
   ]
  },
  {
   "cell_type": "markdown",
   "metadata": {
    "deletable": true,
    "editable": true
   },
   "source": [
    "### One-hot encode\n",
    "Just like the previous code cell, you'll be implementing a function for preprocessing.  This time, you'll implement the `one_hot_encode` function. The input, `x`, are a list of labels.  Implement the function to return the list of labels as One-Hot encoded Numpy array.  The possible values for labels are 0 to 9. The one-hot encoding function should return the same encoding for each value between each call to `one_hot_encode`.  Make sure to save the map of encodings outside the function.\n",
    "\n",
    "Hint: Don't reinvent the wheel."
   ]
  },
  {
   "cell_type": "code",
   "execution_count": 4,
   "metadata": {
    "ExecuteTime": {
     "end_time": "2017-05-15T01:52:56.443419Z",
     "start_time": "2017-05-14T18:52:56.434391-07:00"
    },
    "collapsed": false,
    "deletable": true,
    "editable": true
   },
   "outputs": [
    {
     "name": "stdout",
     "output_type": "stream",
     "text": [
      "Tests Passed\n"
     ]
    }
   ],
   "source": [
    "def one_hot_encode(x):\n",
    "    \"\"\"\n",
    "    One hot encode a list of sample labels. Return a one-hot encoded vector for each label.\n",
    "    : x: List of sample Labels\n",
    "    : return: Numpy array of one-hot encoded labels\n",
    "    \"\"\"\n",
    "    # TODO: Implement Function\n",
    "    return np.eye(10)[x]\n",
    "\n",
    "\n",
    "\"\"\"\n",
    "DON'T MODIFY ANYTHING IN THIS CELL THAT IS BELOW THIS LINE\n",
    "\"\"\"\n",
    "tests.test_one_hot_encode(one_hot_encode)"
   ]
  },
  {
   "cell_type": "markdown",
   "metadata": {
    "deletable": true,
    "editable": true
   },
   "source": [
    "### Randomize Data\n",
    "As you saw from exploring the data above, the order of the samples are randomized.  It doesn't hurt to randomize it again, but you don't need to for this dataset."
   ]
  },
  {
   "cell_type": "markdown",
   "metadata": {
    "deletable": true,
    "editable": true
   },
   "source": [
    "## Preprocess all the data and save it\n",
    "Running the code cell below will preprocess all the CIFAR-10 data and save it to file. The code below also uses 10% of the training data for validation."
   ]
  },
  {
   "cell_type": "code",
   "execution_count": 5,
   "metadata": {
    "ExecuteTime": {
     "end_time": "2017-05-15T01:53:03.185427Z",
     "start_time": "2017-05-14T18:52:56.446592-07:00"
    },
    "collapsed": false,
    "deletable": true,
    "editable": true
   },
   "outputs": [],
   "source": [
    "\"\"\"\n",
    "DON'T MODIFY ANYTHING IN THIS CELL\n",
    "\"\"\"\n",
    "# Preprocess Training, Validation, and Testing Data\n",
    "helper.preprocess_and_save_data(cifar10_dataset_folder_path, normalize, one_hot_encode)"
   ]
  },
  {
   "cell_type": "markdown",
   "metadata": {
    "deletable": true,
    "editable": true
   },
   "source": [
    "# Check Point\n",
    "This is your first checkpoint.  If you ever decide to come back to this notebook or have to restart the notebook, you can start from here.  The preprocessed data has been saved to disk."
   ]
  },
  {
   "cell_type": "code",
   "execution_count": 6,
   "metadata": {
    "ExecuteTime": {
     "end_time": "2017-05-15T01:53:03.376846Z",
     "start_time": "2017-05-14T18:53:03.187680-07:00"
    },
    "collapsed": true,
    "deletable": true,
    "editable": true
   },
   "outputs": [],
   "source": [
    "\"\"\"\n",
    "DON'T MODIFY ANYTHING IN THIS CELL\n",
    "\"\"\"\n",
    "import pickle\n",
    "import problem_unittests as tests\n",
    "import helper\n",
    "\n",
    "# Load the Preprocessed Validation data\n",
    "valid_features, valid_labels = pickle.load(open('preprocess_validation.p', mode='rb'))"
   ]
  },
  {
   "cell_type": "markdown",
   "metadata": {
    "deletable": true,
    "editable": true
   },
   "source": [
    "## Build the network\n",
    "For the neural network, you'll build each layer into a function.  Most of the code you've seen has been outside of functions. To test your code more thoroughly, we require that you put each layer in a function.  This allows us to give you better feedback and test for simple mistakes using our unittests before you submit your project.\n",
    "\n",
    ">**Note:** If you're finding it hard to dedicate enough time for this course each week, we've provided a small shortcut to this part of the project. In the next couple of problems, you'll have the option to use classes from the [TensorFlow Layers](https://www.tensorflow.org/api_docs/python/tf/layers) or [TensorFlow Layers (contrib)](https://www.tensorflow.org/api_guides/python/contrib.layers) packages to build each layer, except the layers you build in the \"Convolutional and Max Pooling Layer\" section.  TF Layers is similar to Keras's and TFLearn's abstraction to layers, so it's easy to pickup.\n",
    "\n",
    ">However, if you would like to get the most out of this course, try to solve all the problems _without_ using anything from the TF Layers packages. You **can** still use classes from other packages that happen to have the same name as ones you find in TF Layers! For example, instead of using the TF Layers version of the `conv2d` class, [tf.layers.conv2d](https://www.tensorflow.org/api_docs/python/tf/layers/conv2d), you would want to use the TF Neural Network version of `conv2d`, [tf.nn.conv2d](https://www.tensorflow.org/api_docs/python/tf/nn/conv2d). \n",
    "\n",
    "Let's begin!\n",
    "\n",
    "### Input\n",
    "The neural network needs to read the image data, one-hot encoded labels, and dropout keep probability. Implement the following functions\n",
    "* Implement `neural_net_image_input`\n",
    " * Return a [TF Placeholder](https://www.tensorflow.org/api_docs/python/tf/placeholder)\n",
    " * Set the shape using `image_shape` with batch size set to `None`.\n",
    " * Name the TensorFlow placeholder \"x\" using the TensorFlow `name` parameter in the [TF Placeholder](https://www.tensorflow.org/api_docs/python/tf/placeholder).\n",
    "* Implement `neural_net_label_input`\n",
    " * Return a [TF Placeholder](https://www.tensorflow.org/api_docs/python/tf/placeholder)\n",
    " * Set the shape using `n_classes` with batch size set to `None`.\n",
    " * Name the TensorFlow placeholder \"y\" using the TensorFlow `name` parameter in the [TF Placeholder](https://www.tensorflow.org/api_docs/python/tf/placeholder).\n",
    "* Implement `neural_net_keep_prob_input`\n",
    " * Return a [TF Placeholder](https://www.tensorflow.org/api_docs/python/tf/placeholder) for dropout keep probability.\n",
    " * Name the TensorFlow placeholder \"keep_prob\" using the TensorFlow `name` parameter in the [TF Placeholder](https://www.tensorflow.org/api_docs/python/tf/placeholder).\n",
    "\n",
    "These names will be used at the end of the project to load your saved model.\n",
    "\n",
    "Note: `None` for shapes in TensorFlow allow for a dynamic size."
   ]
  },
  {
   "cell_type": "code",
   "execution_count": 7,
   "metadata": {
    "ExecuteTime": {
     "end_time": "2017-05-15T01:53:03.428904Z",
     "start_time": "2017-05-14T18:53:03.378635-07:00"
    },
    "collapsed": false,
    "deletable": true,
    "editable": true
   },
   "outputs": [
    {
     "name": "stdout",
     "output_type": "stream",
     "text": [
      "Image Input Tests Passed.\n",
      "Label Input Tests Passed.\n",
      "Keep Prob Tests Passed.\n"
     ]
    }
   ],
   "source": [
    "import tensorflow as tf\n",
    "\n",
    "def neural_net_image_input(image_shape):\n",
    "    \"\"\"\n",
    "    Return a Tensor for a batch of image input\n",
    "    : image_shape: Shape of the images\n",
    "    : return: Tensor for image input.\n",
    "    \"\"\"\n",
    "    # TODO: Implement Function\n",
    "    return tf.placeholder(tf.float32, [None, image_shape[0], image_shape[1], image_shape[2]], \"x\")\n",
    "\n",
    "\n",
    "def neural_net_label_input(n_classes):\n",
    "    \"\"\"\n",
    "    Return a Tensor for a batch of label input\n",
    "    : n_classes: Number of classes\n",
    "    : return: Tensor for label input.\n",
    "    \"\"\"\n",
    "    # TODO: Implement Function\n",
    "    return tf.placeholder(tf.float32, [None, n_classes], \"y\")\n",
    "\n",
    "\n",
    "def neural_net_keep_prob_input():\n",
    "    \"\"\"\n",
    "    Return a Tensor for keep probability\n",
    "    : return: Tensor for keep probability.\n",
    "    \"\"\"\n",
    "    # TODO: Implement Function\n",
    "    return tf.placeholder(tf.float32, name=\"keep_prob\")\n",
    "\n",
    "\n",
    "\"\"\"\n",
    "DON'T MODIFY ANYTHING IN THIS CELL THAT IS BELOW THIS LINE\n",
    "\"\"\"\n",
    "tf.reset_default_graph()\n",
    "tests.test_nn_image_inputs(neural_net_image_input)\n",
    "tests.test_nn_label_inputs(neural_net_label_input)\n",
    "tests.test_nn_keep_prob_inputs(neural_net_keep_prob_input)"
   ]
  },
  {
   "cell_type": "markdown",
   "metadata": {
    "deletable": true,
    "editable": true
   },
   "source": [
    "### Convolution and Max Pooling Layer\n",
    "Convolution layers have a lot of success with images. For this code cell, you should implement the function `conv2d_maxpool` to apply convolution then max pooling:\n",
    "* Create the weight and bias using `conv_ksize`, `conv_num_outputs` and the shape of `x_tensor`.\n",
    "* Apply a convolution to `x_tensor` using weight and `conv_strides`.\n",
    " * We recommend you use same padding, but you're welcome to use any padding.\n",
    "* Add bias\n",
    "* Add a nonlinear activation to the convolution.\n",
    "* Apply Max Pooling using `pool_ksize` and `pool_strides`.\n",
    " * We recommend you use same padding, but you're welcome to use any padding.\n",
    "\n",
    "**Note:** You **can't** use [TensorFlow Layers](https://www.tensorflow.org/api_docs/python/tf/layers) or [TensorFlow Layers (contrib)](https://www.tensorflow.org/api_guides/python/contrib.layers) for **this** layer, but you can still use TensorFlow's [Neural Network](https://www.tensorflow.org/api_docs/python/tf/nn) package. You may still use the shortcut option for all the **other** layers."
   ]
  },
  {
   "cell_type": "code",
   "execution_count": 8,
   "metadata": {
    "ExecuteTime": {
     "end_time": "2017-05-15T02:10:45.283084Z",
     "start_time": "2017-05-14T19:10:45.238805-07:00"
    },
    "collapsed": false,
    "deletable": true,
    "editable": true
   },
   "outputs": [
    {
     "name": "stdout",
     "output_type": "stream",
     "text": [
      "Tests Passed\n"
     ]
    }
   ],
   "source": [
    "def conv2d_maxpool(x_tensor, conv_num_outputs, conv_ksize, conv_strides, pool_ksize, pool_strides):\n",
    "    \"\"\"\n",
    "    Apply convolution then max pooling to x_tensor\n",
    "    :param x_tensor: TensorFlow Tensor\n",
    "    :param conv_num_outputs: Number of outputs for the convolutional layer\n",
    "    :param conv_ksize: kernal size 2-D Tuple for the convolutional layer\n",
    "    :param conv_strides: Stride 2-D Tuple for convolution\n",
    "    :param pool_ksize: kernal size 2-D Tuple for pool\n",
    "    :param pool_strides: Stride 2-D Tuple for pool\n",
    "    : return: A tensor that represents convolution and max pooling of x_tensor\n",
    "    \"\"\"\n",
    "    # TODO: Implement Function\n",
    "    input_shape = int(x_tensor.shape[3])\n",
    "    output_shape = conv_num_outputs\n",
    "    weight_shape = [*conv_ksize, input_shape, output_shape]\n",
    "    w = tf.Variable(tf.random_normal(weight_shape, stddev=0.1))\n",
    "    b = tf.Variable(tf.zeros(output_shape))\n",
    "    \n",
    "    conv_net = tf.nn.conv2d(x_tensor, w, [1, *conv_strides, 1], padding=\"SAME\")\n",
    "    conv_net = tf.nn.bias_add(conv_net, b)\n",
    "    conv_net = tf.nn.relu(conv_net)\n",
    "    \n",
    "    mp_strides = [1, *pool_strides, 1]\n",
    "    mp_ksize = [1, *conv_ksize, 1]\n",
    "    conv_net = tf.nn.max_pool(conv_net, mp_ksize, mp_strides, padding=\"SAME\")\n",
    "    return conv_net\n",
    "\n",
    "\n",
    "\"\"\"\n",
    "DON'T MODIFY ANYTHING IN THIS CELL THAT IS BELOW THIS LINE\n",
    "\"\"\"\n",
    "tests.test_con_pool(conv2d_maxpool)"
   ]
  },
  {
   "cell_type": "markdown",
   "metadata": {
    "deletable": true,
    "editable": true
   },
   "source": [
    "### Flatten Layer\n",
    "Implement the `flatten` function to change the dimension of `x_tensor` from a 4-D tensor to a 2-D tensor.  The output should be the shape (*Batch Size*, *Flattened Image Size*). Shortcut option: you can use classes from the [TensorFlow Layers](https://www.tensorflow.org/api_docs/python/tf/layers) or [TensorFlow Layers (contrib)](https://www.tensorflow.org/api_guides/python/contrib.layers) packages for this layer. For more of a challenge, only use other TensorFlow packages."
   ]
  },
  {
   "cell_type": "code",
   "execution_count": 9,
   "metadata": {
    "ExecuteTime": {
     "end_time": "2017-05-15T02:12:39.924275Z",
     "start_time": "2017-05-14T19:12:39.049182-07:00"
    },
    "collapsed": false,
    "deletable": true,
    "editable": true
   },
   "outputs": [
    {
     "name": "stdout",
     "output_type": "stream",
     "text": [
      "Tests Passed\n"
     ]
    }
   ],
   "source": [
    "def flatten(x_tensor):\n",
    "    \"\"\"\n",
    "    Flatten x_tensor to (Batch Size, Flattened Image Size)\n",
    "    : x_tensor: A tensor of size (Batch Size, ...), where ... are the image dimensions.\n",
    "    : return: A tensor of size (Batch Size, Flattened Image Size).\n",
    "    \"\"\"\n",
    "    # TODO: Implement Function\n",
    "    return tf.contrib.layers.flatten(x_tensor)\n",
    "\n",
    "\n",
    "\"\"\"\n",
    "DON'T MODIFY ANYTHING IN THIS CELL THAT IS BELOW THIS LINE\n",
    "\"\"\"\n",
    "tests.test_flatten(flatten)"
   ]
  },
  {
   "cell_type": "markdown",
   "metadata": {
    "deletable": true,
    "editable": true
   },
   "source": [
    "### Fully-Connected Layer\n",
    "Implement the `fully_conn` function to apply a fully connected layer to `x_tensor` with the shape (*Batch Size*, *num_outputs*). Shortcut option: you can use classes from the [TensorFlow Layers](https://www.tensorflow.org/api_docs/python/tf/layers) or [TensorFlow Layers (contrib)](https://www.tensorflow.org/api_guides/python/contrib.layers) packages for this layer. For more of a challenge, only use other TensorFlow packages."
   ]
  },
  {
   "cell_type": "code",
   "execution_count": 10,
   "metadata": {
    "ExecuteTime": {
     "end_time": "2017-05-15T02:14:15.803561Z",
     "start_time": "2017-05-14T19:14:15.771994-07:00"
    },
    "collapsed": false,
    "deletable": true,
    "editable": true
   },
   "outputs": [
    {
     "name": "stdout",
     "output_type": "stream",
     "text": [
      "Tests Passed\n"
     ]
    }
   ],
   "source": [
    "def fully_conn(x_tensor, num_outputs):\n",
    "    \"\"\"\n",
    "    Apply a fully connected layer to x_tensor using weight and bias\n",
    "    : x_tensor: A 2-D tensor where the first dimension is batch size.\n",
    "    : num_outputs: The number of output that the new tensor should be.\n",
    "    : return: A 2-D tensor where the second dimension is num_outputs.\n",
    "    \"\"\"\n",
    "    # TODO: Implement Function\n",
    "    weight_shape = (int(x_tensor.shape[1]), num_outputs)\n",
    "    w = tf.Variable(tf.random_normal(weight_shape, stddev=0.1))\n",
    "    b = tf.Variable(tf.zeros(num_outputs))\n",
    "    \n",
    "    layer = tf.add(tf.matmul(x_tensor, w), b)\n",
    "    layer = tf.nn.relu(layer)\n",
    "    return layer\n",
    "\n",
    "\n",
    "\"\"\"\n",
    "DON'T MODIFY ANYTHING IN THIS CELL THAT IS BELOW THIS LINE\n",
    "\"\"\"\n",
    "tests.test_fully_conn(fully_conn)"
   ]
  },
  {
   "cell_type": "markdown",
   "metadata": {
    "deletable": true,
    "editable": true
   },
   "source": [
    "### Output Layer\n",
    "Implement the `output` function to apply a fully connected layer to `x_tensor` with the shape (*Batch Size*, *num_outputs*). Shortcut option: you can use classes from the [TensorFlow Layers](https://www.tensorflow.org/api_docs/python/tf/layers) or [TensorFlow Layers (contrib)](https://www.tensorflow.org/api_guides/python/contrib.layers) packages for this layer. For more of a challenge, only use other TensorFlow packages.\n",
    "\n",
    "**Note:** Activation, softmax, or cross entropy should **not** be applied to this."
   ]
  },
  {
   "cell_type": "code",
   "execution_count": 11,
   "metadata": {
    "ExecuteTime": {
     "end_time": "2017-05-15T02:15:46.531856Z",
     "start_time": "2017-05-14T19:15:46.503922-07:00"
    },
    "collapsed": false,
    "deletable": true,
    "editable": true
   },
   "outputs": [
    {
     "name": "stdout",
     "output_type": "stream",
     "text": [
      "Tests Passed\n"
     ]
    }
   ],
   "source": [
    "def output(x_tensor, num_outputs):\n",
    "    \"\"\"\n",
    "    Apply a output layer to x_tensor using weight and bias\n",
    "    : x_tensor: A 2-D tensor where the first dimension is batch size.\n",
    "    : num_outputs: The number of output that the new tensor should be.\n",
    "    : return: A 2-D tensor where the second dimension is num_outputs.\n",
    "    \"\"\"\n",
    "    # TODO: Implement Function\n",
    "    weight_shape = (int(x_tensor.shape[1]), num_outputs)\n",
    "    w = tf.Variable(tf.random_normal(weight_shape, stddev=0.1))\n",
    "    b = tf.Variable(tf.zeros(num_outputs))\n",
    "    \n",
    "    layer = tf.add(tf.matmul(x_tensor, w), b)\n",
    "    return layer\n",
    "\n",
    "\n",
    "\"\"\"\n",
    "DON'T MODIFY ANYTHING IN THIS CELL THAT IS BELOW THIS LINE\n",
    "\"\"\"\n",
    "tests.test_output(output)"
   ]
  },
  {
   "cell_type": "markdown",
   "metadata": {
    "deletable": true,
    "editable": true
   },
   "source": [
    "### Create Convolutional Model\n",
    "Implement the function `conv_net` to create a convolutional neural network model. The function takes in a batch of images, `x`, and outputs logits.  Use the layers you created above to create this model:\n",
    "\n",
    "* Apply 1, 2, or 3 Convolution and Max Pool layers\n",
    "* Apply a Flatten Layer\n",
    "* Apply 1, 2, or 3 Fully Connected Layers\n",
    "* Apply an Output Layer\n",
    "* Return the output\n",
    "* Apply [TensorFlow's Dropout](https://www.tensorflow.org/api_docs/python/tf/nn/dropout) to one or more layers in the model using `keep_prob`. "
   ]
  },
  {
   "cell_type": "code",
   "execution_count": 12,
   "metadata": {
    "ExecuteTime": {
     "end_time": "2017-05-15T02:58:01.784388Z",
     "start_time": "2017-05-14T19:58:00.714345-07:00"
    },
    "collapsed": false,
    "deletable": true,
    "editable": true
   },
   "outputs": [
    {
     "name": "stdout",
     "output_type": "stream",
     "text": [
      "Neural Network Built!\n"
     ]
    }
   ],
   "source": [
    "def conv_net(x, keep_prob):\n",
    "    \"\"\"\n",
    "    Create a convolutional neural network model\n",
    "    : x: Placeholder tensor that holds image data.\n",
    "    : keep_prob: Placeholder tensor that hold dropout keep probability.\n",
    "    : return: Tensor that represents logits\n",
    "    \"\"\"\n",
    "    # TODO: Apply 1, 2, or 3 Convolution and Max Pool layers\n",
    "    #    Play around with different number of outputs, kernel size and stride\n",
    "    # Function Definition from Above:\n",
    "    #    conv2d_maxpool(x_tensor, conv_num_outputs, conv_ksize, conv_strides, pool_ksize, pool_strides)\n",
    "    conv_num_outputs_layer_1 = 64\n",
    "    conv_ksize_layer_1 = (3, 3)\n",
    "    conv_strides_layer_1 = (1, 1)\n",
    "    pool_ksize_layer_1 = (2, 2)\n",
    "    pool_strides_layer_1 = (2, 2)\n",
    "    conv_layer_1 = conv2d_maxpool(x,\n",
    "                           conv_num_outputs_layer_1,\n",
    "                           conv_ksize_layer_1,\n",
    "                           conv_strides_layer_1,\n",
    "                           pool_ksize_layer_1,\n",
    "                           pool_strides_layer_1)\n",
    "    \n",
    "    conv_num_outputs_layer_2 = 64\n",
    "    conv_ksize_layer_2 = (3, 3)\n",
    "    conv_strides_layer_2 = (2, 2)\n",
    "    pool_ksize_layer_2 = (2, 2)\n",
    "    pool_strides_layer_2 = (2, 2)\n",
    "    conv_layer_2 = conv2d_maxpool(conv_layer_1,\n",
    "                           conv_num_outputs_layer_2,\n",
    "                           conv_ksize_layer_2,\n",
    "                           conv_strides_layer_2,\n",
    "                           pool_ksize_layer_2,\n",
    "                           pool_strides_layer_2)\n",
    "    \n",
    "    conv_num_outputs_layer_3 = 64\n",
    "    conv_ksize_layer_3 = (3, 3)\n",
    "    conv_strides_layer_3 = (1, 1)\n",
    "    pool_ksize_layer_3 = (2, 2)\n",
    "    pool_strides_layer_3 = (2, 2)\n",
    "    conv_layer_3 = conv2d_maxpool(conv_layer_2,\n",
    "                           conv_num_outputs_layer_3,\n",
    "                           conv_ksize_layer_3,\n",
    "                           conv_strides_layer_3,\n",
    "                           pool_ksize_layer_3,\n",
    "                           pool_strides_layer_3)\n",
    "    \n",
    "\n",
    "    # TODO: Apply a Flatten Layer\n",
    "    # Function Definition from Above:\n",
    "    #   flatten(x_tensor)\n",
    "    flatten_layer = flatten(conv_layer_3)\n",
    "\n",
    "    # TODO: Apply 1, 2, or 3 Fully Connected Layers\n",
    "    #    Play around with different number of outputs\n",
    "    # Function Definition from Above:\n",
    "    #   fully_conn(x_tensor, num_outputs)\n",
    "    fc_layer_1_num_outputs = 512\n",
    "    fc_layer_2_num_outputs = 256\n",
    "    fc_layer_3_num_outputs = 128\n",
    "    \n",
    "    fc_layer_1 = fully_conn(flatten_layer, fc_layer_1_num_outputs)\n",
    "    fc_layer_1 = tf.nn.dropout(fc_layer_1, keep_prob)\n",
    "    \n",
    "    fc_layer_2 = fully_conn(fc_layer_1, fc_layer_2_num_outputs)\n",
    "    fc_layer_2 = tf.nn.dropout(fc_layer_2, keep_prob)\n",
    "    \n",
    "    fc_layer_3 = fully_conn(fc_layer_2, fc_layer_3_num_outputs)\n",
    "    fc_layer_3 = tf.nn.dropout(fc_layer_3, keep_prob)\n",
    "    \n",
    "    # TODO: Apply an Output Layer\n",
    "    #    Set this to the number of classes\n",
    "    # Function Definition from Above:\n",
    "    #   output(x_tensor, num_outputs)\n",
    "    output_num_outputs = 10\n",
    "    output_layer = output(fc_layer_2, output_num_outputs)\n",
    "    \n",
    "    # TODO: return output\n",
    "    return output_layer\n",
    "\n",
    "\n",
    "\"\"\"\n",
    "DON'T MODIFY ANYTHING IN THIS CELL THAT IS BELOW THIS LINE\n",
    "\"\"\"\n",
    "\n",
    "##############################\n",
    "## Build the Neural Network ##\n",
    "##############################\n",
    "\n",
    "# Remove previous weights, bias, inputs, etc..\n",
    "tf.reset_default_graph()\n",
    "\n",
    "# Inputs\n",
    "x = neural_net_image_input((32, 32, 3))\n",
    "y = neural_net_label_input(10)\n",
    "keep_prob = neural_net_keep_prob_input()\n",
    "\n",
    "# Model\n",
    "logits = conv_net(x, keep_prob)\n",
    "\n",
    "# Name logits Tensor, so that is can be loaded from disk after training\n",
    "logits = tf.identity(logits, name='logits')\n",
    "\n",
    "# Loss and Optimizer\n",
    "cost = tf.reduce_mean(tf.nn.softmax_cross_entropy_with_logits(logits=logits, labels=y))\n",
    "optimizer = tf.train.AdamOptimizer().minimize(cost)\n",
    "\n",
    "# Accuracy\n",
    "correct_pred = tf.equal(tf.argmax(logits, 1), tf.argmax(y, 1))\n",
    "accuracy = tf.reduce_mean(tf.cast(correct_pred, tf.float32), name='accuracy')\n",
    "\n",
    "tests.test_conv_net(conv_net)"
   ]
  },
  {
   "cell_type": "markdown",
   "metadata": {
    "deletable": true,
    "editable": true
   },
   "source": [
    "## Train the Neural Network\n",
    "### Single Optimization\n",
    "Implement the function `train_neural_network` to do a single optimization.  The optimization should use `optimizer` to optimize in `session` with a `feed_dict` of the following:\n",
    "* `x` for image input\n",
    "* `y` for labels\n",
    "* `keep_prob` for keep probability for dropout\n",
    "\n",
    "This function will be called for each batch, so `tf.global_variables_initializer()` has already been called.\n",
    "\n",
    "Note: Nothing needs to be returned. This function is only optimizing the neural network."
   ]
  },
  {
   "cell_type": "code",
   "execution_count": 13,
   "metadata": {
    "ExecuteTime": {
     "end_time": "2017-05-15T03:01:10.319994Z",
     "start_time": "2017-05-14T20:01:10.302539-07:00"
    },
    "collapsed": false,
    "deletable": true,
    "editable": true
   },
   "outputs": [
    {
     "name": "stdout",
     "output_type": "stream",
     "text": [
      "Tests Passed\n"
     ]
    }
   ],
   "source": [
    "def train_neural_network(session, optimizer, keep_probability, feature_batch, label_batch):\n",
    "    \"\"\"\n",
    "    Optimize the session on a batch of images and labels\n",
    "    : session: Current TensorFlow session\n",
    "    : optimizer: TensorFlow optimizer function\n",
    "    : keep_probability: keep probability\n",
    "    : feature_batch: Batch of Numpy image data\n",
    "    : label_batch: Batch of Numpy label data\n",
    "    \"\"\"\n",
    "    # TODO: Implement Function\n",
    "    session.run(optimizer, feed_dict={x: feature_batch, y: label_batch, keep_prob: keep_probability})\n",
    "\n",
    "\n",
    "\"\"\"\n",
    "DON'T MODIFY ANYTHING IN THIS CELL THAT IS BELOW THIS LINE\n",
    "\"\"\"\n",
    "tests.test_train_nn(train_neural_network)"
   ]
  },
  {
   "cell_type": "markdown",
   "metadata": {
    "deletable": true,
    "editable": true
   },
   "source": [
    "### Show Stats\n",
    "Implement the function `print_stats` to print loss and validation accuracy.  Use the global variables `valid_features` and `valid_labels` to calculate validation accuracy.  Use a keep probability of `1.0` to calculate the loss and validation accuracy."
   ]
  },
  {
   "cell_type": "code",
   "execution_count": 14,
   "metadata": {
    "ExecuteTime": {
     "end_time": "2017-05-15T03:06:47.057979Z",
     "start_time": "2017-05-14T20:06:47.053248-07:00"
    },
    "collapsed": false,
    "deletable": true,
    "editable": true
   },
   "outputs": [],
   "source": [
    "def print_stats(session, feature_batch, label_batch, cost, accuracy):\n",
    "    \"\"\"\n",
    "    Print information about loss and validation accuracy\n",
    "    : session: Current TensorFlow session\n",
    "    : feature_batch: Batch of Numpy image data\n",
    "    : label_batch: Batch of Numpy label data\n",
    "    : cost: TensorFlow cost function\n",
    "    : accuracy: TensorFlow accuracy function\n",
    "    \"\"\"\n",
    "    # TODO: Implement Function\n",
    "    loss, acc = session.run([cost, accuracy], feed_dict={x: feature_batch, y: label_batch, keep_prob: 1.0})\n",
    "    print(\"Minibatch Loss= \" + \"{:.6f}\".format(loss) +\n",
    "          \"Training Accuracy= \" + \"{:.5f}\".format(acc))"
   ]
  },
  {
   "cell_type": "markdown",
   "metadata": {
    "deletable": true,
    "editable": true
   },
   "source": [
    "### Hyperparameters\n",
    "Tune the following parameters:\n",
    "* Set `epochs` to the number of iterations until the network stops learning or start overfitting\n",
    "* Set `batch_size` to the highest number that your machine has memory for.  Most people set them to common sizes of memory:\n",
    " * 64\n",
    " * 128\n",
    " * 256\n",
    " * ...\n",
    "* Set `keep_probability` to the probability of keeping a node using dropout"
   ]
  },
  {
   "cell_type": "code",
   "execution_count": 19,
   "metadata": {
    "ExecuteTime": {
     "end_time": "2017-05-15T03:06:48.568305Z",
     "start_time": "2017-05-14T20:06:48.564119-07:00"
    },
    "collapsed": true,
    "deletable": true,
    "editable": true
   },
   "outputs": [],
   "source": [
    "# TODO: Tune Parameters\n",
    "epochs = 50\n",
    "batch_size = 100\n",
    "keep_probability = 0.75"
   ]
  },
  {
   "cell_type": "markdown",
   "metadata": {
    "deletable": true,
    "editable": true
   },
   "source": [
    "### Train on a Single CIFAR-10 Batch\n",
    "Instead of training the neural network on all the CIFAR-10 batches of data, let's use a single batch. This should save time while you iterate on the model to get a better accuracy.  Once the final validation accuracy is 50% or greater, run the model on all the data in the next section."
   ]
  },
  {
   "cell_type": "code",
   "execution_count": 16,
   "metadata": {
    "ExecuteTime": {
     "start_time": "2017-05-15T03:06:49.440Z"
    },
    "collapsed": false,
    "deletable": true,
    "editable": true
   },
   "outputs": [
    {
     "name": "stdout",
     "output_type": "stream",
     "text": [
      "Checking the Training on a Single Batch...\n",
      "Epoch  1, CIFAR-10 Batch 1:  Minibatch Loss= 1.844499Training Accuracy= 0.42000\n",
      "Epoch  2, CIFAR-10 Batch 1:  Minibatch Loss= 1.612534Training Accuracy= 0.52000\n",
      "Epoch  3, CIFAR-10 Batch 1:  Minibatch Loss= 1.488395Training Accuracy= 0.56000\n",
      "Epoch  4, CIFAR-10 Batch 1:  Minibatch Loss= 1.376509Training Accuracy= 0.60000\n",
      "Epoch  5, CIFAR-10 Batch 1:  Minibatch Loss= 1.258006Training Accuracy= 0.57000\n",
      "Epoch  6, CIFAR-10 Batch 1:  Minibatch Loss= 1.110714Training Accuracy= 0.66000\n",
      "Epoch  7, CIFAR-10 Batch 1:  Minibatch Loss= 1.093041Training Accuracy= 0.62000\n",
      "Epoch  8, CIFAR-10 Batch 1:  Minibatch Loss= 1.025419Training Accuracy= 0.63000\n",
      "Epoch  9, CIFAR-10 Batch 1:  Minibatch Loss= 0.894577Training Accuracy= 0.69000\n",
      "Epoch 10, CIFAR-10 Batch 1:  Minibatch Loss= 0.875749Training Accuracy= 0.71000\n",
      "Epoch 11, CIFAR-10 Batch 1:  Minibatch Loss= 0.827952Training Accuracy= 0.74000\n",
      "Epoch 12, CIFAR-10 Batch 1:  Minibatch Loss= 0.792384Training Accuracy= 0.74000\n",
      "Epoch 13, CIFAR-10 Batch 1:  Minibatch Loss= 0.721764Training Accuracy= 0.72000\n",
      "Epoch 14, CIFAR-10 Batch 1:  Minibatch Loss= 0.703729Training Accuracy= 0.73000\n",
      "Epoch 15, CIFAR-10 Batch 1:  Minibatch Loss= 0.681811Training Accuracy= 0.76000\n",
      "Epoch 16, CIFAR-10 Batch 1:  Minibatch Loss= 0.683223Training Accuracy= 0.72000\n",
      "Epoch 17, CIFAR-10 Batch 1:  Minibatch Loss= 0.576009Training Accuracy= 0.72000\n",
      "Epoch 18, CIFAR-10 Batch 1:  Minibatch Loss= 0.582984Training Accuracy= 0.77000\n",
      "Epoch 19, CIFAR-10 Batch 1:  Minibatch Loss= 0.522957Training Accuracy= 0.81000\n",
      "Epoch 20, CIFAR-10 Batch 1:  Minibatch Loss= 0.402097Training Accuracy= 0.84000\n",
      "Epoch 21, CIFAR-10 Batch 1:  Minibatch Loss= 0.397677Training Accuracy= 0.84000\n",
      "Epoch 22, CIFAR-10 Batch 1:  Minibatch Loss= 0.324861Training Accuracy= 0.88000\n",
      "Epoch 23, CIFAR-10 Batch 1:  Minibatch Loss= 0.334051Training Accuracy= 0.85000\n",
      "Epoch 24, CIFAR-10 Batch 1:  Minibatch Loss= 0.320084Training Accuracy= 0.92000\n",
      "Epoch 25, CIFAR-10 Batch 1:  Minibatch Loss= 0.321287Training Accuracy= 0.85000\n",
      "Epoch 26, CIFAR-10 Batch 1:  Minibatch Loss= 0.227569Training Accuracy= 0.92000\n",
      "Epoch 27, CIFAR-10 Batch 1:  Minibatch Loss= 0.242224Training Accuracy= 0.90000\n",
      "Epoch 28, CIFAR-10 Batch 1:  Minibatch Loss= 0.248141Training Accuracy= 0.96000\n",
      "Epoch 29, CIFAR-10 Batch 1:  Minibatch Loss= 0.249815Training Accuracy= 0.90000\n",
      "Epoch 30, CIFAR-10 Batch 1:  Minibatch Loss= 0.217648Training Accuracy= 0.93000\n",
      "Epoch 31, CIFAR-10 Batch 1:  Minibatch Loss= 0.234359Training Accuracy= 0.89000\n",
      "Epoch 32, CIFAR-10 Batch 1:  Minibatch Loss= 0.186023Training Accuracy= 0.93000\n",
      "Epoch 33, CIFAR-10 Batch 1:  Minibatch Loss= 0.192521Training Accuracy= 0.96000\n",
      "Epoch 34, CIFAR-10 Batch 1:  Minibatch Loss= 0.124656Training Accuracy= 0.95000\n",
      "Epoch 35, CIFAR-10 Batch 1:  Minibatch Loss= 0.087523Training Accuracy= 1.00000\n",
      "Epoch 36, CIFAR-10 Batch 1:  Minibatch Loss= 0.137410Training Accuracy= 0.96000\n",
      "Epoch 37, CIFAR-10 Batch 1:  Minibatch Loss= 0.111215Training Accuracy= 0.97000\n",
      "Epoch 38, CIFAR-10 Batch 1:  Minibatch Loss= 0.118758Training Accuracy= 0.98000\n",
      "Epoch 39, CIFAR-10 Batch 1:  Minibatch Loss= 0.089358Training Accuracy= 0.98000\n",
      "Epoch 40, CIFAR-10 Batch 1:  Minibatch Loss= 0.063394Training Accuracy= 0.98000\n",
      "Epoch 41, CIFAR-10 Batch 1:  Minibatch Loss= 0.063793Training Accuracy= 0.99000\n",
      "Epoch 42, CIFAR-10 Batch 1:  Minibatch Loss= 0.062998Training Accuracy= 1.00000\n",
      "Epoch 43, CIFAR-10 Batch 1:  Minibatch Loss= 0.107646Training Accuracy= 0.97000\n",
      "Epoch 44, CIFAR-10 Batch 1:  Minibatch Loss= 0.066923Training Accuracy= 0.98000\n",
      "Epoch 45, CIFAR-10 Batch 1:  Minibatch Loss= 0.058722Training Accuracy= 0.99000\n",
      "Epoch 46, CIFAR-10 Batch 1:  Minibatch Loss= 0.050980Training Accuracy= 0.99000\n",
      "Epoch 47, CIFAR-10 Batch 1:  Minibatch Loss= 0.049809Training Accuracy= 0.98000\n",
      "Epoch 48, CIFAR-10 Batch 1:  Minibatch Loss= 0.108777Training Accuracy= 0.96000\n",
      "Epoch 49, CIFAR-10 Batch 1:  Minibatch Loss= 0.022044Training Accuracy= 1.00000\n",
      "Epoch 50, CIFAR-10 Batch 1:  Minibatch Loss= 0.028182Training Accuracy= 1.00000\n"
     ]
    }
   ],
   "source": [
    "\"\"\"\n",
    "DON'T MODIFY ANYTHING IN THIS CELL\n",
    "\"\"\"\n",
    "print('Checking the Training on a Single Batch...')\n",
    "with tf.Session() as sess:\n",
    "    # Initializing the variables\n",
    "    sess.run(tf.global_variables_initializer())\n",
    "    \n",
    "    # Training cycle\n",
    "    for epoch in range(epochs):\n",
    "        batch_i = 1\n",
    "        for batch_features, batch_labels in helper.load_preprocess_training_batch(batch_i, batch_size):\n",
    "            train_neural_network(sess, optimizer, keep_probability, batch_features, batch_labels)\n",
    "        print('Epoch {:>2}, CIFAR-10 Batch {}:  '.format(epoch + 1, batch_i), end='')\n",
    "        print_stats(sess, batch_features, batch_labels, cost, accuracy)"
   ]
  },
  {
   "cell_type": "markdown",
   "metadata": {
    "deletable": true,
    "editable": true
   },
   "source": [
    "### Fully Train the Model\n",
    "Now that you got a good accuracy with a single CIFAR-10 batch, try it with all five batches."
   ]
  },
  {
   "cell_type": "code",
   "execution_count": 17,
   "metadata": {
    "ExecuteTime": {
     "start_time": "2017-05-15T03:07:36.169Z"
    },
    "collapsed": false,
    "deletable": true,
    "editable": true
   },
   "outputs": [
    {
     "name": "stdout",
     "output_type": "stream",
     "text": [
      "Training...\n",
      "Epoch  1, CIFAR-10 Batch 1:  Minibatch Loss= 1.956021Training Accuracy= 0.34000\n",
      "Epoch  1, CIFAR-10 Batch 2:  Minibatch Loss= 1.579664Training Accuracy= 0.48000\n",
      "Epoch  1, CIFAR-10 Batch 3:  Minibatch Loss= 1.275190Training Accuracy= 0.55000\n",
      "Epoch  1, CIFAR-10 Batch 4:  Minibatch Loss= 1.428589Training Accuracy= 0.43000\n",
      "Epoch  1, CIFAR-10 Batch 5:  Minibatch Loss= 1.313868Training Accuracy= 0.49000\n",
      "Epoch  2, CIFAR-10 Batch 1:  Minibatch Loss= 1.516089Training Accuracy= 0.51000\n",
      "Epoch  2, CIFAR-10 Batch 2:  Minibatch Loss= 1.217535Training Accuracy= 0.56000\n",
      "Epoch  2, CIFAR-10 Batch 3:  Minibatch Loss= 0.959100Training Accuracy= 0.63000\n",
      "Epoch  2, CIFAR-10 Batch 4:  Minibatch Loss= 1.194605Training Accuracy= 0.51000\n",
      "Epoch  2, CIFAR-10 Batch 5:  Minibatch Loss= 1.133487Training Accuracy= 0.63000\n",
      "Epoch  3, CIFAR-10 Batch 1:  Minibatch Loss= 1.395692Training Accuracy= 0.57000\n",
      "Epoch  3, CIFAR-10 Batch 2:  Minibatch Loss= 1.024042Training Accuracy= 0.63000\n",
      "Epoch  3, CIFAR-10 Batch 3:  Minibatch Loss= 0.819496Training Accuracy= 0.76000\n",
      "Epoch  3, CIFAR-10 Batch 4:  Minibatch Loss= 1.030330Training Accuracy= 0.62000\n",
      "Epoch  3, CIFAR-10 Batch 5:  Minibatch Loss= 0.972995Training Accuracy= 0.69000\n",
      "Epoch  4, CIFAR-10 Batch 1:  Minibatch Loss= 1.321252Training Accuracy= 0.62000\n",
      "Epoch  4, CIFAR-10 Batch 2:  Minibatch Loss= 0.938780Training Accuracy= 0.65000\n",
      "Epoch  4, CIFAR-10 Batch 3:  Minibatch Loss= 0.682975Training Accuracy= 0.75000\n",
      "Epoch  4, CIFAR-10 Batch 4:  Minibatch Loss= 0.953759Training Accuracy= 0.63000\n",
      "Epoch  4, CIFAR-10 Batch 5:  Minibatch Loss= 0.847819Training Accuracy= 0.72000\n",
      "Epoch  5, CIFAR-10 Batch 1:  Minibatch Loss= 1.166399Training Accuracy= 0.67000\n",
      "Epoch  5, CIFAR-10 Batch 2:  Minibatch Loss= 0.907028Training Accuracy= 0.69000\n",
      "Epoch  5, CIFAR-10 Batch 3:  Minibatch Loss= 0.545572Training Accuracy= 0.82000\n",
      "Epoch  5, CIFAR-10 Batch 4:  Minibatch Loss= 0.879668Training Accuracy= 0.65000\n",
      "Epoch  5, CIFAR-10 Batch 5:  Minibatch Loss= 0.804470Training Accuracy= 0.74000\n",
      "Epoch  6, CIFAR-10 Batch 1:  Minibatch Loss= 0.992597Training Accuracy= 0.66000\n",
      "Epoch  6, CIFAR-10 Batch 2:  Minibatch Loss= 0.759986Training Accuracy= 0.70000\n",
      "Epoch  6, CIFAR-10 Batch 3:  Minibatch Loss= 0.499236Training Accuracy= 0.81000\n",
      "Epoch  6, CIFAR-10 Batch 4:  Minibatch Loss= 0.806595Training Accuracy= 0.68000\n",
      "Epoch  6, CIFAR-10 Batch 5:  Minibatch Loss= 0.770296Training Accuracy= 0.72000\n",
      "Epoch  7, CIFAR-10 Batch 1:  Minibatch Loss= 0.942075Training Accuracy= 0.74000\n",
      "Epoch  7, CIFAR-10 Batch 2:  Minibatch Loss= 0.720048Training Accuracy= 0.77000\n",
      "Epoch  7, CIFAR-10 Batch 3:  Minibatch Loss= 0.430750Training Accuracy= 0.91000\n",
      "Epoch  7, CIFAR-10 Batch 4:  Minibatch Loss= 0.752100Training Accuracy= 0.73000\n",
      "Epoch  7, CIFAR-10 Batch 5:  Minibatch Loss= 0.725203Training Accuracy= 0.75000\n",
      "Epoch  8, CIFAR-10 Batch 1:  Minibatch Loss= 0.869470Training Accuracy= 0.74000\n",
      "Epoch  8, CIFAR-10 Batch 2:  Minibatch Loss= 0.701957Training Accuracy= 0.78000\n",
      "Epoch  8, CIFAR-10 Batch 3:  Minibatch Loss= 0.427664Training Accuracy= 0.87000\n",
      "Epoch  8, CIFAR-10 Batch 4:  Minibatch Loss= 0.626738Training Accuracy= 0.81000\n",
      "Epoch  8, CIFAR-10 Batch 5:  Minibatch Loss= 0.706893Training Accuracy= 0.75000\n",
      "Epoch  9, CIFAR-10 Batch 1:  Minibatch Loss= 0.789223Training Accuracy= 0.75000\n",
      "Epoch  9, CIFAR-10 Batch 2:  Minibatch Loss= 0.683265Training Accuracy= 0.78000\n",
      "Epoch  9, CIFAR-10 Batch 3:  Minibatch Loss= 0.456487Training Accuracy= 0.82000\n",
      "Epoch  9, CIFAR-10 Batch 4:  Minibatch Loss= 0.578593Training Accuracy= 0.81000\n",
      "Epoch  9, CIFAR-10 Batch 5:  Minibatch Loss= 0.620566Training Accuracy= 0.76000\n",
      "Epoch 10, CIFAR-10 Batch 1:  Minibatch Loss= 0.709897Training Accuracy= 0.75000\n",
      "Epoch 10, CIFAR-10 Batch 2:  Minibatch Loss= 0.672951Training Accuracy= 0.79000\n",
      "Epoch 10, CIFAR-10 Batch 3:  Minibatch Loss= 0.359662Training Accuracy= 0.93000\n",
      "Epoch 10, CIFAR-10 Batch 4:  Minibatch Loss= 0.547747Training Accuracy= 0.75000\n",
      "Epoch 10, CIFAR-10 Batch 5:  Minibatch Loss= 0.595292Training Accuracy= 0.79000\n",
      "Epoch 11, CIFAR-10 Batch 1:  Minibatch Loss= 0.743409Training Accuracy= 0.74000\n",
      "Epoch 11, CIFAR-10 Batch 2:  Minibatch Loss= 0.617577Training Accuracy= 0.81000\n",
      "Epoch 11, CIFAR-10 Batch 3:  Minibatch Loss= 0.385692Training Accuracy= 0.86000\n",
      "Epoch 11, CIFAR-10 Batch 4:  Minibatch Loss= 0.511625Training Accuracy= 0.79000\n",
      "Epoch 11, CIFAR-10 Batch 5:  Minibatch Loss= 0.548223Training Accuracy= 0.79000\n",
      "Epoch 12, CIFAR-10 Batch 1:  Minibatch Loss= 0.682064Training Accuracy= 0.77000\n",
      "Epoch 12, CIFAR-10 Batch 2:  Minibatch Loss= 0.578005Training Accuracy= 0.79000\n",
      "Epoch 12, CIFAR-10 Batch 3:  Minibatch Loss= 0.353497Training Accuracy= 0.88000\n",
      "Epoch 12, CIFAR-10 Batch 4:  Minibatch Loss= 0.576697Training Accuracy= 0.78000\n",
      "Epoch 12, CIFAR-10 Batch 5:  Minibatch Loss= 0.555071Training Accuracy= 0.75000\n",
      "Epoch 13, CIFAR-10 Batch 1:  Minibatch Loss= 0.656067Training Accuracy= 0.75000\n",
      "Epoch 13, CIFAR-10 Batch 2:  Minibatch Loss= 0.550830Training Accuracy= 0.79000\n",
      "Epoch 13, CIFAR-10 Batch 3:  Minibatch Loss= 0.312450Training Accuracy= 0.89000\n",
      "Epoch 13, CIFAR-10 Batch 4:  Minibatch Loss= 0.550969Training Accuracy= 0.79000\n",
      "Epoch 13, CIFAR-10 Batch 5:  Minibatch Loss= 0.554899Training Accuracy= 0.75000\n",
      "Epoch 14, CIFAR-10 Batch 1:  Minibatch Loss= 0.593316Training Accuracy= 0.79000\n",
      "Epoch 14, CIFAR-10 Batch 2:  Minibatch Loss= 0.459439Training Accuracy= 0.82000\n",
      "Epoch 14, CIFAR-10 Batch 3:  Minibatch Loss= 0.319628Training Accuracy= 0.89000\n",
      "Epoch 14, CIFAR-10 Batch 4:  Minibatch Loss= 0.560817Training Accuracy= 0.81000\n",
      "Epoch 14, CIFAR-10 Batch 5:  Minibatch Loss= 0.486093Training Accuracy= 0.82000\n",
      "Epoch 15, CIFAR-10 Batch 1:  Minibatch Loss= 0.592979Training Accuracy= 0.76000\n",
      "Epoch 15, CIFAR-10 Batch 2:  Minibatch Loss= 0.458256Training Accuracy= 0.81000\n",
      "Epoch 15, CIFAR-10 Batch 3:  Minibatch Loss= 0.274614Training Accuracy= 0.92000\n",
      "Epoch 15, CIFAR-10 Batch 4:  Minibatch Loss= 0.477874Training Accuracy= 0.83000\n",
      "Epoch 15, CIFAR-10 Batch 5:  Minibatch Loss= 0.499078Training Accuracy= 0.83000\n",
      "Epoch 16, CIFAR-10 Batch 1:  Minibatch Loss= 0.488304Training Accuracy= 0.78000\n",
      "Epoch 16, CIFAR-10 Batch 2:  Minibatch Loss= 0.425512Training Accuracy= 0.86000\n",
      "Epoch 16, CIFAR-10 Batch 3:  Minibatch Loss= 0.303825Training Accuracy= 0.90000\n",
      "Epoch 16, CIFAR-10 Batch 4:  Minibatch Loss= 0.497187Training Accuracy= 0.84000\n",
      "Epoch 16, CIFAR-10 Batch 5:  Minibatch Loss= 0.419776Training Accuracy= 0.83000\n",
      "Epoch 17, CIFAR-10 Batch 1:  Minibatch Loss= 0.514939Training Accuracy= 0.81000\n",
      "Epoch 17, CIFAR-10 Batch 2:  Minibatch Loss= 0.346506Training Accuracy= 0.88000\n",
      "Epoch 17, CIFAR-10 Batch 3:  Minibatch Loss= 0.296295Training Accuracy= 0.92000\n",
      "Epoch 17, CIFAR-10 Batch 4:  Minibatch Loss= 0.441274Training Accuracy= 0.86000\n",
      "Epoch 17, CIFAR-10 Batch 5:  Minibatch Loss= 0.432764Training Accuracy= 0.84000\n",
      "Epoch 18, CIFAR-10 Batch 1:  Minibatch Loss= 0.493994Training Accuracy= 0.82000\n",
      "Epoch 18, CIFAR-10 Batch 2:  Minibatch Loss= 0.322016Training Accuracy= 0.88000\n",
      "Epoch 18, CIFAR-10 Batch 3:  Minibatch Loss= 0.279140Training Accuracy= 0.92000\n",
      "Epoch 18, CIFAR-10 Batch 4:  Minibatch Loss= 0.371366Training Accuracy= 0.84000\n",
      "Epoch 18, CIFAR-10 Batch 5:  Minibatch Loss= 0.418152Training Accuracy= 0.83000\n",
      "Epoch 19, CIFAR-10 Batch 1:  Minibatch Loss= 0.431641Training Accuracy= 0.85000\n",
      "Epoch 19, CIFAR-10 Batch 2:  Minibatch Loss= 0.307285Training Accuracy= 0.91000\n",
      "Epoch 19, CIFAR-10 Batch 3:  Minibatch Loss= 0.312693Training Accuracy= 0.88000\n",
      "Epoch 19, CIFAR-10 Batch 4:  Minibatch Loss= 0.407429Training Accuracy= 0.86000\n",
      "Epoch 19, CIFAR-10 Batch 5:  Minibatch Loss= 0.403168Training Accuracy= 0.82000\n",
      "Epoch 20, CIFAR-10 Batch 1:  Minibatch Loss= 0.469733Training Accuracy= 0.78000\n",
      "Epoch 20, CIFAR-10 Batch 2:  Minibatch Loss= 0.298133Training Accuracy= 0.91000\n",
      "Epoch 20, CIFAR-10 Batch 3:  Minibatch Loss= 0.350337Training Accuracy= 0.89000\n",
      "Epoch 20, CIFAR-10 Batch 4:  Minibatch Loss= 0.370619Training Accuracy= 0.86000\n",
      "Epoch 20, CIFAR-10 Batch 5:  Minibatch Loss= 0.380160Training Accuracy= 0.82000\n",
      "Epoch 21, CIFAR-10 Batch 1:  Minibatch Loss= 0.430714Training Accuracy= 0.81000\n",
      "Epoch 21, CIFAR-10 Batch 2:  Minibatch Loss= 0.278673Training Accuracy= 0.91000\n",
      "Epoch 21, CIFAR-10 Batch 3:  Minibatch Loss= 0.274211Training Accuracy= 0.91000\n",
      "Epoch 21, CIFAR-10 Batch 4:  Minibatch Loss= 0.375462Training Accuracy= 0.88000\n",
      "Epoch 21, CIFAR-10 Batch 5:  Minibatch Loss= 0.317272Training Accuracy= 0.88000\n",
      "Epoch 22, CIFAR-10 Batch 1:  Minibatch Loss= 0.495270Training Accuracy= 0.80000\n",
      "Epoch 22, CIFAR-10 Batch 2:  Minibatch Loss= 0.296532Training Accuracy= 0.87000\n",
      "Epoch 22, CIFAR-10 Batch 3:  Minibatch Loss= 0.254499Training Accuracy= 0.91000\n",
      "Epoch 22, CIFAR-10 Batch 4:  Minibatch Loss= 0.302108Training Accuracy= 0.89000\n",
      "Epoch 22, CIFAR-10 Batch 5:  Minibatch Loss= 0.358009Training Accuracy= 0.89000\n",
      "Epoch 23, CIFAR-10 Batch 1:  Minibatch Loss= 0.378537Training Accuracy= 0.81000\n",
      "Epoch 23, CIFAR-10 Batch 2:  Minibatch Loss= 0.224848Training Accuracy= 0.92000\n",
      "Epoch 23, CIFAR-10 Batch 3:  Minibatch Loss= 0.224304Training Accuracy= 0.94000\n",
      "Epoch 23, CIFAR-10 Batch 4:  Minibatch Loss= 0.323992Training Accuracy= 0.91000\n",
      "Epoch 23, CIFAR-10 Batch 5:  Minibatch Loss= 0.259862Training Accuracy= 0.95000\n",
      "Epoch 24, CIFAR-10 Batch 1:  Minibatch Loss= 0.360178Training Accuracy= 0.89000\n",
      "Epoch 24, CIFAR-10 Batch 2:  Minibatch Loss= 0.250707Training Accuracy= 0.93000\n",
      "Epoch 24, CIFAR-10 Batch 3:  Minibatch Loss= 0.195205Training Accuracy= 0.96000\n",
      "Epoch 24, CIFAR-10 Batch 4:  Minibatch Loss= 0.291467Training Accuracy= 0.90000\n",
      "Epoch 24, CIFAR-10 Batch 5:  Minibatch Loss= 0.236869Training Accuracy= 0.92000\n",
      "Epoch 25, CIFAR-10 Batch 1:  Minibatch Loss= 0.303871Training Accuracy= 0.90000\n",
      "Epoch 25, CIFAR-10 Batch 2:  Minibatch Loss= 0.185492Training Accuracy= 0.94000\n",
      "Epoch 25, CIFAR-10 Batch 3:  Minibatch Loss= 0.155179Training Accuracy= 0.96000\n",
      "Epoch 25, CIFAR-10 Batch 4:  Minibatch Loss= 0.317498Training Accuracy= 0.90000\n",
      "Epoch 25, CIFAR-10 Batch 5:  Minibatch Loss= 0.254115Training Accuracy= 0.88000\n",
      "Epoch 26, CIFAR-10 Batch 1:  Minibatch Loss= 0.317134Training Accuracy= 0.89000\n",
      "Epoch 26, CIFAR-10 Batch 2:  Minibatch Loss= 0.192474Training Accuracy= 0.94000\n",
      "Epoch 26, CIFAR-10 Batch 3:  Minibatch Loss= 0.159922Training Accuracy= 0.97000\n",
      "Epoch 26, CIFAR-10 Batch 4:  Minibatch Loss= 0.236771Training Accuracy= 0.91000\n",
      "Epoch 26, CIFAR-10 Batch 5:  Minibatch Loss= 0.257650Training Accuracy= 0.92000\n",
      "Epoch 27, CIFAR-10 Batch 1:  Minibatch Loss= 0.238268Training Accuracy= 0.93000\n",
      "Epoch 27, CIFAR-10 Batch 2:  Minibatch Loss= 0.247398Training Accuracy= 0.93000\n",
      "Epoch 27, CIFAR-10 Batch 3:  Minibatch Loss= 0.209708Training Accuracy= 0.93000\n",
      "Epoch 27, CIFAR-10 Batch 4:  Minibatch Loss= 0.243476Training Accuracy= 0.92000\n",
      "Epoch 27, CIFAR-10 Batch 5:  Minibatch Loss= 0.222073Training Accuracy= 0.90000\n",
      "Epoch 28, CIFAR-10 Batch 1:  Minibatch Loss= 0.256254Training Accuracy= 0.92000\n",
      "Epoch 28, CIFAR-10 Batch 2:  Minibatch Loss= 0.171727Training Accuracy= 0.94000\n",
      "Epoch 28, CIFAR-10 Batch 3:  Minibatch Loss= 0.170991Training Accuracy= 0.96000\n",
      "Epoch 28, CIFAR-10 Batch 4:  Minibatch Loss= 0.269160Training Accuracy= 0.91000\n",
      "Epoch 28, CIFAR-10 Batch 5:  Minibatch Loss= 0.170690Training Accuracy= 0.96000\n",
      "Epoch 29, CIFAR-10 Batch 1:  Minibatch Loss= 0.207603Training Accuracy= 0.97000\n",
      "Epoch 29, CIFAR-10 Batch 2:  Minibatch Loss= 0.243905Training Accuracy= 0.92000\n",
      "Epoch 29, CIFAR-10 Batch 3:  Minibatch Loss= 0.174722Training Accuracy= 0.94000\n",
      "Epoch 29, CIFAR-10 Batch 4:  Minibatch Loss= 0.297780Training Accuracy= 0.92000\n",
      "Epoch 29, CIFAR-10 Batch 5:  Minibatch Loss= 0.152121Training Accuracy= 0.96000\n",
      "Epoch 30, CIFAR-10 Batch 1:  Minibatch Loss= 0.199852Training Accuracy= 0.94000\n",
      "Epoch 30, CIFAR-10 Batch 2:  Minibatch Loss= 0.166143Training Accuracy= 0.95000\n",
      "Epoch 30, CIFAR-10 Batch 3:  Minibatch Loss= 0.123477Training Accuracy= 0.97000\n",
      "Epoch 30, CIFAR-10 Batch 4:  Minibatch Loss= 0.264041Training Accuracy= 0.91000\n",
      "Epoch 30, CIFAR-10 Batch 5:  Minibatch Loss= 0.179051Training Accuracy= 0.96000\n",
      "Epoch 31, CIFAR-10 Batch 1:  Minibatch Loss= 0.240906Training Accuracy= 0.94000\n",
      "Epoch 31, CIFAR-10 Batch 2:  Minibatch Loss= 0.149951Training Accuracy= 0.95000\n",
      "Epoch 31, CIFAR-10 Batch 3:  Minibatch Loss= 0.149101Training Accuracy= 0.97000\n",
      "Epoch 31, CIFAR-10 Batch 4:  Minibatch Loss= 0.266247Training Accuracy= 0.89000\n",
      "Epoch 31, CIFAR-10 Batch 5:  Minibatch Loss= 0.122088Training Accuracy= 0.97000\n",
      "Epoch 32, CIFAR-10 Batch 1:  Minibatch Loss= 0.195504Training Accuracy= 0.94000\n",
      "Epoch 32, CIFAR-10 Batch 2:  Minibatch Loss= 0.166610Training Accuracy= 0.96000\n",
      "Epoch 32, CIFAR-10 Batch 3:  Minibatch Loss= 0.195587Training Accuracy= 0.95000\n",
      "Epoch 32, CIFAR-10 Batch 4:  Minibatch Loss= 0.317427Training Accuracy= 0.88000\n",
      "Epoch 32, CIFAR-10 Batch 5:  Minibatch Loss= 0.150232Training Accuracy= 0.95000\n",
      "Epoch 33, CIFAR-10 Batch 1:  Minibatch Loss= 0.210096Training Accuracy= 0.95000\n",
      "Epoch 33, CIFAR-10 Batch 2:  Minibatch Loss= 0.176722Training Accuracy= 0.95000\n",
      "Epoch 33, CIFAR-10 Batch 3:  Minibatch Loss= 0.077968Training Accuracy= 0.97000\n",
      "Epoch 33, CIFAR-10 Batch 4:  Minibatch Loss= 0.336429Training Accuracy= 0.90000\n",
      "Epoch 33, CIFAR-10 Batch 5:  Minibatch Loss= 0.138754Training Accuracy= 0.96000\n",
      "Epoch 34, CIFAR-10 Batch 1:  Minibatch Loss= 0.218074Training Accuracy= 0.90000\n",
      "Epoch 34, CIFAR-10 Batch 2:  Minibatch Loss= 0.150133Training Accuracy= 0.95000\n",
      "Epoch 34, CIFAR-10 Batch 3:  Minibatch Loss= 0.140609Training Accuracy= 0.94000\n",
      "Epoch 34, CIFAR-10 Batch 4:  Minibatch Loss= 0.298168Training Accuracy= 0.88000\n",
      "Epoch 34, CIFAR-10 Batch 5:  Minibatch Loss= 0.179595Training Accuracy= 0.95000\n",
      "Epoch 35, CIFAR-10 Batch 1:  Minibatch Loss= 0.193807Training Accuracy= 0.91000\n",
      "Epoch 35, CIFAR-10 Batch 2:  Minibatch Loss= 0.108452Training Accuracy= 0.97000\n",
      "Epoch 35, CIFAR-10 Batch 3:  Minibatch Loss= 0.177675Training Accuracy= 0.92000\n",
      "Epoch 35, CIFAR-10 Batch 4:  Minibatch Loss= 0.254764Training Accuracy= 0.91000\n",
      "Epoch 35, CIFAR-10 Batch 5:  Minibatch Loss= 0.128425Training Accuracy= 0.98000\n",
      "Epoch 36, CIFAR-10 Batch 1:  Minibatch Loss= 0.173407Training Accuracy= 0.94000\n",
      "Epoch 36, CIFAR-10 Batch 2:  Minibatch Loss= 0.199088Training Accuracy= 0.93000\n",
      "Epoch 36, CIFAR-10 Batch 3:  Minibatch Loss= 0.136956Training Accuracy= 0.96000\n",
      "Epoch 36, CIFAR-10 Batch 4:  Minibatch Loss= 0.264504Training Accuracy= 0.90000\n",
      "Epoch 36, CIFAR-10 Batch 5:  Minibatch Loss= 0.132095Training Accuracy= 0.93000\n",
      "Epoch 37, CIFAR-10 Batch 1:  Minibatch Loss= 0.192310Training Accuracy= 0.95000\n",
      "Epoch 37, CIFAR-10 Batch 2:  Minibatch Loss= 0.118970Training Accuracy= 0.96000\n",
      "Epoch 37, CIFAR-10 Batch 3:  Minibatch Loss= 0.084912Training Accuracy= 0.97000\n",
      "Epoch 37, CIFAR-10 Batch 4:  Minibatch Loss= 0.245010Training Accuracy= 0.92000\n",
      "Epoch 37, CIFAR-10 Batch 5:  Minibatch Loss= 0.153368Training Accuracy= 0.95000\n",
      "Epoch 38, CIFAR-10 Batch 1:  Minibatch Loss= 0.155607Training Accuracy= 0.97000\n",
      "Epoch 38, CIFAR-10 Batch 2:  Minibatch Loss= 0.091270Training Accuracy= 0.98000\n",
      "Epoch 38, CIFAR-10 Batch 3:  Minibatch Loss= 0.100836Training Accuracy= 0.98000\n",
      "Epoch 38, CIFAR-10 Batch 4:  Minibatch Loss= 0.238170Training Accuracy= 0.89000\n",
      "Epoch 38, CIFAR-10 Batch 5:  Minibatch Loss= 0.150967Training Accuracy= 0.93000\n",
      "Epoch 39, CIFAR-10 Batch 1:  Minibatch Loss= 0.156261Training Accuracy= 0.94000\n",
      "Epoch 39, CIFAR-10 Batch 2:  Minibatch Loss= 0.115818Training Accuracy= 0.97000\n",
      "Epoch 39, CIFAR-10 Batch 3:  Minibatch Loss= 0.068819Training Accuracy= 0.98000\n",
      "Epoch 39, CIFAR-10 Batch 4:  Minibatch Loss= 0.177945Training Accuracy= 0.95000\n",
      "Epoch 39, CIFAR-10 Batch 5:  Minibatch Loss= 0.070906Training Accuracy= 0.98000\n",
      "Epoch 40, CIFAR-10 Batch 1:  Minibatch Loss= 0.172254Training Accuracy= 0.95000\n",
      "Epoch 40, CIFAR-10 Batch 2:  Minibatch Loss= 0.096951Training Accuracy= 0.99000\n",
      "Epoch 40, CIFAR-10 Batch 3:  Minibatch Loss= 0.067202Training Accuracy= 0.99000\n",
      "Epoch 40, CIFAR-10 Batch 4:  Minibatch Loss= 0.191162Training Accuracy= 0.94000\n",
      "Epoch 40, CIFAR-10 Batch 5:  Minibatch Loss= 0.094406Training Accuracy= 0.98000\n",
      "Epoch 41, CIFAR-10 Batch 1:  Minibatch Loss= 0.150971Training Accuracy= 0.97000\n",
      "Epoch 41, CIFAR-10 Batch 2:  Minibatch Loss= 0.108111Training Accuracy= 0.98000\n",
      "Epoch 41, CIFAR-10 Batch 3:  Minibatch Loss= 0.064052Training Accuracy= 0.98000\n",
      "Epoch 41, CIFAR-10 Batch 4:  Minibatch Loss= 0.183023Training Accuracy= 0.95000\n",
      "Epoch 41, CIFAR-10 Batch 5:  Minibatch Loss= 0.087053Training Accuracy= 0.98000\n",
      "Epoch 42, CIFAR-10 Batch 1:  Minibatch Loss= 0.140887Training Accuracy= 0.95000\n",
      "Epoch 42, CIFAR-10 Batch 2:  Minibatch Loss= 0.133548Training Accuracy= 0.97000\n",
      "Epoch 42, CIFAR-10 Batch 3:  Minibatch Loss= 0.085430Training Accuracy= 0.97000\n",
      "Epoch 42, CIFAR-10 Batch 4:  Minibatch Loss= 0.169638Training Accuracy= 0.95000\n",
      "Epoch 42, CIFAR-10 Batch 5:  Minibatch Loss= 0.082310Training Accuracy= 0.98000\n",
      "Epoch 43, CIFAR-10 Batch 1:  Minibatch Loss= 0.125517Training Accuracy= 0.98000\n",
      "Epoch 43, CIFAR-10 Batch 2:  Minibatch Loss= 0.079867Training Accuracy= 0.99000\n",
      "Epoch 43, CIFAR-10 Batch 3:  Minibatch Loss= 0.098342Training Accuracy= 0.96000\n",
      "Epoch 43, CIFAR-10 Batch 4:  Minibatch Loss= 0.189716Training Accuracy= 0.95000\n",
      "Epoch 43, CIFAR-10 Batch 5:  Minibatch Loss= 0.113114Training Accuracy= 0.97000\n",
      "Epoch 44, CIFAR-10 Batch 1:  Minibatch Loss= 0.130311Training Accuracy= 0.99000\n",
      "Epoch 44, CIFAR-10 Batch 2:  Minibatch Loss= 0.097612Training Accuracy= 0.98000\n",
      "Epoch 44, CIFAR-10 Batch 3:  Minibatch Loss= 0.092584Training Accuracy= 0.98000\n",
      "Epoch 44, CIFAR-10 Batch 4:  Minibatch Loss= 0.168634Training Accuracy= 0.94000\n",
      "Epoch 44, CIFAR-10 Batch 5:  Minibatch Loss= 0.092220Training Accuracy= 0.98000\n",
      "Epoch 45, CIFAR-10 Batch 1:  Minibatch Loss= 0.141336Training Accuracy= 0.95000\n",
      "Epoch 45, CIFAR-10 Batch 2:  Minibatch Loss= 0.100092Training Accuracy= 0.95000\n",
      "Epoch 45, CIFAR-10 Batch 3:  Minibatch Loss= 0.052001Training Accuracy= 0.99000\n",
      "Epoch 45, CIFAR-10 Batch 4:  Minibatch Loss= 0.135565Training Accuracy= 0.96000\n",
      "Epoch 45, CIFAR-10 Batch 5:  Minibatch Loss= 0.060245Training Accuracy= 1.00000\n",
      "Epoch 46, CIFAR-10 Batch 1:  Minibatch Loss= 0.106796Training Accuracy= 0.97000\n",
      "Epoch 46, CIFAR-10 Batch 2:  Minibatch Loss= 0.098962Training Accuracy= 0.96000\n",
      "Epoch 46, CIFAR-10 Batch 3:  Minibatch Loss= 0.086318Training Accuracy= 0.98000\n",
      "Epoch 46, CIFAR-10 Batch 4:  Minibatch Loss= 0.144876Training Accuracy= 0.97000\n",
      "Epoch 46, CIFAR-10 Batch 5:  Minibatch Loss= 0.076378Training Accuracy= 0.99000\n",
      "Epoch 47, CIFAR-10 Batch 1:  Minibatch Loss= 0.133184Training Accuracy= 0.96000\n",
      "Epoch 47, CIFAR-10 Batch 2:  Minibatch Loss= 0.128674Training Accuracy= 0.95000\n",
      "Epoch 47, CIFAR-10 Batch 3:  Minibatch Loss= 0.054572Training Accuracy= 1.00000\n",
      "Epoch 47, CIFAR-10 Batch 4:  Minibatch Loss= 0.170035Training Accuracy= 0.95000\n",
      "Epoch 47, CIFAR-10 Batch 5:  Minibatch Loss= 0.096098Training Accuracy= 0.95000\n",
      "Epoch 48, CIFAR-10 Batch 1:  Minibatch Loss= 0.127889Training Accuracy= 0.98000\n",
      "Epoch 48, CIFAR-10 Batch 2:  Minibatch Loss= 0.115025Training Accuracy= 0.95000\n",
      "Epoch 48, CIFAR-10 Batch 3:  Minibatch Loss= 0.062990Training Accuracy= 0.99000\n",
      "Epoch 48, CIFAR-10 Batch 4:  Minibatch Loss= 0.136207Training Accuracy= 0.96000\n",
      "Epoch 48, CIFAR-10 Batch 5:  Minibatch Loss= 0.117449Training Accuracy= 0.97000\n",
      "Epoch 49, CIFAR-10 Batch 1:  Minibatch Loss= 0.130425Training Accuracy= 0.97000\n",
      "Epoch 49, CIFAR-10 Batch 2:  Minibatch Loss= 0.101493Training Accuracy= 0.97000\n",
      "Epoch 49, CIFAR-10 Batch 3:  Minibatch Loss= 0.059326Training Accuracy= 0.98000\n",
      "Epoch 49, CIFAR-10 Batch 4:  Minibatch Loss= 0.094202Training Accuracy= 0.97000\n",
      "Epoch 49, CIFAR-10 Batch 5:  Minibatch Loss= 0.112732Training Accuracy= 0.96000\n",
      "Epoch 50, CIFAR-10 Batch 1:  Minibatch Loss= 0.181061Training Accuracy= 0.92000\n",
      "Epoch 50, CIFAR-10 Batch 2:  Minibatch Loss= 0.113902Training Accuracy= 0.96000\n",
      "Epoch 50, CIFAR-10 Batch 3:  Minibatch Loss= 0.049991Training Accuracy= 0.99000\n",
      "Epoch 50, CIFAR-10 Batch 4:  Minibatch Loss= 0.158583Training Accuracy= 0.94000\n",
      "Epoch 50, CIFAR-10 Batch 5:  Minibatch Loss= 0.094210Training Accuracy= 0.96000\n"
     ]
    }
   ],
   "source": [
    "\"\"\"\n",
    "DON'T MODIFY ANYTHING IN THIS CELL\n",
    "\"\"\"\n",
    "save_model_path = './image_classification'\n",
    "\n",
    "print('Training...')\n",
    "with tf.Session() as sess:\n",
    "    # Initializing the variables\n",
    "    sess.run(tf.global_variables_initializer())\n",
    "    \n",
    "    # Training cycle\n",
    "    for epoch in range(epochs):\n",
    "        # Loop over all batches\n",
    "        n_batches = 5\n",
    "        for batch_i in range(1, n_batches + 1):\n",
    "            for batch_features, batch_labels in helper.load_preprocess_training_batch(batch_i, batch_size):\n",
    "                train_neural_network(sess, optimizer, keep_probability, batch_features, batch_labels)\n",
    "            print('Epoch {:>2}, CIFAR-10 Batch {}:  '.format(epoch + 1, batch_i), end='')\n",
    "            print_stats(sess, batch_features, batch_labels, cost, accuracy)\n",
    "            \n",
    "    # Save Model\n",
    "    saver = tf.train.Saver()\n",
    "    save_path = saver.save(sess, save_model_path)"
   ]
  },
  {
   "cell_type": "markdown",
   "metadata": {
    "deletable": true,
    "editable": true
   },
   "source": [
    "# Checkpoint\n",
    "The model has been saved to disk.\n",
    "## Test Model\n",
    "Test your model against the test dataset.  This will be your final accuracy. You should have an accuracy greater than 50%. If you don't, keep tweaking the model architecture and parameters."
   ]
  },
  {
   "cell_type": "code",
   "execution_count": 18,
   "metadata": {
    "ExecuteTime": {
     "start_time": "2017-05-15T03:07:37.851Z"
    },
    "collapsed": false,
    "deletable": true,
    "editable": true
   },
   "outputs": [
    {
     "name": "stdout",
     "output_type": "stream",
     "text": [
      "Testing Accuracy: 0.6871999698877335\n",
      "\n"
     ]
    },
    {
     "data": {
      "image/png": "[encoded data removed]",
      "text/plain": [
       "<matplotlib.figure.Figure at 0x7fc10c545c88>"
      ]
     },
     "metadata": {
      "image/png": {
       "height": 319,
       "width": 355
      }
     },
     "output_type": "display_data"
    }
   ],
   "source": [
    "\"\"\"\n",
    "DON'T MODIFY ANYTHING IN THIS CELL\n",
    "\"\"\"\n",
    "%matplotlib inline\n",
    "%config InlineBackend.figure_format = 'retina'\n",
    "\n",
    "import tensorflow as tf\n",
    "import pickle\n",
    "import helper\n",
    "import random\n",
    "\n",
    "# Set batch size if not already set\n",
    "try:\n",
    "    if batch_size:\n",
    "        pass\n",
    "except NameError:\n",
    "    batch_size = 64\n",
    "\n",
    "save_model_path = './image_classification'\n",
    "n_samples = 4\n",
    "top_n_predictions = 3\n",
    "\n",
    "def test_model():\n",
    "    \"\"\"\n",
    "    Test the saved model against the test dataset\n",
    "    \"\"\"\n",
    "\n",
    "    test_features, test_labels = pickle.load(open('preprocess_test.p', mode='rb'))\n",
    "    loaded_graph = tf.Graph()\n",
    "\n",
    "    with tf.Session(graph=loaded_graph) as sess:\n",
    "        # Load model\n",
    "        loader = tf.train.import_meta_graph(save_model_path + '.meta')\n",
    "        loader.restore(sess, save_model_path)\n",
    "\n",
    "        # Get Tensors from loaded model\n",
    "        loaded_x = loaded_graph.get_tensor_by_name('x:0')\n",
    "        loaded_y = loaded_graph.get_tensor_by_name('y:0')\n",
    "        loaded_keep_prob = loaded_graph.get_tensor_by_name('keep_prob:0')\n",
    "        loaded_logits = loaded_graph.get_tensor_by_name('logits:0')\n",
    "        loaded_acc = loaded_graph.get_tensor_by_name('accuracy:0')\n",
    "        \n",
    "        # Get accuracy in batches for memory limitations\n",
    "        test_batch_acc_total = 0\n",
    "        test_batch_count = 0\n",
    "        \n",
    "        for test_feature_batch, test_label_batch in helper.batch_features_labels(test_features, test_labels, batch_size):\n",
    "            test_batch_acc_total += sess.run(\n",
    "                loaded_acc,\n",
    "                feed_dict={loaded_x: test_feature_batch, loaded_y: test_label_batch, loaded_keep_prob: 1.0})\n",
    "            test_batch_count += 1\n",
    "\n",
    "        print('Testing Accuracy: {}\\n'.format(test_batch_acc_total/test_batch_count))\n",
    "\n",
    "        # Print Random Samples\n",
    "        random_test_features, random_test_labels = tuple(zip(*random.sample(list(zip(test_features, test_labels)), n_samples)))\n",
    "        random_test_predictions = sess.run(\n",
    "            tf.nn.top_k(tf.nn.softmax(loaded_logits), top_n_predictions),\n",
    "            feed_dict={loaded_x: random_test_features, loaded_y: random_test_labels, loaded_keep_prob: 1.0})\n",
    "        helper.display_image_predictions(random_test_features, random_test_labels, random_test_predictions)\n",
    "\n",
    "\n",
    "test_model()"
   ]
  },
  {
   "cell_type": "markdown",
   "metadata": {
    "deletable": true,
    "editable": true
   },
   "source": [
    "## Why 50-80% Accuracy?\n",
    "You might be wondering why you can't get an accuracy any higher. First things first, 50% isn't bad for a simple CNN.  Pure guessing would get you 10% accuracy. However, you might notice people are getting scores [well above 80%](http://rodrigob.github.io/are_we_there_yet/build/classification_datasets_results.html#43494641522d3130).  That's because we haven't taught you all there is to know about neural networks. We still need to cover a few more techniques.\n",
    "## Submitting This Project\n",
    "When submitting this project, make sure to run all the cells before saving the notebook.  Save the notebook file as \"dlnd_image_classification.ipynb\" and save it as a HTML file under \"File\" -> \"Download as\".  Include the \"helper.py\" and \"problem_unittests.py\" files in your submission."
   ]
  },
  {
   "cell_type": "code",
   "execution_count": null,
   "metadata": {
    "collapsed": true,
    "deletable": true,
    "editable": true
   },
   "outputs": [],
   "source": []
  }
 ],
 "metadata": {
  "kernelspec": {
   "display_name": "Python 3",
   "language": "python",
   "name": "python3"
  },
  "language_info": {
   "codemirror_mode": {
    "name": "ipython",
    "version": 3
   },
   "file_extension": ".py",
   "mimetype": "text/x-python",
   "name": "python",
   "nbconvert_exporter": "python",
   "pygments_lexer": "ipython3",
   "version": "3.5.3"
  },
  "latex_envs": {
   "bibliofile": "biblio.bib",
   "cite_by": "apalike",
   "current_citInitial": 1,
   "eqLabelWithNumbers": true,
   "eqNumInitial": 0
  },
  "toc": {
   "nav_menu": {
    "height": "480px",
    "width": "252px"
   },
   "navigate_menu": true,
   "number_sections": true,
   "sideBar": true,
   "threshold": 4,
   "toc_cell": false,
   "toc_section_display": "block",
   "toc_window_display": false
  }
 },
 "nbformat": 4,
 "nbformat_minor": 0
}
