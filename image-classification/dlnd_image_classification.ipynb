{
 "cells": [
  {
   "cell_type": "markdown",
   "metadata": {
    "collapsed": true,
    "deletable": true,
    "editable": true
   },
   "source": [
    "# Image Classification\n",
    "In this project, you'll classify images from the [CIFAR-10 dataset](https://www.cs.toronto.edu/~kriz/cifar.html).  The dataset consists of airplanes, dogs, cats, and other objects. You'll preprocess the images, then train a convolutional neural network on all the samples. The images need to be normalized and the labels need to be one-hot encoded.  You'll get to apply what you learned and build a convolutional, max pooling, dropout, and fully connected layers.  At the end, you'll get to see your neural network's predictions on the sample images.\n",
    "## Get the Data\n",
    "Run the following cell to download the [CIFAR-10 dataset for python](https://www.cs.toronto.edu/~kriz/cifar-10-python.tar.gz)."
   ]
  },
  {
   "cell_type": "code",
   "execution_count": 1,
   "metadata": {
    "ExecuteTime": {
     "end_time": "2017-05-15T01:52:55.356244Z",
     "start_time": "2017-05-14T18:52:53.866580-07:00"
    },
    "collapsed": false,
    "deletable": true,
    "editable": true
   },
   "outputs": [
    {
     "name": "stdout",
     "output_type": "stream",
     "text": [
      "All files found!\n"
     ]
    }
   ],
   "source": [
    "\"\"\"\n",
    "DON'T MODIFY ANYTHING IN THIS CELL THAT IS BELOW THIS LINE\n",
    "\"\"\"\n",
    "from urllib.request import urlretrieve\n",
    "from os.path import isfile, isdir\n",
    "from tqdm import tqdm\n",
    "import problem_unittests as tests\n",
    "import tarfile\n",
    "\n",
    "cifar10_dataset_folder_path = 'cifar-10-batches-py'\n",
    "\n",
    "# Use Floyd's cifar-10 dataset if present\n",
    "floyd_cifar10_location = '/input/cifar-10/python.tar.gz'\n",
    "if isfile(floyd_cifar10_location):\n",
    "    tar_gz_path = floyd_cifar10_location\n",
    "else:\n",
    "    tar_gz_path = 'cifar-10-python.tar.gz'\n",
    "\n",
    "class DLProgress(tqdm):\n",
    "    last_block = 0\n",
    "\n",
    "    def hook(self, block_num=1, block_size=1, total_size=None):\n",
    "        self.total = total_size\n",
    "        self.update((block_num - self.last_block) * block_size)\n",
    "        self.last_block = block_num\n",
    "\n",
    "if not isfile(tar_gz_path):\n",
    "    with DLProgress(unit='B', unit_scale=True, miniters=1, desc='CIFAR-10 Dataset') as pbar:\n",
    "        urlretrieve(\n",
    "            'https://www.cs.toronto.edu/~kriz/cifar-10-python.tar.gz',\n",
    "            tar_gz_path,\n",
    "            pbar.hook)\n",
    "\n",
    "if not isdir(cifar10_dataset_folder_path):\n",
    "    with tarfile.open(tar_gz_path) as tar:\n",
    "        tar.extractall()\n",
    "        tar.close()\n",
    "\n",
    "\n",
    "tests.test_folder_path(cifar10_dataset_folder_path)"
   ]
  },
  {
   "cell_type": "markdown",
   "metadata": {
    "deletable": true,
    "editable": true
   },
   "source": [
    "## Explore the Data\n",
    "The dataset is broken into batches to prevent your machine from running out of memory.  The CIFAR-10 dataset consists of 5 batches, named `data_batch_1`, `data_batch_2`, etc.. Each batch contains the labels and images that are one of the following:\n",
    "* airplane\n",
    "* automobile\n",
    "* bird\n",
    "* cat\n",
    "* deer\n",
    "* dog\n",
    "* frog\n",
    "* horse\n",
    "* ship\n",
    "* truck\n",
    "\n",
    "Understanding a dataset is part of making predictions on the data.  Play around with the code cell below by changing the `batch_id` and `sample_id`. The `batch_id` is the id for a batch (1-5). The `sample_id` is the id for a image and label pair in the batch.\n",
    "\n",
    "Ask yourself \"What are all possible labels?\", \"What is the range of values for the image data?\", \"Are the labels in order or random?\".  Answers to questions like these will help you preprocess the data and end up with better predictions."
   ]
  },
  {
   "cell_type": "code",
   "execution_count": 2,
   "metadata": {
    "ExecuteTime": {
     "end_time": "2017-05-15T01:52:56.382411Z",
     "start_time": "2017-05-14T18:52:55.358094-07:00"
    },
    "collapsed": false,
    "deletable": true,
    "editable": true
   },
   "outputs": [
    {
     "name": "stdout",
     "output_type": "stream",
     "text": [
      "\n",
      "Stats of batch 2:\n",
      "Samples: 10000\n",
      "Label Counts: {0: 984, 1: 1007, 2: 1010, 3: 995, 4: 1010, 5: 988, 6: 1008, 7: 1026, 8: 987, 9: 985}\n",
      "First 20 Labels: [1, 6, 6, 8, 8, 3, 4, 6, 0, 6, 0, 3, 6, 6, 5, 4, 8, 3, 2, 6]\n",
      "\n",
      "Example of Image 5:\n",
      "Image - Min Value: 3 Max Value: 219\n",
      "Image - Shape: (32, 32, 3)\n",
      "Label - Label Id: 3 Name: cat\n"
     ]
    },
    {
     "data": {
      "image/png": "[encoded data removed]",
      "text/plain": [
       "<matplotlib.figure.Figure at 0x7f2a9e2077b8>"
      ]
     },
     "metadata": {
      "image/png": {
       "height": 250,
       "width": 253
      }
     },
     "output_type": "display_data"
    }
   ],
   "source": [
    "%matplotlib inline\n",
    "%config InlineBackend.figure_format = 'retina'\n",
    "\n",
    "import helper\n",
    "import numpy as np\n",
    "\n",
    "# Explore the dataset\n",
    "batch_id = 2\n",
    "sample_id = 5\n",
    "helper.display_stats(cifar10_dataset_folder_path, batch_id, sample_id)"
   ]
  },
  {
   "cell_type": "markdown",
   "metadata": {
    "deletable": true,
    "editable": true
   },
   "source": [
    "## Implement Preprocess Functions\n",
    "### Normalize\n",
    "In the cell below, implement the `normalize` function to take in image data, `x`, and return it as a normalized Numpy array. The values should be in the range of 0 to 1, inclusive.  The return object should be the same shape as `x`."
   ]
  },
  {
   "cell_type": "code",
   "execution_count": 3,
   "metadata": {
    "ExecuteTime": {
     "end_time": "2017-05-15T01:52:56.430049Z",
     "start_time": "2017-05-14T18:52:56.384371-07:00"
    },
    "collapsed": false,
    "deletable": true,
    "editable": true
   },
   "outputs": [
    {
     "name": "stdout",
     "output_type": "stream",
     "text": [
      "Tests Passed\n"
     ]
    }
   ],
   "source": [
    "def normalize(x):\n",
    "    \"\"\"\n",
    "    Normalize a list of sample image data in the range of 0 to 1\n",
    "    : x: List of image data.  The image shape is (32, 32, 3)\n",
    "    : return: Numpy array of normalize data\n",
    "    \"\"\"\n",
    "    # TODO: Implement Function\n",
    "    x_min = x.min(axis=(0, 1), keepdims=True)\n",
    "    x_max = x.max(axis=(0, 1), keepdims=True)\n",
    "    return (x - x_min)/(x_max - x_min)\n",
    "\n",
    "\n",
    "\"\"\"\n",
    "DON'T MODIFY ANYTHING IN THIS CELL THAT IS BELOW THIS LINE\n",
    "\"\"\"\n",
    "tests.test_normalize(normalize)"
   ]
  },
  {
   "cell_type": "markdown",
   "metadata": {
    "deletable": true,
    "editable": true
   },
   "source": [
    "### One-hot encode\n",
    "Just like the previous code cell, you'll be implementing a function for preprocessing.  This time, you'll implement the `one_hot_encode` function. The input, `x`, are a list of labels.  Implement the function to return the list of labels as One-Hot encoded Numpy array.  The possible values for labels are 0 to 9. The one-hot encoding function should return the same encoding for each value between each call to `one_hot_encode`.  Make sure to save the map of encodings outside the function.\n",
    "\n",
    "Hint: Don't reinvent the wheel."
   ]
  },
  {
   "cell_type": "code",
   "execution_count": 4,
   "metadata": {
    "ExecuteTime": {
     "end_time": "2017-05-15T01:52:56.443419Z",
     "start_time": "2017-05-14T18:52:56.434391-07:00"
    },
    "collapsed": false,
    "deletable": true,
    "editable": true
   },
   "outputs": [
    {
     "name": "stdout",
     "output_type": "stream",
     "text": [
      "Tests Passed\n"
     ]
    }
   ],
   "source": [
    "def one_hot_encode(x):\n",
    "    \"\"\"\n",
    "    One hot encode a list of sample labels. Return a one-hot encoded vector for each label.\n",
    "    : x: List of sample Labels\n",
    "    : return: Numpy array of one-hot encoded labels\n",
    "    \"\"\"\n",
    "    # TODO: Implement Function\n",
    "    return np.eye(10)[x]\n",
    "\n",
    "\n",
    "\"\"\"\n",
    "DON'T MODIFY ANYTHING IN THIS CELL THAT IS BELOW THIS LINE\n",
    "\"\"\"\n",
    "tests.test_one_hot_encode(one_hot_encode)"
   ]
  },
  {
   "cell_type": "markdown",
   "metadata": {
    "deletable": true,
    "editable": true
   },
   "source": [
    "### Randomize Data\n",
    "As you saw from exploring the data above, the order of the samples are randomized.  It doesn't hurt to randomize it again, but you don't need to for this dataset."
   ]
  },
  {
   "cell_type": "markdown",
   "metadata": {
    "deletable": true,
    "editable": true
   },
   "source": [
    "## Preprocess all the data and save it\n",
    "Running the code cell below will preprocess all the CIFAR-10 data and save it to file. The code below also uses 10% of the training data for validation."
   ]
  },
  {
   "cell_type": "code",
   "execution_count": 5,
   "metadata": {
    "ExecuteTime": {
     "end_time": "2017-05-15T01:53:03.185427Z",
     "start_time": "2017-05-14T18:52:56.446592-07:00"
    },
    "collapsed": false,
    "deletable": true,
    "editable": true
   },
   "outputs": [],
   "source": [
    "\"\"\"\n",
    "DON'T MODIFY ANYTHING IN THIS CELL\n",
    "\"\"\"\n",
    "# Preprocess Training, Validation, and Testing Data\n",
    "helper.preprocess_and_save_data(cifar10_dataset_folder_path, normalize, one_hot_encode)"
   ]
  },
  {
   "cell_type": "markdown",
   "metadata": {
    "deletable": true,
    "editable": true
   },
   "source": [
    "# Check Point\n",
    "This is your first checkpoint.  If you ever decide to come back to this notebook or have to restart the notebook, you can start from here.  The preprocessed data has been saved to disk."
   ]
  },
  {
   "cell_type": "code",
   "execution_count": 6,
   "metadata": {
    "ExecuteTime": {
     "end_time": "2017-05-15T01:53:03.376846Z",
     "start_time": "2017-05-14T18:53:03.187680-07:00"
    },
    "collapsed": true,
    "deletable": true,
    "editable": true
   },
   "outputs": [],
   "source": [
    "\"\"\"\n",
    "DON'T MODIFY ANYTHING IN THIS CELL\n",
    "\"\"\"\n",
    "import pickle\n",
    "import problem_unittests as tests\n",
    "import helper\n",
    "\n",
    "# Load the Preprocessed Validation data\n",
    "valid_features, valid_labels = pickle.load(open('preprocess_validation.p', mode='rb'))"
   ]
  },
  {
   "cell_type": "markdown",
   "metadata": {
    "deletable": true,
    "editable": true
   },
   "source": [
    "## Build the network\n",
    "For the neural network, you'll build each layer into a function.  Most of the code you've seen has been outside of functions. To test your code more thoroughly, we require that you put each layer in a function.  This allows us to give you better feedback and test for simple mistakes using our unittests before you submit your project.\n",
    "\n",
    ">**Note:** If you're finding it hard to dedicate enough time for this course each week, we've provided a small shortcut to this part of the project. In the next couple of problems, you'll have the option to use classes from the [TensorFlow Layers](https://www.tensorflow.org/api_docs/python/tf/layers) or [TensorFlow Layers (contrib)](https://www.tensorflow.org/api_guides/python/contrib.layers) packages to build each layer, except the layers you build in the \"Convolutional and Max Pooling Layer\" section.  TF Layers is similar to Keras's and TFLearn's abstraction to layers, so it's easy to pickup.\n",
    "\n",
    ">However, if you would like to get the most out of this course, try to solve all the problems _without_ using anything from the TF Layers packages. You **can** still use classes from other packages that happen to have the same name as ones you find in TF Layers! For example, instead of using the TF Layers version of the `conv2d` class, [tf.layers.conv2d](https://www.tensorflow.org/api_docs/python/tf/layers/conv2d), you would want to use the TF Neural Network version of `conv2d`, [tf.nn.conv2d](https://www.tensorflow.org/api_docs/python/tf/nn/conv2d). \n",
    "\n",
    "Let's begin!\n",
    "\n",
    "### Input\n",
    "The neural network needs to read the image data, one-hot encoded labels, and dropout keep probability. Implement the following functions\n",
    "* Implement `neural_net_image_input`\n",
    " * Return a [TF Placeholder](https://www.tensorflow.org/api_docs/python/tf/placeholder)\n",
    " * Set the shape using `image_shape` with batch size set to `None`.\n",
    " * Name the TensorFlow placeholder \"x\" using the TensorFlow `name` parameter in the [TF Placeholder](https://www.tensorflow.org/api_docs/python/tf/placeholder).\n",
    "* Implement `neural_net_label_input`\n",
    " * Return a [TF Placeholder](https://www.tensorflow.org/api_docs/python/tf/placeholder)\n",
    " * Set the shape using `n_classes` with batch size set to `None`.\n",
    " * Name the TensorFlow placeholder \"y\" using the TensorFlow `name` parameter in the [TF Placeholder](https://www.tensorflow.org/api_docs/python/tf/placeholder).\n",
    "* Implement `neural_net_keep_prob_input`\n",
    " * Return a [TF Placeholder](https://www.tensorflow.org/api_docs/python/tf/placeholder) for dropout keep probability.\n",
    " * Name the TensorFlow placeholder \"keep_prob\" using the TensorFlow `name` parameter in the [TF Placeholder](https://www.tensorflow.org/api_docs/python/tf/placeholder).\n",
    "\n",
    "These names will be used at the end of the project to load your saved model.\n",
    "\n",
    "Note: `None` for shapes in TensorFlow allow for a dynamic size."
   ]
  },
  {
   "cell_type": "code",
   "execution_count": 7,
   "metadata": {
    "ExecuteTime": {
     "end_time": "2017-05-15T01:53:03.428904Z",
     "start_time": "2017-05-14T18:53:03.378635-07:00"
    },
    "collapsed": false,
    "deletable": true,
    "editable": true
   },
   "outputs": [
    {
     "name": "stdout",
     "output_type": "stream",
     "text": [
      "Image Input Tests Passed.\n",
      "Label Input Tests Passed.\n",
      "Keep Prob Tests Passed.\n"
     ]
    }
   ],
   "source": [
    "import tensorflow as tf\n",
    "\n",
    "def neural_net_image_input(image_shape):\n",
    "    \"\"\"\n",
    "    Return a Tensor for a batch of image input\n",
    "    : image_shape: Shape of the images\n",
    "    : return: Tensor for image input.\n",
    "    \"\"\"\n",
    "    # TODO: Implement Function\n",
    "    return tf.placeholder(tf.float32, [None, image_shape[0], image_shape[1], image_shape[2]], \"x\")\n",
    "\n",
    "\n",
    "def neural_net_label_input(n_classes):\n",
    "    \"\"\"\n",
    "    Return a Tensor for a batch of label input\n",
    "    : n_classes: Number of classes\n",
    "    : return: Tensor for label input.\n",
    "    \"\"\"\n",
    "    # TODO: Implement Function\n",
    "    return tf.placeholder(tf.float32, [None, n_classes], \"y\")\n",
    "\n",
    "\n",
    "def neural_net_keep_prob_input():\n",
    "    \"\"\"\n",
    "    Return a Tensor for keep probability\n",
    "    : return: Tensor for keep probability.\n",
    "    \"\"\"\n",
    "    # TODO: Implement Function\n",
    "    return tf.placeholder(tf.float32, name=\"keep_prob\")\n",
    "\n",
    "\n",
    "\"\"\"\n",
    "DON'T MODIFY ANYTHING IN THIS CELL THAT IS BELOW THIS LINE\n",
    "\"\"\"\n",
    "tf.reset_default_graph()\n",
    "tests.test_nn_image_inputs(neural_net_image_input)\n",
    "tests.test_nn_label_inputs(neural_net_label_input)\n",
    "tests.test_nn_keep_prob_inputs(neural_net_keep_prob_input)"
   ]
  },
  {
   "cell_type": "markdown",
   "metadata": {
    "deletable": true,
    "editable": true
   },
   "source": [
    "### Convolution and Max Pooling Layer\n",
    "Convolution layers have a lot of success with images. For this code cell, you should implement the function `conv2d_maxpool` to apply convolution then max pooling:\n",
    "* Create the weight and bias using `conv_ksize`, `conv_num_outputs` and the shape of `x_tensor`.\n",
    "* Apply a convolution to `x_tensor` using weight and `conv_strides`.\n",
    " * We recommend you use same padding, but you're welcome to use any padding.\n",
    "* Add bias\n",
    "* Add a nonlinear activation to the convolution.\n",
    "* Apply Max Pooling using `pool_ksize` and `pool_strides`.\n",
    " * We recommend you use same padding, but you're welcome to use any padding.\n",
    "\n",
    "**Note:** You **can't** use [TensorFlow Layers](https://www.tensorflow.org/api_docs/python/tf/layers) or [TensorFlow Layers (contrib)](https://www.tensorflow.org/api_guides/python/contrib.layers) for **this** layer, but you can still use TensorFlow's [Neural Network](https://www.tensorflow.org/api_docs/python/tf/nn) package. You may still use the shortcut option for all the **other** layers."
   ]
  },
  {
   "cell_type": "code",
   "execution_count": 8,
   "metadata": {
    "ExecuteTime": {
     "end_time": "2017-05-15T02:10:45.283084Z",
     "start_time": "2017-05-14T19:10:45.238805-07:00"
    },
    "collapsed": false,
    "deletable": true,
    "editable": true
   },
   "outputs": [
    {
     "name": "stdout",
     "output_type": "stream",
     "text": [
      "Tests Passed\n"
     ]
    }
   ],
   "source": [
    "def conv2d_maxpool(x_tensor, conv_num_outputs, conv_ksize, conv_strides, pool_ksize, pool_strides):\n",
    "    \"\"\"\n",
    "    Apply convolution then max pooling to x_tensor\n",
    "    :param x_tensor: TensorFlow Tensor\n",
    "    :param conv_num_outputs: Number of outputs for the convolutional layer\n",
    "    :param conv_ksize: kernal size 2-D Tuple for the convolutional layer\n",
    "    :param conv_strides: Stride 2-D Tuple for convolution\n",
    "    :param pool_ksize: kernal size 2-D Tuple for pool\n",
    "    :param pool_strides: Stride 2-D Tuple for pool\n",
    "    : return: A tensor that represents convolution and max pooling of x_tensor\n",
    "    \"\"\"\n",
    "    # TODO: Implement Function\n",
    "    input_shape = int(x_tensor.shape[3])\n",
    "    output_shape = conv_num_outputs\n",
    "    weight_shape = [*conv_ksize, input_shape, output_shape]\n",
    "    w = tf.Variable(tf.random_normal(weight_shape, stddev=0.1))\n",
    "    b = tf.Variable(tf.zeros(output_shape))\n",
    "    \n",
    "    conv_net = tf.nn.conv2d(x_tensor, w, [1, *conv_strides, 1], padding=\"SAME\")\n",
    "    conv_net = tf.nn.bias_add(conv_net, b)\n",
    "    conv_net = tf.nn.relu(conv_net)\n",
    "    \n",
    "    mp_strides = [1, *pool_strides, 1]\n",
    "    mp_ksize = [1, *conv_ksize, 1]\n",
    "    conv_net = tf.nn.max_pool(conv_net, mp_ksize, mp_strides, padding=\"SAME\")\n",
    "    return conv_net\n",
    "\n",
    "\n",
    "\"\"\"\n",
    "DON'T MODIFY ANYTHING IN THIS CELL THAT IS BELOW THIS LINE\n",
    "\"\"\"\n",
    "tests.test_con_pool(conv2d_maxpool)"
   ]
  },
  {
   "cell_type": "markdown",
   "metadata": {
    "deletable": true,
    "editable": true
   },
   "source": [
    "### Flatten Layer\n",
    "Implement the `flatten` function to change the dimension of `x_tensor` from a 4-D tensor to a 2-D tensor.  The output should be the shape (*Batch Size*, *Flattened Image Size*). Shortcut option: you can use classes from the [TensorFlow Layers](https://www.tensorflow.org/api_docs/python/tf/layers) or [TensorFlow Layers (contrib)](https://www.tensorflow.org/api_guides/python/contrib.layers) packages for this layer. For more of a challenge, only use other TensorFlow packages."
   ]
  },
  {
   "cell_type": "code",
   "execution_count": 9,
   "metadata": {
    "ExecuteTime": {
     "end_time": "2017-05-15T02:12:39.924275Z",
     "start_time": "2017-05-14T19:12:39.049182-07:00"
    },
    "collapsed": false,
    "deletable": true,
    "editable": true
   },
   "outputs": [
    {
     "name": "stdout",
     "output_type": "stream",
     "text": [
      "Tests Passed\n"
     ]
    }
   ],
   "source": [
    "def flatten(x_tensor):\n",
    "    \"\"\"\n",
    "    Flatten x_tensor to (Batch Size, Flattened Image Size)\n",
    "    : x_tensor: A tensor of size (Batch Size, ...), where ... are the image dimensions.\n",
    "    : return: A tensor of size (Batch Size, Flattened Image Size).\n",
    "    \"\"\"\n",
    "    # TODO: Implement Function\n",
    "    return tf.contrib.layers.flatten(x_tensor)\n",
    "\n",
    "\n",
    "\"\"\"\n",
    "DON'T MODIFY ANYTHING IN THIS CELL THAT IS BELOW THIS LINE\n",
    "\"\"\"\n",
    "tests.test_flatten(flatten)"
   ]
  },
  {
   "cell_type": "markdown",
   "metadata": {
    "deletable": true,
    "editable": true
   },
   "source": [
    "### Fully-Connected Layer\n",
    "Implement the `fully_conn` function to apply a fully connected layer to `x_tensor` with the shape (*Batch Size*, *num_outputs*). Shortcut option: you can use classes from the [TensorFlow Layers](https://www.tensorflow.org/api_docs/python/tf/layers) or [TensorFlow Layers (contrib)](https://www.tensorflow.org/api_guides/python/contrib.layers) packages for this layer. For more of a challenge, only use other TensorFlow packages."
   ]
  },
  {
   "cell_type": "code",
   "execution_count": 10,
   "metadata": {
    "ExecuteTime": {
     "end_time": "2017-05-15T02:14:15.803561Z",
     "start_time": "2017-05-14T19:14:15.771994-07:00"
    },
    "collapsed": false,
    "deletable": true,
    "editable": true
   },
   "outputs": [
    {
     "name": "stdout",
     "output_type": "stream",
     "text": [
      "Tests Passed\n"
     ]
    }
   ],
   "source": [
    "def fully_conn(x_tensor, num_outputs):\n",
    "    \"\"\"\n",
    "    Apply a fully connected layer to x_tensor using weight and bias\n",
    "    : x_tensor: A 2-D tensor where the first dimension is batch size.\n",
    "    : num_outputs: The number of output that the new tensor should be.\n",
    "    : return: A 2-D tensor where the second dimension is num_outputs.\n",
    "    \"\"\"\n",
    "    # TODO: Implement Function\n",
    "    weight_shape = (int(x_tensor.shape[1]), num_outputs)\n",
    "    w = tf.Variable(tf.random_normal(weight_shape, stddev=0.1))\n",
    "    b = tf.Variable(tf.zeros(num_outputs))\n",
    "    \n",
    "    layer = tf.add(tf.matmul(x_tensor, w), b)\n",
    "    layer = tf.nn.relu(layer)\n",
    "    return layer\n",
    "\n",
    "\n",
    "\"\"\"\n",
    "DON'T MODIFY ANYTHING IN THIS CELL THAT IS BELOW THIS LINE\n",
    "\"\"\"\n",
    "tests.test_fully_conn(fully_conn)"
   ]
  },
  {
   "cell_type": "markdown",
   "metadata": {
    "deletable": true,
    "editable": true
   },
   "source": [
    "### Output Layer\n",
    "Implement the `output` function to apply a fully connected layer to `x_tensor` with the shape (*Batch Size*, *num_outputs*). Shortcut option: you can use classes from the [TensorFlow Layers](https://www.tensorflow.org/api_docs/python/tf/layers) or [TensorFlow Layers (contrib)](https://www.tensorflow.org/api_guides/python/contrib.layers) packages for this layer. For more of a challenge, only use other TensorFlow packages.\n",
    "\n",
    "**Note:** Activation, softmax, or cross entropy should **not** be applied to this."
   ]
  },
  {
   "cell_type": "code",
   "execution_count": 11,
   "metadata": {
    "ExecuteTime": {
     "end_time": "2017-05-15T02:15:46.531856Z",
     "start_time": "2017-05-14T19:15:46.503922-07:00"
    },
    "collapsed": false,
    "deletable": true,
    "editable": true
   },
   "outputs": [
    {
     "name": "stdout",
     "output_type": "stream",
     "text": [
      "Tests Passed\n"
     ]
    }
   ],
   "source": [
    "def output(x_tensor, num_outputs):\n",
    "    \"\"\"\n",
    "    Apply a output layer to x_tensor using weight and bias\n",
    "    : x_tensor: A 2-D tensor where the first dimension is batch size.\n",
    "    : num_outputs: The number of output that the new tensor should be.\n",
    "    : return: A 2-D tensor where the second dimension is num_outputs.\n",
    "    \"\"\"\n",
    "    # TODO: Implement Function\n",
    "    weight_shape = (int(x_tensor.shape[1]), num_outputs)\n",
    "    w = tf.Variable(tf.random_normal(weight_shape, stddev=0.1))\n",
    "    b = tf.Variable(tf.zeros(num_outputs))\n",
    "    \n",
    "    layer = tf.add(tf.matmul(x_tensor, w), b)\n",
    "    return layer\n",
    "\n",
    "\n",
    "\"\"\"\n",
    "DON'T MODIFY ANYTHING IN THIS CELL THAT IS BELOW THIS LINE\n",
    "\"\"\"\n",
    "tests.test_output(output)"
   ]
  },
  {
   "cell_type": "markdown",
   "metadata": {
    "deletable": true,
    "editable": true
   },
   "source": [
    "### Create Convolutional Model\n",
    "Implement the function `conv_net` to create a convolutional neural network model. The function takes in a batch of images, `x`, and outputs logits.  Use the layers you created above to create this model:\n",
    "\n",
    "* Apply 1, 2, or 3 Convolution and Max Pool layers\n",
    "* Apply a Flatten Layer\n",
    "* Apply 1, 2, or 3 Fully Connected Layers\n",
    "* Apply an Output Layer\n",
    "* Return the output\n",
    "* Apply [TensorFlow's Dropout](https://www.tensorflow.org/api_docs/python/tf/nn/dropout) to one or more layers in the model using `keep_prob`. "
   ]
  },
  {
   "cell_type": "code",
   "execution_count": 12,
   "metadata": {
    "ExecuteTime": {
     "end_time": "2017-05-15T02:58:01.784388Z",
     "start_time": "2017-05-14T19:58:00.714345-07:00"
    },
    "collapsed": false,
    "deletable": true,
    "editable": true
   },
   "outputs": [
    {
     "name": "stdout",
     "output_type": "stream",
     "text": [
      "Neural Network Built!\n"
     ]
    }
   ],
   "source": [
    "def conv_net(x, keep_prob):\n",
    "    \"\"\"\n",
    "    Create a convolutional neural network model\n",
    "    : x: Placeholder tensor that holds image data.\n",
    "    : keep_prob: Placeholder tensor that hold dropout keep probability.\n",
    "    : return: Tensor that represents logits\n",
    "    \"\"\"\n",
    "    # TODO: Apply 1, 2, or 3 Convolution and Max Pool layers\n",
    "    #    Play around with different number of outputs, kernel size and stride\n",
    "    # Function Definition from Above:\n",
    "    #    conv2d_maxpool(x_tensor, conv_num_outputs, conv_ksize, conv_strides, pool_ksize, pool_strides)\n",
    "    conv_num_outputs_layer_1 = 64\n",
    "    conv_ksize_layer_1 = (3, 3)\n",
    "    conv_strides_layer_1 = (1, 1)\n",
    "    pool_ksize_layer_1 = (2, 2)\n",
    "    pool_strides_layer_1 = (2, 2)\n",
    "    conv_layer_1 = conv2d_maxpool(x,\n",
    "                           conv_num_outputs_layer_1,\n",
    "                           conv_ksize_layer_1,\n",
    "                           conv_strides_layer_1,\n",
    "                           pool_ksize_layer_1,\n",
    "                           pool_strides_layer_1)\n",
    "    \n",
    "    conv_num_outputs_layer_2 = 64\n",
    "    conv_ksize_layer_2 = (3, 3)\n",
    "    conv_strides_layer_2 = (2, 2)\n",
    "    pool_ksize_layer_2 = (2, 2)\n",
    "    pool_strides_layer_2 = (2, 2)\n",
    "    conv_layer_2 = conv2d_maxpool(conv_layer_1,\n",
    "                           conv_num_outputs_layer_2,\n",
    "                           conv_ksize_layer_2,\n",
    "                           conv_strides_layer_2,\n",
    "                           pool_ksize_layer_2,\n",
    "                           pool_strides_layer_2)\n",
    "    \n",
    "    conv_num_outputs_layer_3 = 64\n",
    "    conv_ksize_layer_3 = (3, 3)\n",
    "    conv_strides_layer_3 = (1, 1)\n",
    "    pool_ksize_layer_3 = (2, 2)\n",
    "    pool_strides_layer_3 = (2, 2)\n",
    "    conv_layer_3 = conv2d_maxpool(conv_layer_2,\n",
    "                           conv_num_outputs_layer_3,\n",
    "                           conv_ksize_layer_3,\n",
    "                           conv_strides_layer_3,\n",
    "                           pool_ksize_layer_3,\n",
    "                           pool_strides_layer_3)\n",
    "    \n",
    "\n",
    "    # TODO: Apply a Flatten Layer\n",
    "    # Function Definition from Above:\n",
    "    #   flatten(x_tensor)\n",
    "    flatten_layer = flatten(conv_layer_3)\n",
    "\n",
    "    # TODO: Apply 1, 2, or 3 Fully Connected Layers\n",
    "    #    Play around with different number of outputs\n",
    "    # Function Definition from Above:\n",
    "    #   fully_conn(x_tensor, num_outputs)\n",
    "    fc_layer_1_num_outputs = 512\n",
    "    fc_layer_2_num_outputs = 256\n",
    "    fc_layer_3_num_outputs = 128\n",
    "    \n",
    "    fc_layer_1 = fully_conn(flatten_layer, fc_layer_1_num_outputs)\n",
    "    fc_layer_1 = tf.nn.dropout(fc_layer_1, keep_prob)\n",
    "    \n",
    "    fc_layer_2 = fully_conn(fc_layer_1, fc_layer_2_num_outputs)\n",
    "    fc_layer_2 = tf.nn.dropout(fc_layer_2, keep_prob)\n",
    "    \n",
    "    fc_layer_3 = fully_conn(fc_layer_2, fc_layer_3_num_outputs)\n",
    "    fc_layer_3 = tf.nn.dropout(fc_layer_3, keep_prob)\n",
    "    \n",
    "    # TODO: Apply an Output Layer\n",
    "    #    Set this to the number of classes\n",
    "    # Function Definition from Above:\n",
    "    #   output(x_tensor, num_outputs)\n",
    "    output_num_outputs = 10\n",
    "    output_layer = output(fc_layer_2, output_num_outputs)\n",
    "    \n",
    "    # TODO: return output\n",
    "    return output_layer\n",
    "\n",
    "\n",
    "\"\"\"\n",
    "DON'T MODIFY ANYTHING IN THIS CELL THAT IS BELOW THIS LINE\n",
    "\"\"\"\n",
    "\n",
    "##############################\n",
    "## Build the Neural Network ##\n",
    "##############################\n",
    "\n",
    "# Remove previous weights, bias, inputs, etc..\n",
    "tf.reset_default_graph()\n",
    "\n",
    "# Inputs\n",
    "x = neural_net_image_input((32, 32, 3))\n",
    "y = neural_net_label_input(10)\n",
    "keep_prob = neural_net_keep_prob_input()\n",
    "\n",
    "# Model\n",
    "logits = conv_net(x, keep_prob)\n",
    "\n",
    "# Name logits Tensor, so that is can be loaded from disk after training\n",
    "logits = tf.identity(logits, name='logits')\n",
    "\n",
    "# Loss and Optimizer\n",
    "cost = tf.reduce_mean(tf.nn.softmax_cross_entropy_with_logits(logits=logits, labels=y))\n",
    "optimizer = tf.train.AdamOptimizer().minimize(cost)\n",
    "\n",
    "# Accuracy\n",
    "correct_pred = tf.equal(tf.argmax(logits, 1), tf.argmax(y, 1))\n",
    "accuracy = tf.reduce_mean(tf.cast(correct_pred, tf.float32), name='accuracy')\n",
    "\n",
    "tests.test_conv_net(conv_net)"
   ]
  },
  {
   "cell_type": "markdown",
   "metadata": {
    "deletable": true,
    "editable": true
   },
   "source": [
    "## Train the Neural Network\n",
    "### Single Optimization\n",
    "Implement the function `train_neural_network` to do a single optimization.  The optimization should use `optimizer` to optimize in `session` with a `feed_dict` of the following:\n",
    "* `x` for image input\n",
    "* `y` for labels\n",
    "* `keep_prob` for keep probability for dropout\n",
    "\n",
    "This function will be called for each batch, so `tf.global_variables_initializer()` has already been called.\n",
    "\n",
    "Note: Nothing needs to be returned. This function is only optimizing the neural network."
   ]
  },
  {
   "cell_type": "code",
   "execution_count": 13,
   "metadata": {
    "ExecuteTime": {
     "end_time": "2017-05-15T03:01:10.319994Z",
     "start_time": "2017-05-14T20:01:10.302539-07:00"
    },
    "collapsed": false,
    "deletable": true,
    "editable": true
   },
   "outputs": [
    {
     "name": "stdout",
     "output_type": "stream",
     "text": [
      "Tests Passed\n"
     ]
    }
   ],
   "source": [
    "def train_neural_network(session, optimizer, keep_probability, feature_batch, label_batch):\n",
    "    \"\"\"\n",
    "    Optimize the session on a batch of images and labels\n",
    "    : session: Current TensorFlow session\n",
    "    : optimizer: TensorFlow optimizer function\n",
    "    : keep_probability: keep probability\n",
    "    : feature_batch: Batch of Numpy image data\n",
    "    : label_batch: Batch of Numpy label data\n",
    "    \"\"\"\n",
    "    # TODO: Implement Function\n",
    "    session.run(optimizer, feed_dict={x: feature_batch, y: label_batch, keep_prob: keep_probability})\n",
    "\n",
    "\n",
    "\"\"\"\n",
    "DON'T MODIFY ANYTHING IN THIS CELL THAT IS BELOW THIS LINE\n",
    "\"\"\"\n",
    "tests.test_train_nn(train_neural_network)"
   ]
  },
  {
   "cell_type": "markdown",
   "metadata": {
    "deletable": true,
    "editable": true
   },
   "source": [
    "### Show Stats\n",
    "Implement the function `print_stats` to print loss and validation accuracy.  Use the global variables `valid_features` and `valid_labels` to calculate validation accuracy.  Use a keep probability of `1.0` to calculate the loss and validation accuracy."
   ]
  },
  {
   "cell_type": "code",
   "execution_count": 14,
   "metadata": {
    "ExecuteTime": {
     "end_time": "2017-05-15T03:06:47.057979Z",
     "start_time": "2017-05-14T20:06:47.053248-07:00"
    },
    "collapsed": false,
    "deletable": true,
    "editable": true
   },
   "outputs": [],
   "source": [
    "def print_stats(session, feature_batch, label_batch, cost, accuracy):\n",
    "    \"\"\"\n",
    "    Print information about loss and validation accuracy\n",
    "    : session: Current TensorFlow session\n",
    "    : feature_batch: Batch of Numpy image data\n",
    "    : label_batch: Batch of Numpy label data\n",
    "    : cost: TensorFlow cost function\n",
    "    : accuracy: TensorFlow accuracy function\n",
    "    \"\"\"\n",
    "    # TODO: Implement Function\n",
    "    loss = session.run(cost, feed_dict={x:feature_batch, y:label_batch, keep_prob:1.0})\n",
    "    valid_acc = session.run(accuracy, feed_dict={x:valid_features, y:valid_labels, keep_prob:1.0})\n",
    "    print('Loss: {:>10.4f} Validation Accuracy: {:.6f}'.format(loss, valid_acc))"
   ]
  },
  {
   "cell_type": "markdown",
   "metadata": {
    "deletable": true,
    "editable": true
   },
   "source": [
    "### Hyperparameters\n",
    "Tune the following parameters:\n",
    "* Set `epochs` to the number of iterations until the network stops learning or start overfitting\n",
    "* Set `batch_size` to the highest number that your machine has memory for.  Most people set them to common sizes of memory:\n",
    " * 64\n",
    " * 128\n",
    " * 256\n",
    " * ...\n",
    "* Set `keep_probability` to the probability of keeping a node using dropout"
   ]
  },
  {
   "cell_type": "code",
   "execution_count": 15,
   "metadata": {
    "ExecuteTime": {
     "end_time": "2017-05-15T03:06:48.568305Z",
     "start_time": "2017-05-14T20:06:48.564119-07:00"
    },
    "collapsed": true,
    "deletable": true,
    "editable": true
   },
   "outputs": [],
   "source": [
    "# TODO: Tune Parameters\n",
    "epochs = 50\n",
    "batch_size = 100\n",
    "keep_probability = 0.75"
   ]
  },
  {
   "cell_type": "markdown",
   "metadata": {
    "deletable": true,
    "editable": true
   },
   "source": [
    "### Train on a Single CIFAR-10 Batch\n",
    "Instead of training the neural network on all the CIFAR-10 batches of data, let's use a single batch. This should save time while you iterate on the model to get a better accuracy.  Once the final validation accuracy is 50% or greater, run the model on all the data in the next section."
   ]
  },
  {
   "cell_type": "code",
   "execution_count": 16,
   "metadata": {
    "ExecuteTime": {
     "start_time": "2017-05-15T03:06:49.440Z"
    },
    "collapsed": false,
    "deletable": true,
    "editable": true,
    "scrolled": true
   },
   "outputs": [
    {
     "name": "stdout",
     "output_type": "stream",
     "text": [
      "Checking the Training on a Single Batch...\n",
      "Epoch  1, CIFAR-10 Batch 1:  Loss:     1.9161 Validation Accuracy: 0.342200\n",
      "Epoch  2, CIFAR-10 Batch 1:  Loss:     1.7543 Validation Accuracy: 0.425200\n",
      "Epoch  3, CIFAR-10 Batch 1:  Loss:     1.5700 Validation Accuracy: 0.465800\n",
      "Epoch  4, CIFAR-10 Batch 1:  Loss:     1.4912 Validation Accuracy: 0.493800\n",
      "Epoch  5, CIFAR-10 Batch 1:  Loss:     1.4106 Validation Accuracy: 0.513400\n",
      "Epoch  6, CIFAR-10 Batch 1:  Loss:     1.3427 Validation Accuracy: 0.496000\n",
      "Epoch  7, CIFAR-10 Batch 1:  Loss:     1.2138 Validation Accuracy: 0.541800\n",
      "Epoch  8, CIFAR-10 Batch 1:  Loss:     1.2124 Validation Accuracy: 0.533000\n",
      "Epoch  9, CIFAR-10 Batch 1:  Loss:     1.0440 Validation Accuracy: 0.551200\n",
      "Epoch 10, CIFAR-10 Batch 1:  Loss:     1.0609 Validation Accuracy: 0.542600\n",
      "Epoch 11, CIFAR-10 Batch 1:  Loss:     0.9956 Validation Accuracy: 0.529600\n",
      "Epoch 12, CIFAR-10 Batch 1:  Loss:     0.8717 Validation Accuracy: 0.556200\n",
      "Epoch 13, CIFAR-10 Batch 1:  Loss:     0.7961 Validation Accuracy: 0.560000\n",
      "Epoch 14, CIFAR-10 Batch 1:  Loss:     0.7343 Validation Accuracy: 0.564000\n",
      "Epoch 15, CIFAR-10 Batch 1:  Loss:     0.6746 Validation Accuracy: 0.557600\n",
      "Epoch 16, CIFAR-10 Batch 1:  Loss:     0.7271 Validation Accuracy: 0.541400\n",
      "Epoch 17, CIFAR-10 Batch 1:  Loss:     0.6533 Validation Accuracy: 0.555600\n",
      "Epoch 18, CIFAR-10 Batch 1:  Loss:     0.5814 Validation Accuracy: 0.581600\n",
      "Epoch 19, CIFAR-10 Batch 1:  Loss:     0.5552 Validation Accuracy: 0.574200\n",
      "Epoch 20, CIFAR-10 Batch 1:  Loss:     0.5901 Validation Accuracy: 0.559800\n",
      "Epoch 21, CIFAR-10 Batch 1:  Loss:     0.4724 Validation Accuracy: 0.572600\n",
      "Epoch 22, CIFAR-10 Batch 1:  Loss:     0.3673 Validation Accuracy: 0.580200\n",
      "Epoch 23, CIFAR-10 Batch 1:  Loss:     0.3598 Validation Accuracy: 0.572400\n",
      "Epoch 24, CIFAR-10 Batch 1:  Loss:     0.3922 Validation Accuracy: 0.560400\n",
      "Epoch 25, CIFAR-10 Batch 1:  Loss:     0.3501 Validation Accuracy: 0.580000\n",
      "Epoch 26, CIFAR-10 Batch 1:  Loss:     0.3414 Validation Accuracy: 0.578000\n",
      "Epoch 27, CIFAR-10 Batch 1:  Loss:     0.4170 Validation Accuracy: 0.568200\n",
      "Epoch 28, CIFAR-10 Batch 1:  Loss:     0.3218 Validation Accuracy: 0.584400\n",
      "Epoch 29, CIFAR-10 Batch 1:  Loss:     0.2194 Validation Accuracy: 0.577400\n",
      "Epoch 30, CIFAR-10 Batch 1:  Loss:     0.2378 Validation Accuracy: 0.568000\n",
      "Epoch 31, CIFAR-10 Batch 1:  Loss:     0.1855 Validation Accuracy: 0.570800\n",
      "Epoch 32, CIFAR-10 Batch 1:  Loss:     0.1802 Validation Accuracy: 0.571800\n",
      "Epoch 33, CIFAR-10 Batch 1:  Loss:     0.2864 Validation Accuracy: 0.566200\n",
      "Epoch 34, CIFAR-10 Batch 1:  Loss:     0.1426 Validation Accuracy: 0.566600\n",
      "Epoch 35, CIFAR-10 Batch 1:  Loss:     0.1633 Validation Accuracy: 0.567600\n",
      "Epoch 36, CIFAR-10 Batch 1:  Loss:     0.1274 Validation Accuracy: 0.577400\n",
      "Epoch 37, CIFAR-10 Batch 1:  Loss:     0.1429 Validation Accuracy: 0.582200\n",
      "Epoch 38, CIFAR-10 Batch 1:  Loss:     0.1213 Validation Accuracy: 0.573600\n",
      "Epoch 39, CIFAR-10 Batch 1:  Loss:     0.1387 Validation Accuracy: 0.567600\n",
      "Epoch 40, CIFAR-10 Batch 1:  Loss:     0.1107 Validation Accuracy: 0.583200\n",
      "Epoch 41, CIFAR-10 Batch 1:  Loss:     0.0907 Validation Accuracy: 0.580800\n",
      "Epoch 42, CIFAR-10 Batch 1:  Loss:     0.1255 Validation Accuracy: 0.581200\n",
      "Epoch 43, CIFAR-10 Batch 1:  Loss:     0.0412 Validation Accuracy: 0.584000\n",
      "Epoch 44, CIFAR-10 Batch 1:  Loss:     0.0645 Validation Accuracy: 0.572200\n",
      "Epoch 45, CIFAR-10 Batch 1:  Loss:     0.1028 Validation Accuracy: 0.569800\n",
      "Epoch 46, CIFAR-10 Batch 1:  Loss:     0.0618 Validation Accuracy: 0.566600\n",
      "Epoch 47, CIFAR-10 Batch 1:  Loss:     0.0737 Validation Accuracy: 0.570800\n",
      "Epoch 48, CIFAR-10 Batch 1:  Loss:     0.0446 Validation Accuracy: 0.583800\n",
      "Epoch 49, CIFAR-10 Batch 1:  Loss:     0.0237 Validation Accuracy: 0.576000\n",
      "Epoch 50, CIFAR-10 Batch 1:  Loss:     0.0597 Validation Accuracy: 0.586800\n"
     ]
    }
   ],
   "source": [
    "\"\"\"\n",
    "DON'T MODIFY ANYTHING IN THIS CELL\n",
    "\"\"\"\n",
    "print('Checking the Training on a Single Batch...')\n",
    "with tf.Session() as sess:\n",
    "    # Initializing the variables\n",
    "    sess.run(tf.global_variables_initializer())\n",
    "    \n",
    "    # Training cycle\n",
    "    for epoch in range(epochs):\n",
    "        batch_i = 1\n",
    "        for batch_features, batch_labels in helper.load_preprocess_training_batch(batch_i, batch_size):\n",
    "            train_neural_network(sess, optimizer, keep_probability, batch_features, batch_labels)\n",
    "        print('Epoch {:>2}, CIFAR-10 Batch {}:  '.format(epoch + 1, batch_i), end='')\n",
    "        print_stats(sess, batch_features, batch_labels, cost, accuracy)"
   ]
  },
  {
   "cell_type": "markdown",
   "metadata": {
    "deletable": true,
    "editable": true
   },
   "source": [
    "### Fully Train the Model\n",
    "Now that you got a good accuracy with a single CIFAR-10 batch, try it with all five batches."
   ]
  },
  {
   "cell_type": "code",
   "execution_count": 17,
   "metadata": {
    "ExecuteTime": {
     "start_time": "2017-05-15T03:07:36.169Z"
    },
    "collapsed": false,
    "deletable": true,
    "editable": true,
    "scrolled": true
   },
   "outputs": [
    {
     "name": "stdout",
     "output_type": "stream",
     "text": [
      "Training...\n",
      "Epoch  1, CIFAR-10 Batch 1:  Loss:     1.9829 Validation Accuracy: 0.362000\n",
      "Epoch  1, CIFAR-10 Batch 2:  Loss:     1.6177 Validation Accuracy: 0.396600\n",
      "Epoch  1, CIFAR-10 Batch 3:  Loss:     1.2922 Validation Accuracy: 0.457800\n",
      "Epoch  1, CIFAR-10 Batch 4:  Loss:     1.3346 Validation Accuracy: 0.493600\n",
      "Epoch  1, CIFAR-10 Batch 5:  Loss:     1.2777 Validation Accuracy: 0.505000\n",
      "Epoch  2, CIFAR-10 Batch 1:  Loss:     1.5088 Validation Accuracy: 0.533400\n",
      "Epoch  2, CIFAR-10 Batch 2:  Loss:     1.2078 Validation Accuracy: 0.562800\n",
      "Epoch  2, CIFAR-10 Batch 3:  Loss:     1.0364 Validation Accuracy: 0.568800\n",
      "Epoch  2, CIFAR-10 Batch 4:  Loss:     1.1130 Validation Accuracy: 0.575800\n",
      "Epoch  2, CIFAR-10 Batch 5:  Loss:     1.0147 Validation Accuracy: 0.577200\n",
      "Epoch  3, CIFAR-10 Batch 1:  Loss:     1.1856 Validation Accuracy: 0.582400\n",
      "Epoch  3, CIFAR-10 Batch 2:  Loss:     1.0628 Validation Accuracy: 0.600000\n",
      "Epoch  3, CIFAR-10 Batch 3:  Loss:     0.8837 Validation Accuracy: 0.603600\n",
      "Epoch  3, CIFAR-10 Batch 4:  Loss:     0.9433 Validation Accuracy: 0.599000\n",
      "Epoch  3, CIFAR-10 Batch 5:  Loss:     0.9280 Validation Accuracy: 0.609800\n",
      "Epoch  4, CIFAR-10 Batch 1:  Loss:     1.1800 Validation Accuracy: 0.604400\n",
      "Epoch  4, CIFAR-10 Batch 2:  Loss:     0.9023 Validation Accuracy: 0.630400\n",
      "Epoch  4, CIFAR-10 Batch 3:  Loss:     0.8387 Validation Accuracy: 0.620400\n",
      "Epoch  4, CIFAR-10 Batch 4:  Loss:     0.8689 Validation Accuracy: 0.623000\n",
      "Epoch  4, CIFAR-10 Batch 5:  Loss:     0.8188 Validation Accuracy: 0.635400\n",
      "Epoch  5, CIFAR-10 Batch 1:  Loss:     1.0247 Validation Accuracy: 0.644400\n",
      "Epoch  5, CIFAR-10 Batch 2:  Loss:     0.8493 Validation Accuracy: 0.656400\n",
      "Epoch  5, CIFAR-10 Batch 3:  Loss:     0.7162 Validation Accuracy: 0.652400\n",
      "Epoch  5, CIFAR-10 Batch 4:  Loss:     0.8386 Validation Accuracy: 0.645400\n",
      "Epoch  5, CIFAR-10 Batch 5:  Loss:     0.7731 Validation Accuracy: 0.650000\n",
      "Epoch  6, CIFAR-10 Batch 1:  Loss:     0.9638 Validation Accuracy: 0.650200\n",
      "Epoch  6, CIFAR-10 Batch 2:  Loss:     0.7905 Validation Accuracy: 0.657400\n",
      "Epoch  6, CIFAR-10 Batch 3:  Loss:     0.6955 Validation Accuracy: 0.666000\n",
      "Epoch  6, CIFAR-10 Batch 4:  Loss:     0.8000 Validation Accuracy: 0.665600\n",
      "Epoch  6, CIFAR-10 Batch 5:  Loss:     0.7256 Validation Accuracy: 0.666600\n",
      "Epoch  7, CIFAR-10 Batch 1:  Loss:     0.8883 Validation Accuracy: 0.661600\n",
      "Epoch  7, CIFAR-10 Batch 2:  Loss:     0.7177 Validation Accuracy: 0.670600\n",
      "Epoch  7, CIFAR-10 Batch 3:  Loss:     0.6315 Validation Accuracy: 0.669000\n",
      "Epoch  7, CIFAR-10 Batch 4:  Loss:     0.7082 Validation Accuracy: 0.667600\n",
      "Epoch  7, CIFAR-10 Batch 5:  Loss:     0.6693 Validation Accuracy: 0.668600\n",
      "Epoch  8, CIFAR-10 Batch 1:  Loss:     0.9725 Validation Accuracy: 0.658200\n",
      "Epoch  8, CIFAR-10 Batch 2:  Loss:     0.6930 Validation Accuracy: 0.676400\n",
      "Epoch  8, CIFAR-10 Batch 3:  Loss:     0.6809 Validation Accuracy: 0.652000\n",
      "Epoch  8, CIFAR-10 Batch 4:  Loss:     0.6925 Validation Accuracy: 0.656600\n",
      "Epoch  8, CIFAR-10 Batch 5:  Loss:     0.6512 Validation Accuracy: 0.674800\n",
      "Epoch  9, CIFAR-10 Batch 1:  Loss:     0.8729 Validation Accuracy: 0.659000\n",
      "Epoch  9, CIFAR-10 Batch 2:  Loss:     0.6158 Validation Accuracy: 0.680400\n",
      "Epoch  9, CIFAR-10 Batch 3:  Loss:     0.5357 Validation Accuracy: 0.685600\n",
      "Epoch  9, CIFAR-10 Batch 4:  Loss:     0.6606 Validation Accuracy: 0.670600\n",
      "Epoch  9, CIFAR-10 Batch 5:  Loss:     0.6113 Validation Accuracy: 0.679400\n",
      "Epoch 10, CIFAR-10 Batch 1:  Loss:     0.8532 Validation Accuracy: 0.680000\n",
      "Epoch 10, CIFAR-10 Batch 2:  Loss:     0.5849 Validation Accuracy: 0.690000\n",
      "Epoch 10, CIFAR-10 Batch 3:  Loss:     0.5460 Validation Accuracy: 0.667400\n",
      "Epoch 10, CIFAR-10 Batch 4:  Loss:     0.6748 Validation Accuracy: 0.659600\n",
      "Epoch 10, CIFAR-10 Batch 5:  Loss:     0.5108 Validation Accuracy: 0.686400\n",
      "Epoch 11, CIFAR-10 Batch 1:  Loss:     0.7742 Validation Accuracy: 0.667400\n",
      "Epoch 11, CIFAR-10 Batch 2:  Loss:     0.5995 Validation Accuracy: 0.682400\n",
      "Epoch 11, CIFAR-10 Batch 3:  Loss:     0.4652 Validation Accuracy: 0.694200\n",
      "Epoch 11, CIFAR-10 Batch 4:  Loss:     0.5935 Validation Accuracy: 0.672200\n",
      "Epoch 11, CIFAR-10 Batch 5:  Loss:     0.4460 Validation Accuracy: 0.696400\n",
      "Epoch 12, CIFAR-10 Batch 1:  Loss:     0.7287 Validation Accuracy: 0.684400\n",
      "Epoch 12, CIFAR-10 Batch 2:  Loss:     0.5507 Validation Accuracy: 0.689800\n",
      "Epoch 12, CIFAR-10 Batch 3:  Loss:     0.4283 Validation Accuracy: 0.690000\n",
      "Epoch 12, CIFAR-10 Batch 4:  Loss:     0.5972 Validation Accuracy: 0.677600\n",
      "Epoch 12, CIFAR-10 Batch 5:  Loss:     0.4477 Validation Accuracy: 0.680800\n",
      "Epoch 13, CIFAR-10 Batch 1:  Loss:     0.6164 Validation Accuracy: 0.684600\n",
      "Epoch 13, CIFAR-10 Batch 2:  Loss:     0.5726 Validation Accuracy: 0.677800\n",
      "Epoch 13, CIFAR-10 Batch 3:  Loss:     0.4230 Validation Accuracy: 0.691000\n",
      "Epoch 13, CIFAR-10 Batch 4:  Loss:     0.5837 Validation Accuracy: 0.689000\n",
      "Epoch 13, CIFAR-10 Batch 5:  Loss:     0.3498 Validation Accuracy: 0.690200\n",
      "Epoch 14, CIFAR-10 Batch 1:  Loss:     0.6416 Validation Accuracy: 0.683400\n",
      "Epoch 14, CIFAR-10 Batch 2:  Loss:     0.5389 Validation Accuracy: 0.678000\n",
      "Epoch 14, CIFAR-10 Batch 3:  Loss:     0.4152 Validation Accuracy: 0.694600\n",
      "Epoch 14, CIFAR-10 Batch 4:  Loss:     0.5450 Validation Accuracy: 0.690200\n",
      "Epoch 14, CIFAR-10 Batch 5:  Loss:     0.4265 Validation Accuracy: 0.683800\n",
      "Epoch 15, CIFAR-10 Batch 1:  Loss:     0.6385 Validation Accuracy: 0.680400\n",
      "Epoch 15, CIFAR-10 Batch 2:  Loss:     0.4903 Validation Accuracy: 0.683600\n",
      "Epoch 15, CIFAR-10 Batch 3:  Loss:     0.4038 Validation Accuracy: 0.692800\n",
      "Epoch 15, CIFAR-10 Batch 4:  Loss:     0.5828 Validation Accuracy: 0.684200\n",
      "Epoch 15, CIFAR-10 Batch 5:  Loss:     0.3729 Validation Accuracy: 0.687000\n",
      "Epoch 16, CIFAR-10 Batch 1:  Loss:     0.5813 Validation Accuracy: 0.685600\n",
      "Epoch 16, CIFAR-10 Batch 2:  Loss:     0.4144 Validation Accuracy: 0.686000\n",
      "Epoch 16, CIFAR-10 Batch 3:  Loss:     0.3677 Validation Accuracy: 0.692400\n",
      "Epoch 16, CIFAR-10 Batch 4:  Loss:     0.5672 Validation Accuracy: 0.688200\n",
      "Epoch 16, CIFAR-10 Batch 5:  Loss:     0.2896 Validation Accuracy: 0.687800\n",
      "Epoch 17, CIFAR-10 Batch 1:  Loss:     0.5129 Validation Accuracy: 0.686400\n",
      "Epoch 17, CIFAR-10 Batch 2:  Loss:     0.3974 Validation Accuracy: 0.688800\n",
      "Epoch 17, CIFAR-10 Batch 3:  Loss:     0.3922 Validation Accuracy: 0.667800\n",
      "Epoch 17, CIFAR-10 Batch 4:  Loss:     0.4975 Validation Accuracy: 0.699600\n",
      "Epoch 17, CIFAR-10 Batch 5:  Loss:     0.2613 Validation Accuracy: 0.689600\n",
      "Epoch 18, CIFAR-10 Batch 1:  Loss:     0.4591 Validation Accuracy: 0.688400\n",
      "Epoch 18, CIFAR-10 Batch 2:  Loss:     0.4781 Validation Accuracy: 0.688400\n",
      "Epoch 18, CIFAR-10 Batch 3:  Loss:     0.3551 Validation Accuracy: 0.688600\n",
      "Epoch 18, CIFAR-10 Batch 4:  Loss:     0.4592 Validation Accuracy: 0.691000\n",
      "Epoch 18, CIFAR-10 Batch 5:  Loss:     0.2712 Validation Accuracy: 0.691800\n",
      "Epoch 19, CIFAR-10 Batch 1:  Loss:     0.5092 Validation Accuracy: 0.690000\n",
      "Epoch 19, CIFAR-10 Batch 2:  Loss:     0.3854 Validation Accuracy: 0.687200\n",
      "Epoch 19, CIFAR-10 Batch 3:  Loss:     0.3501 Validation Accuracy: 0.694600\n",
      "Epoch 19, CIFAR-10 Batch 4:  Loss:     0.4305 Validation Accuracy: 0.691400\n",
      "Epoch 19, CIFAR-10 Batch 5:  Loss:     0.2654 Validation Accuracy: 0.688400\n",
      "Epoch 20, CIFAR-10 Batch 1:  Loss:     0.4539 Validation Accuracy: 0.700800\n",
      "Epoch 20, CIFAR-10 Batch 2:  Loss:     0.3543 Validation Accuracy: 0.686800\n",
      "Epoch 20, CIFAR-10 Batch 3:  Loss:     0.3829 Validation Accuracy: 0.686000\n",
      "Epoch 20, CIFAR-10 Batch 4:  Loss:     0.3590 Validation Accuracy: 0.698400\n",
      "Epoch 20, CIFAR-10 Batch 5:  Loss:     0.1879 Validation Accuracy: 0.687800\n",
      "Epoch 21, CIFAR-10 Batch 1:  Loss:     0.4498 Validation Accuracy: 0.693600\n",
      "Epoch 21, CIFAR-10 Batch 2:  Loss:     0.3458 Validation Accuracy: 0.684000\n",
      "Epoch 21, CIFAR-10 Batch 3:  Loss:     0.3211 Validation Accuracy: 0.700200\n",
      "Epoch 21, CIFAR-10 Batch 4:  Loss:     0.3978 Validation Accuracy: 0.686200\n",
      "Epoch 21, CIFAR-10 Batch 5:  Loss:     0.2051 Validation Accuracy: 0.695400\n",
      "Epoch 22, CIFAR-10 Batch 1:  Loss:     0.4529 Validation Accuracy: 0.695600\n",
      "Epoch 22, CIFAR-10 Batch 2:  Loss:     0.3235 Validation Accuracy: 0.685200\n",
      "Epoch 22, CIFAR-10 Batch 3:  Loss:     0.2911 Validation Accuracy: 0.702400\n",
      "Epoch 22, CIFAR-10 Batch 4:  Loss:     0.3557 Validation Accuracy: 0.690600\n",
      "Epoch 22, CIFAR-10 Batch 5:  Loss:     0.2274 Validation Accuracy: 0.700400\n",
      "Epoch 23, CIFAR-10 Batch 1:  Loss:     0.4891 Validation Accuracy: 0.691400\n",
      "Epoch 23, CIFAR-10 Batch 2:  Loss:     0.2690 Validation Accuracy: 0.696000\n",
      "Epoch 23, CIFAR-10 Batch 3:  Loss:     0.2614 Validation Accuracy: 0.701600\n",
      "Epoch 23, CIFAR-10 Batch 4:  Loss:     0.2939 Validation Accuracy: 0.698400\n",
      "Epoch 23, CIFAR-10 Batch 5:  Loss:     0.2167 Validation Accuracy: 0.702800\n",
      "Epoch 24, CIFAR-10 Batch 1:  Loss:     0.4425 Validation Accuracy: 0.688600\n",
      "Epoch 24, CIFAR-10 Batch 2:  Loss:     0.2166 Validation Accuracy: 0.693200\n",
      "Epoch 24, CIFAR-10 Batch 3:  Loss:     0.2471 Validation Accuracy: 0.700400\n",
      "Epoch 24, CIFAR-10 Batch 4:  Loss:     0.3467 Validation Accuracy: 0.688000\n",
      "Epoch 24, CIFAR-10 Batch 5:  Loss:     0.1874 Validation Accuracy: 0.701000\n",
      "Epoch 25, CIFAR-10 Batch 1:  Loss:     0.4111 Validation Accuracy: 0.685400\n",
      "Epoch 25, CIFAR-10 Batch 2:  Loss:     0.2395 Validation Accuracy: 0.687800\n",
      "Epoch 25, CIFAR-10 Batch 3:  Loss:     0.2220 Validation Accuracy: 0.698000\n",
      "Epoch 25, CIFAR-10 Batch 4:  Loss:     0.3188 Validation Accuracy: 0.694200\n",
      "Epoch 25, CIFAR-10 Batch 5:  Loss:     0.1897 Validation Accuracy: 0.695400\n",
      "Epoch 26, CIFAR-10 Batch 1:  Loss:     0.3558 Validation Accuracy: 0.691400\n",
      "Epoch 26, CIFAR-10 Batch 2:  Loss:     0.2502 Validation Accuracy: 0.687600\n",
      "Epoch 26, CIFAR-10 Batch 3:  Loss:     0.2881 Validation Accuracy: 0.690600\n",
      "Epoch 26, CIFAR-10 Batch 4:  Loss:     0.2621 Validation Accuracy: 0.701600\n",
      "Epoch 26, CIFAR-10 Batch 5:  Loss:     0.1701 Validation Accuracy: 0.696600\n",
      "Epoch 27, CIFAR-10 Batch 1:  Loss:     0.3102 Validation Accuracy: 0.692600\n",
      "Epoch 27, CIFAR-10 Batch 2:  Loss:     0.2520 Validation Accuracy: 0.686400\n",
      "Epoch 27, CIFAR-10 Batch 3:  Loss:     0.2225 Validation Accuracy: 0.695800\n",
      "Epoch 27, CIFAR-10 Batch 4:  Loss:     0.2283 Validation Accuracy: 0.700800\n",
      "Epoch 27, CIFAR-10 Batch 5:  Loss:     0.1540 Validation Accuracy: 0.700000\n",
      "Epoch 28, CIFAR-10 Batch 1:  Loss:     0.3746 Validation Accuracy: 0.692400\n",
      "Epoch 28, CIFAR-10 Batch 2:  Loss:     0.3014 Validation Accuracy: 0.663000\n",
      "Epoch 28, CIFAR-10 Batch 3:  Loss:     0.2254 Validation Accuracy: 0.699600\n",
      "Epoch 28, CIFAR-10 Batch 4:  Loss:     0.1684 Validation Accuracy: 0.697200\n",
      "Epoch 28, CIFAR-10 Batch 5:  Loss:     0.1694 Validation Accuracy: 0.691200\n",
      "Epoch 29, CIFAR-10 Batch 1:  Loss:     0.3248 Validation Accuracy: 0.691800\n",
      "Epoch 29, CIFAR-10 Batch 2:  Loss:     0.2222 Validation Accuracy: 0.683800\n",
      "Epoch 29, CIFAR-10 Batch 3:  Loss:     0.2128 Validation Accuracy: 0.702400\n",
      "Epoch 29, CIFAR-10 Batch 4:  Loss:     0.1943 Validation Accuracy: 0.690800\n",
      "Epoch 29, CIFAR-10 Batch 5:  Loss:     0.1658 Validation Accuracy: 0.688000\n",
      "Epoch 30, CIFAR-10 Batch 1:  Loss:     0.3429 Validation Accuracy: 0.693000\n",
      "Epoch 30, CIFAR-10 Batch 2:  Loss:     0.2079 Validation Accuracy: 0.688600\n",
      "Epoch 30, CIFAR-10 Batch 3:  Loss:     0.2922 Validation Accuracy: 0.700200\n",
      "Epoch 30, CIFAR-10 Batch 4:  Loss:     0.1917 Validation Accuracy: 0.695000\n",
      "Epoch 30, CIFAR-10 Batch 5:  Loss:     0.1239 Validation Accuracy: 0.701600\n",
      "Epoch 31, CIFAR-10 Batch 1:  Loss:     0.2753 Validation Accuracy: 0.687000\n",
      "Epoch 31, CIFAR-10 Batch 2:  Loss:     0.1691 Validation Accuracy: 0.699600\n",
      "Epoch 31, CIFAR-10 Batch 3:  Loss:     0.2788 Validation Accuracy: 0.689800\n",
      "Epoch 31, CIFAR-10 Batch 4:  Loss:     0.1403 Validation Accuracy: 0.695000\n",
      "Epoch 31, CIFAR-10 Batch 5:  Loss:     0.1405 Validation Accuracy: 0.700400\n",
      "Epoch 32, CIFAR-10 Batch 1:  Loss:     0.3226 Validation Accuracy: 0.691000\n",
      "Epoch 32, CIFAR-10 Batch 2:  Loss:     0.1688 Validation Accuracy: 0.697000\n",
      "Epoch 32, CIFAR-10 Batch 3:  Loss:     0.2591 Validation Accuracy: 0.687600\n",
      "Epoch 32, CIFAR-10 Batch 4:  Loss:     0.2253 Validation Accuracy: 0.687200\n",
      "Epoch 32, CIFAR-10 Batch 5:  Loss:     0.1902 Validation Accuracy: 0.676000\n",
      "Epoch 33, CIFAR-10 Batch 1:  Loss:     0.3179 Validation Accuracy: 0.686400\n",
      "Epoch 33, CIFAR-10 Batch 2:  Loss:     0.1419 Validation Accuracy: 0.694800\n",
      "Epoch 33, CIFAR-10 Batch 3:  Loss:     0.2345 Validation Accuracy: 0.689400\n",
      "Epoch 33, CIFAR-10 Batch 4:  Loss:     0.2147 Validation Accuracy: 0.689600\n",
      "Epoch 33, CIFAR-10 Batch 5:  Loss:     0.1332 Validation Accuracy: 0.702000\n",
      "Epoch 34, CIFAR-10 Batch 1:  Loss:     0.3173 Validation Accuracy: 0.699800\n",
      "Epoch 34, CIFAR-10 Batch 2:  Loss:     0.1233 Validation Accuracy: 0.706800\n",
      "Epoch 34, CIFAR-10 Batch 3:  Loss:     0.2172 Validation Accuracy: 0.696600\n",
      "Epoch 34, CIFAR-10 Batch 4:  Loss:     0.1538 Validation Accuracy: 0.675200\n",
      "Epoch 34, CIFAR-10 Batch 5:  Loss:     0.2195 Validation Accuracy: 0.686000\n",
      "Epoch 35, CIFAR-10 Batch 1:  Loss:     0.2803 Validation Accuracy: 0.684400\n",
      "Epoch 35, CIFAR-10 Batch 2:  Loss:     0.1279 Validation Accuracy: 0.705800\n",
      "Epoch 35, CIFAR-10 Batch 3:  Loss:     0.2729 Validation Accuracy: 0.666400\n",
      "Epoch 35, CIFAR-10 Batch 4:  Loss:     0.1931 Validation Accuracy: 0.682000\n",
      "Epoch 35, CIFAR-10 Batch 5:  Loss:     0.1376 Validation Accuracy: 0.699200\n",
      "Epoch 36, CIFAR-10 Batch 1:  Loss:     0.2934 Validation Accuracy: 0.697400\n",
      "Epoch 36, CIFAR-10 Batch 2:  Loss:     0.1252 Validation Accuracy: 0.704600\n",
      "Epoch 36, CIFAR-10 Batch 3:  Loss:     0.2009 Validation Accuracy: 0.681000\n",
      "Epoch 36, CIFAR-10 Batch 4:  Loss:     0.2045 Validation Accuracy: 0.688200\n",
      "Epoch 36, CIFAR-10 Batch 5:  Loss:     0.1124 Validation Accuracy: 0.701400\n",
      "Epoch 37, CIFAR-10 Batch 1:  Loss:     0.2563 Validation Accuracy: 0.699800\n",
      "Epoch 37, CIFAR-10 Batch 2:  Loss:     0.1096 Validation Accuracy: 0.705000\n",
      "Epoch 37, CIFAR-10 Batch 3:  Loss:     0.1407 Validation Accuracy: 0.675200\n",
      "Epoch 37, CIFAR-10 Batch 4:  Loss:     0.1471 Validation Accuracy: 0.696200\n",
      "Epoch 37, CIFAR-10 Batch 5:  Loss:     0.1126 Validation Accuracy: 0.700000\n",
      "Epoch 38, CIFAR-10 Batch 1:  Loss:     0.2280 Validation Accuracy: 0.693800\n",
      "Epoch 38, CIFAR-10 Batch 2:  Loss:     0.1414 Validation Accuracy: 0.704200\n",
      "Epoch 38, CIFAR-10 Batch 3:  Loss:     0.1311 Validation Accuracy: 0.689400\n",
      "Epoch 38, CIFAR-10 Batch 4:  Loss:     0.1247 Validation Accuracy: 0.708600\n",
      "Epoch 38, CIFAR-10 Batch 5:  Loss:     0.1361 Validation Accuracy: 0.717400\n",
      "Epoch 39, CIFAR-10 Batch 1:  Loss:     0.2316 Validation Accuracy: 0.690600\n",
      "Epoch 39, CIFAR-10 Batch 2:  Loss:     0.0993 Validation Accuracy: 0.706200\n",
      "Epoch 39, CIFAR-10 Batch 3:  Loss:     0.1529 Validation Accuracy: 0.687000\n",
      "Epoch 39, CIFAR-10 Batch 4:  Loss:     0.1235 Validation Accuracy: 0.687000\n",
      "Epoch 39, CIFAR-10 Batch 5:  Loss:     0.1712 Validation Accuracy: 0.698800\n",
      "Epoch 40, CIFAR-10 Batch 1:  Loss:     0.1491 Validation Accuracy: 0.694200\n",
      "Epoch 40, CIFAR-10 Batch 2:  Loss:     0.0696 Validation Accuracy: 0.710400\n",
      "Epoch 40, CIFAR-10 Batch 3:  Loss:     0.1353 Validation Accuracy: 0.699600\n",
      "Epoch 40, CIFAR-10 Batch 4:  Loss:     0.0838 Validation Accuracy: 0.698400\n",
      "Epoch 40, CIFAR-10 Batch 5:  Loss:     0.1285 Validation Accuracy: 0.691600\n",
      "Epoch 41, CIFAR-10 Batch 1:  Loss:     0.1590 Validation Accuracy: 0.705600\n",
      "Epoch 41, CIFAR-10 Batch 2:  Loss:     0.1401 Validation Accuracy: 0.702000\n",
      "Epoch 41, CIFAR-10 Batch 3:  Loss:     0.1340 Validation Accuracy: 0.689000\n",
      "Epoch 41, CIFAR-10 Batch 4:  Loss:     0.1464 Validation Accuracy: 0.697200\n",
      "Epoch 41, CIFAR-10 Batch 5:  Loss:     0.0947 Validation Accuracy: 0.694800\n",
      "Epoch 42, CIFAR-10 Batch 1:  Loss:     0.1750 Validation Accuracy: 0.697000\n",
      "Epoch 42, CIFAR-10 Batch 2:  Loss:     0.1052 Validation Accuracy: 0.708600\n",
      "Epoch 42, CIFAR-10 Batch 3:  Loss:     0.1006 Validation Accuracy: 0.697400\n",
      "Epoch 42, CIFAR-10 Batch 4:  Loss:     0.1226 Validation Accuracy: 0.701800\n",
      "Epoch 42, CIFAR-10 Batch 5:  Loss:     0.0727 Validation Accuracy: 0.690600\n",
      "Epoch 43, CIFAR-10 Batch 1:  Loss:     0.1636 Validation Accuracy: 0.698400\n",
      "Epoch 43, CIFAR-10 Batch 2:  Loss:     0.1306 Validation Accuracy: 0.701800\n",
      "Epoch 43, CIFAR-10 Batch 3:  Loss:     0.1198 Validation Accuracy: 0.707600\n",
      "Epoch 43, CIFAR-10 Batch 4:  Loss:     0.0877 Validation Accuracy: 0.695400\n",
      "Epoch 43, CIFAR-10 Batch 5:  Loss:     0.0842 Validation Accuracy: 0.712200\n",
      "Epoch 44, CIFAR-10 Batch 1:  Loss:     0.1842 Validation Accuracy: 0.698600\n",
      "Epoch 44, CIFAR-10 Batch 2:  Loss:     0.1630 Validation Accuracy: 0.696400\n",
      "Epoch 44, CIFAR-10 Batch 3:  Loss:     0.0831 Validation Accuracy: 0.690400\n",
      "Epoch 44, CIFAR-10 Batch 4:  Loss:     0.1297 Validation Accuracy: 0.700600\n",
      "Epoch 44, CIFAR-10 Batch 5:  Loss:     0.0878 Validation Accuracy: 0.702200\n",
      "Epoch 45, CIFAR-10 Batch 1:  Loss:     0.1302 Validation Accuracy: 0.689600\n",
      "Epoch 45, CIFAR-10 Batch 2:  Loss:     0.1233 Validation Accuracy: 0.707000\n",
      "Epoch 45, CIFAR-10 Batch 3:  Loss:     0.1333 Validation Accuracy: 0.686600\n",
      "Epoch 45, CIFAR-10 Batch 4:  Loss:     0.0705 Validation Accuracy: 0.702400\n",
      "Epoch 45, CIFAR-10 Batch 5:  Loss:     0.1322 Validation Accuracy: 0.697600\n",
      "Epoch 46, CIFAR-10 Batch 1:  Loss:     0.1446 Validation Accuracy: 0.693400\n",
      "Epoch 46, CIFAR-10 Batch 2:  Loss:     0.0943 Validation Accuracy: 0.703600\n",
      "Epoch 46, CIFAR-10 Batch 3:  Loss:     0.1016 Validation Accuracy: 0.694800\n",
      "Epoch 46, CIFAR-10 Batch 4:  Loss:     0.0854 Validation Accuracy: 0.694400\n",
      "Epoch 46, CIFAR-10 Batch 5:  Loss:     0.0557 Validation Accuracy: 0.707200\n",
      "Epoch 47, CIFAR-10 Batch 1:  Loss:     0.1214 Validation Accuracy: 0.696200\n",
      "Epoch 47, CIFAR-10 Batch 2:  Loss:     0.0977 Validation Accuracy: 0.701000\n",
      "Epoch 47, CIFAR-10 Batch 3:  Loss:     0.0743 Validation Accuracy: 0.699400\n",
      "Epoch 47, CIFAR-10 Batch 4:  Loss:     0.1200 Validation Accuracy: 0.697200\n",
      "Epoch 47, CIFAR-10 Batch 5:  Loss:     0.1328 Validation Accuracy: 0.696400\n",
      "Epoch 48, CIFAR-10 Batch 1:  Loss:     0.0908 Validation Accuracy: 0.697400\n",
      "Epoch 48, CIFAR-10 Batch 2:  Loss:     0.1624 Validation Accuracy: 0.704200\n",
      "Epoch 48, CIFAR-10 Batch 3:  Loss:     0.1079 Validation Accuracy: 0.698800\n",
      "Epoch 48, CIFAR-10 Batch 4:  Loss:     0.0889 Validation Accuracy: 0.711800\n",
      "Epoch 48, CIFAR-10 Batch 5:  Loss:     0.0664 Validation Accuracy: 0.703600\n",
      "Epoch 49, CIFAR-10 Batch 1:  Loss:     0.1411 Validation Accuracy: 0.688000\n",
      "Epoch 49, CIFAR-10 Batch 2:  Loss:     0.0943 Validation Accuracy: 0.701400\n",
      "Epoch 49, CIFAR-10 Batch 3:  Loss:     0.0997 Validation Accuracy: 0.690200\n",
      "Epoch 49, CIFAR-10 Batch 4:  Loss:     0.0731 Validation Accuracy: 0.705400\n",
      "Epoch 49, CIFAR-10 Batch 5:  Loss:     0.0634 Validation Accuracy: 0.691800\n",
      "Epoch 50, CIFAR-10 Batch 1:  Loss:     0.1377 Validation Accuracy: 0.695800\n",
      "Epoch 50, CIFAR-10 Batch 2:  Loss:     0.1180 Validation Accuracy: 0.701000\n",
      "Epoch 50, CIFAR-10 Batch 3:  Loss:     0.0810 Validation Accuracy: 0.704600\n",
      "Epoch 50, CIFAR-10 Batch 4:  Loss:     0.0375 Validation Accuracy: 0.698600\n",
      "Epoch 50, CIFAR-10 Batch 5:  Loss:     0.0546 Validation Accuracy: 0.696200\n"
     ]
    }
   ],
   "source": [
    "\"\"\"\n",
    "DON'T MODIFY ANYTHING IN THIS CELL\n",
    "\"\"\"\n",
    "save_model_path = './image_classification'\n",
    "\n",
    "print('Training...')\n",
    "with tf.Session() as sess:\n",
    "    # Initializing the variables\n",
    "    sess.run(tf.global_variables_initializer())\n",
    "    \n",
    "    # Training cycle\n",
    "    for epoch in range(epochs):\n",
    "        # Loop over all batches\n",
    "        n_batches = 5\n",
    "        for batch_i in range(1, n_batches + 1):\n",
    "            for batch_features, batch_labels in helper.load_preprocess_training_batch(batch_i, batch_size):\n",
    "                train_neural_network(sess, optimizer, keep_probability, batch_features, batch_labels)\n",
    "            print('Epoch {:>2}, CIFAR-10 Batch {}:  '.format(epoch + 1, batch_i), end='')\n",
    "            print_stats(sess, batch_features, batch_labels, cost, accuracy)\n",
    "            \n",
    "    # Save Model\n",
    "    saver = tf.train.Saver()\n",
    "    save_path = saver.save(sess, save_model_path)"
   ]
  },
  {
   "cell_type": "markdown",
   "metadata": {
    "deletable": true,
    "editable": true
   },
   "source": [
    "# Checkpoint\n",
    "The model has been saved to disk.\n",
    "## Test Model\n",
    "Test your model against the test dataset.  This will be your final accuracy. You should have an accuracy greater than 50%. If you don't, keep tweaking the model architecture and parameters."
   ]
  },
  {
   "cell_type": "code",
   "execution_count": 18,
   "metadata": {
    "ExecuteTime": {
     "start_time": "2017-05-15T03:07:37.851Z"
    },
    "collapsed": false,
    "deletable": true,
    "editable": true
   },
   "outputs": [
    {
     "name": "stdout",
     "output_type": "stream",
     "text": [
      "Testing Accuracy: 0.6873999679088593\n",
      "\n"
     ]
    },
    {
     "data": {
      "image/png": "[encoded data removed]",
      "text/plain": [
       "<matplotlib.figure.Figure at 0x7f2a5c6f66a0>"
      ]
     },
     "metadata": {
      "image/png": {
       "height": 319,
       "width": 355
      }
     },
     "output_type": "display_data"
    }
   ],
   "source": [
    "\"\"\"\n",
    "DON'T MODIFY ANYTHING IN THIS CELL\n",
    "\"\"\"\n",
    "%matplotlib inline\n",
    "%config InlineBackend.figure_format = 'retina'\n",
    "\n",
    "import tensorflow as tf\n",
    "import pickle\n",
    "import helper\n",
    "import random\n",
    "\n",
    "# Set batch size if not already set\n",
    "try:\n",
    "    if batch_size:\n",
    "        pass\n",
    "except NameError:\n",
    "    batch_size = 64\n",
    "\n",
    "save_model_path = './image_classification'\n",
    "n_samples = 4\n",
    "top_n_predictions = 3\n",
    "\n",
    "def test_model():\n",
    "    \"\"\"\n",
    "    Test the saved model against the test dataset\n",
    "    \"\"\"\n",
    "\n",
    "    test_features, test_labels = pickle.load(open('preprocess_test.p', mode='rb'))\n",
    "    loaded_graph = tf.Graph()\n",
    "\n",
    "    with tf.Session(graph=loaded_graph) as sess:\n",
    "        # Load model\n",
    "        loader = tf.train.import_meta_graph(save_model_path + '.meta')\n",
    "        loader.restore(sess, save_model_path)\n",
    "\n",
    "        # Get Tensors from loaded model\n",
    "        loaded_x = loaded_graph.get_tensor_by_name('x:0')\n",
    "        loaded_y = loaded_graph.get_tensor_by_name('y:0')\n",
    "        loaded_keep_prob = loaded_graph.get_tensor_by_name('keep_prob:0')\n",
    "        loaded_logits = loaded_graph.get_tensor_by_name('logits:0')\n",
    "        loaded_acc = loaded_graph.get_tensor_by_name('accuracy:0')\n",
    "        \n",
    "        # Get accuracy in batches for memory limitations\n",
    "        test_batch_acc_total = 0\n",
    "        test_batch_count = 0\n",
    "        \n",
    "        for test_feature_batch, test_label_batch in helper.batch_features_labels(test_features, test_labels, batch_size):\n",
    "            test_batch_acc_total += sess.run(\n",
    "                loaded_acc,\n",
    "                feed_dict={loaded_x: test_feature_batch, loaded_y: test_label_batch, loaded_keep_prob: 1.0})\n",
    "            test_batch_count += 1\n",
    "\n",
    "        print('Testing Accuracy: {}\\n'.format(test_batch_acc_total/test_batch_count))\n",
    "\n",
    "        # Print Random Samples\n",
    "        random_test_features, random_test_labels = tuple(zip(*random.sample(list(zip(test_features, test_labels)), n_samples)))\n",
    "        random_test_predictions = sess.run(\n",
    "            tf.nn.top_k(tf.nn.softmax(loaded_logits), top_n_predictions),\n",
    "            feed_dict={loaded_x: random_test_features, loaded_y: random_test_labels, loaded_keep_prob: 1.0})\n",
    "        helper.display_image_predictions(random_test_features, random_test_labels, random_test_predictions)\n",
    "\n",
    "\n",
    "test_model()"
   ]
  },
  {
   "cell_type": "markdown",
   "metadata": {
    "deletable": true,
    "editable": true
   },
   "source": [
    "## Why 50-80% Accuracy?\n",
    "You might be wondering why you can't get an accuracy any higher. First things first, 50% isn't bad for a simple CNN.  Pure guessing would get you 10% accuracy. However, you might notice people are getting scores [well above 80%](http://rodrigob.github.io/are_we_there_yet/build/classification_datasets_results.html#43494641522d3130).  That's because we haven't taught you all there is to know about neural networks. We still need to cover a few more techniques.\n",
    "## Submitting This Project\n",
    "When submitting this project, make sure to run all the cells before saving the notebook.  Save the notebook file as \"dlnd_image_classification.ipynb\" and save it as a HTML file under \"File\" -> \"Download as\".  Include the \"helper.py\" and \"problem_unittests.py\" files in your submission."
   ]
  },
  {
   "cell_type": "code",
   "execution_count": null,
   "metadata": {
    "collapsed": true,
    "deletable": true,
    "editable": true
   },
   "outputs": [],
   "source": []
  }
 ],
 "metadata": {
  "kernelspec": {
   "display_name": "Python 3",
   "language": "python",
   "name": "python3"
  },
  "language_info": {
   "codemirror_mode": {
    "name": "ipython",
    "version": 3
   },
   "file_extension": ".py",
   "mimetype": "text/x-python",
   "name": "python",
   "nbconvert_exporter": "python",
   "pygments_lexer": "ipython3",
   "version": "3.5.3"
  },
  "latex_envs": {
   "bibliofile": "biblio.bib",
   "cite_by": "apalike",
   "current_citInitial": 1,
   "eqLabelWithNumbers": true,
   "eqNumInitial": 0
  },
  "toc": {
   "nav_menu": {
    "height": "480px",
    "width": "252px"
   },
   "navigate_menu": true,
   "number_sections": true,
   "sideBar": true,
   "threshold": 4,
   "toc_cell": false,
   "toc_section_display": "block",
   "toc_window_display": false
  }
 },
 "nbformat": 4,
 "nbformat_minor": 0
}
